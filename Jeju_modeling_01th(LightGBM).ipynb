{
  "nbformat": 4,
  "nbformat_minor": 0,
  "metadata": {
    "colab": {
      "name": "Jeju_modeling(LightGBM).ipynb",
      "provenance": [],
      "collapsed_sections": [],
      "machine_shape": "hm"
    },
    "kernelspec": {
      "name": "python3",
      "display_name": "Python 3"
    }
  },
  "cells": [
    {
      "cell_type": "code",
      "metadata": {
        "id": "JetCxxC3bMsS",
        "colab_type": "code",
        "colab": {
          "base_uri": "https://localhost:8080/",
          "height": 311
        },
        "outputId": "e253ee9f-9fc9-4e86-b95c-7b8a49ca3f78"
      },
      "source": [
        "import numpy as np\n",
        "import pandas as pd\n",
        "import matplotlib as mpl\n",
        "import matplotlib.pyplot as plt\n",
        "import seaborn as sns\n",
        "from sklearn.preprocessing import LabelEncoder\n",
        "\n",
        "!pip install bayesian-optimization\n",
        "\n",
        "from sklearn.model_selection import KFold,StratifiedKFold   # K-fold CV \n",
        "from bayes_opt import BayesianOptimization  # 베이지안 최적화 라이브러리\n",
        "from functools import partial               # 함수 변수 고정\n",
        "import lightgbm as lgb                      # LightGBM 라이브러리\n",
        "from sklearn.metrics import mean_squared_error\n",
        "from sklearn.metrics import mean_squared_log_error\n",
        "\n",
        "import warnings\n",
        "warnings.filterwarnings(action = 'ignore')\n",
        "\n",
        "from imblearn.over_sampling import SMOTE"
      ],
      "execution_count": null,
      "outputs": [
        {
          "output_type": "stream",
          "text": [
            "/usr/local/lib/python3.6/dist-packages/statsmodels/tools/_testing.py:19: FutureWarning: pandas.util.testing is deprecated. Use the functions in the public API at pandas.testing instead.\n",
            "  import pandas.util.testing as tm\n"
          ],
          "name": "stderr"
        },
        {
          "output_type": "stream",
          "text": [
            "Collecting bayesian-optimization\n",
            "  Downloading https://files.pythonhosted.org/packages/bb/7a/fd8059a3881d3ab37ac8f72f56b73937a14e8bb14a9733e68cc8b17dbe3c/bayesian-optimization-1.2.0.tar.gz\n",
            "Requirement already satisfied: numpy>=1.9.0 in /usr/local/lib/python3.6/dist-packages (from bayesian-optimization) (1.18.5)\n",
            "Requirement already satisfied: scipy>=0.14.0 in /usr/local/lib/python3.6/dist-packages (from bayesian-optimization) (1.4.1)\n",
            "Requirement already satisfied: scikit-learn>=0.18.0 in /usr/local/lib/python3.6/dist-packages (from bayesian-optimization) (0.22.2.post1)\n",
            "Requirement already satisfied: joblib>=0.11 in /usr/local/lib/python3.6/dist-packages (from scikit-learn>=0.18.0->bayesian-optimization) (0.15.1)\n",
            "Building wheels for collected packages: bayesian-optimization\n",
            "  Building wheel for bayesian-optimization (setup.py) ... \u001b[?25l\u001b[?25hdone\n",
            "  Created wheel for bayesian-optimization: filename=bayesian_optimization-1.2.0-cp36-none-any.whl size=11685 sha256=8e2d94b7848ac8734d39a90d527292b6e8136750364238732ad7091d50a9d4f2\n",
            "  Stored in directory: /root/.cache/pip/wheels/5a/56/ae/e0e3c1fc1954dc3ec712e2df547235ed072b448094d8f94aec\n",
            "Successfully built bayesian-optimization\n",
            "Installing collected packages: bayesian-optimization\n",
            "Successfully installed bayesian-optimization-1.2.0\n"
          ],
          "name": "stdout"
        }
      ]
    },
    {
      "cell_type": "code",
      "metadata": {
        "id": "nuIYmSSDbFx_",
        "colab_type": "code",
        "colab": {}
      },
      "source": [
        "data=pd.read_csv('/content/drive/My Drive/Colab Notebooks/data/데이콘/제주/201901-202003.csv')\n",
        "sub = pd.read_csv('/content/drive/My Drive/Colab Notebooks/data/데이콘/제주/submission.csv')"
      ],
      "execution_count": null,
      "outputs": []
    },
    {
      "cell_type": "markdown",
      "metadata": {
        "id": "SsqmsdsvbAzN",
        "colab_type": "text"
      },
      "source": [
        "# Base Line 1\n",
        "- Dacon Base Line + LightGBM 활용"
      ]
    },
    {
      "cell_type": "code",
      "metadata": {
        "id": "7dVwUHmxRkr5",
        "colab_type": "code",
        "colab": {}
      },
      "source": [
        "def grap_year(data):\n",
        "    data = str(data)\n",
        "    return int(data[:4])\n",
        "\n",
        "def grap_month(data):\n",
        "    data = str(data)\n",
        "    return int(data[4:])"
      ],
      "execution_count": null,
      "outputs": []
    },
    {
      "cell_type": "code",
      "metadata": {
        "id": "y3evMjQqbKfQ",
        "colab_type": "code",
        "colab": {}
      },
      "source": [
        "# 날짜 처리\n",
        "data = data.fillna('')\n",
        "data['year'] = data['REG_YYMM'].apply(lambda x: grap_year(x))\n",
        "data['month'] = data['REG_YYMM'].apply(lambda x: grap_month(x))\n",
        "data = data.drop(['REG_YYMM'], axis=1)"
      ],
      "execution_count": null,
      "outputs": []
    },
    {
      "cell_type": "code",
      "metadata": {
        "id": "TgwnohYsPdZ7",
        "colab_type": "code",
        "colab": {}
      },
      "source": [
        "# 데이터 정제\n",
        "df = data.copy()\n",
        "df = df.drop(['CARD_CCG_NM', 'HOM_CCG_NM'], axis=1)\n",
        "\n",
        "columns = ['CARD_SIDO_NM', 'STD_CLSS_NM', 'HOM_SIDO_NM', 'AGE', 'SEX_CTGO_CD', 'FLC', 'year', 'month']\n",
        "df = df.groupby(columns).sum().reset_index(drop=False)"
      ],
      "execution_count": null,
      "outputs": []
    },
    {
      "cell_type": "code",
      "metadata": {
        "id": "Yf84QGCEPI6I",
        "colab_type": "code",
        "colab": {}
      },
      "source": [
        "df"
      ],
      "execution_count": null,
      "outputs": []
    },
    {
      "cell_type": "code",
      "metadata": {
        "id": "Q8-zLP4ITFls",
        "colab_type": "code",
        "colab": {}
      },
      "source": [
        "# 인코딩\n",
        "dtypes = df.dtypes\n",
        "encoders = {}\n",
        "for column in df.columns:\n",
        "    if str(dtypes[column]) == 'object':\n",
        "        encoder = LabelEncoder()\n",
        "        encoder.fit(df[column])\n",
        "        encoders[column] = encoder\n",
        "        \n",
        "df_num = df.copy()        \n",
        "for column in encoders.keys():\n",
        "    encoder = encoders[column]\n",
        "    df_num[column] = encoder.transform(df[column])"
      ],
      "execution_count": null,
      "outputs": []
    },
    {
      "cell_type": "code",
      "metadata": {
        "id": "Zkji42v9TGJm",
        "colab_type": "code",
        "colab": {
          "base_uri": "https://localhost:8080/",
          "height": 419
        },
        "outputId": "337098ac-169c-4a76-8439-f441ec75783e"
      },
      "source": [
        "df_num"
      ],
      "execution_count": null,
      "outputs": [
        {
          "output_type": "execute_result",
          "data": {
            "text/html": [
              "<div>\n",
              "<style scoped>\n",
              "    .dataframe tbody tr th:only-of-type {\n",
              "        vertical-align: middle;\n",
              "    }\n",
              "\n",
              "    .dataframe tbody tr th {\n",
              "        vertical-align: top;\n",
              "    }\n",
              "\n",
              "    .dataframe thead th {\n",
              "        text-align: right;\n",
              "    }\n",
              "</style>\n",
              "<table border=\"1\" class=\"dataframe\">\n",
              "  <thead>\n",
              "    <tr style=\"text-align: right;\">\n",
              "      <th></th>\n",
              "      <th>CARD_SIDO_NM</th>\n",
              "      <th>STD_CLSS_NM</th>\n",
              "      <th>HOM_SIDO_NM</th>\n",
              "      <th>AGE</th>\n",
              "      <th>SEX_CTGO_CD</th>\n",
              "      <th>FLC</th>\n",
              "      <th>year</th>\n",
              "      <th>month</th>\n",
              "      <th>CSTMR_CNT</th>\n",
              "      <th>AMT</th>\n",
              "      <th>CNT</th>\n",
              "    </tr>\n",
              "  </thead>\n",
              "  <tbody>\n",
              "    <tr>\n",
              "      <th>0</th>\n",
              "      <td>0</td>\n",
              "      <td>0</td>\n",
              "      <td>0</td>\n",
              "      <td>1</td>\n",
              "      <td>1</td>\n",
              "      <td>1</td>\n",
              "      <td>2019</td>\n",
              "      <td>1</td>\n",
              "      <td>4</td>\n",
              "      <td>311200</td>\n",
              "      <td>4</td>\n",
              "    </tr>\n",
              "    <tr>\n",
              "      <th>1</th>\n",
              "      <td>0</td>\n",
              "      <td>0</td>\n",
              "      <td>0</td>\n",
              "      <td>1</td>\n",
              "      <td>1</td>\n",
              "      <td>1</td>\n",
              "      <td>2019</td>\n",
              "      <td>2</td>\n",
              "      <td>3</td>\n",
              "      <td>605000</td>\n",
              "      <td>3</td>\n",
              "    </tr>\n",
              "    <tr>\n",
              "      <th>2</th>\n",
              "      <td>0</td>\n",
              "      <td>0</td>\n",
              "      <td>0</td>\n",
              "      <td>1</td>\n",
              "      <td>1</td>\n",
              "      <td>1</td>\n",
              "      <td>2019</td>\n",
              "      <td>6</td>\n",
              "      <td>3</td>\n",
              "      <td>139000</td>\n",
              "      <td>3</td>\n",
              "    </tr>\n",
              "    <tr>\n",
              "      <th>3</th>\n",
              "      <td>0</td>\n",
              "      <td>0</td>\n",
              "      <td>0</td>\n",
              "      <td>1</td>\n",
              "      <td>1</td>\n",
              "      <td>1</td>\n",
              "      <td>2019</td>\n",
              "      <td>8</td>\n",
              "      <td>3</td>\n",
              "      <td>27500</td>\n",
              "      <td>3</td>\n",
              "    </tr>\n",
              "    <tr>\n",
              "      <th>4</th>\n",
              "      <td>0</td>\n",
              "      <td>0</td>\n",
              "      <td>0</td>\n",
              "      <td>1</td>\n",
              "      <td>1</td>\n",
              "      <td>1</td>\n",
              "      <td>2019</td>\n",
              "      <td>9</td>\n",
              "      <td>3</td>\n",
              "      <td>395500</td>\n",
              "      <td>3</td>\n",
              "    </tr>\n",
              "    <tr>\n",
              "      <th>...</th>\n",
              "      <td>...</td>\n",
              "      <td>...</td>\n",
              "      <td>...</td>\n",
              "      <td>...</td>\n",
              "      <td>...</td>\n",
              "      <td>...</td>\n",
              "      <td>...</td>\n",
              "      <td>...</td>\n",
              "      <td>...</td>\n",
              "      <td>...</td>\n",
              "      <td>...</td>\n",
              "    </tr>\n",
              "    <tr>\n",
              "      <th>1057389</th>\n",
              "      <td>16</td>\n",
              "      <td>40</td>\n",
              "      <td>16</td>\n",
              "      <td>6</td>\n",
              "      <td>2</td>\n",
              "      <td>5</td>\n",
              "      <td>2019</td>\n",
              "      <td>3</td>\n",
              "      <td>3</td>\n",
              "      <td>148000</td>\n",
              "      <td>4</td>\n",
              "    </tr>\n",
              "    <tr>\n",
              "      <th>1057390</th>\n",
              "      <td>16</td>\n",
              "      <td>40</td>\n",
              "      <td>16</td>\n",
              "      <td>6</td>\n",
              "      <td>2</td>\n",
              "      <td>5</td>\n",
              "      <td>2019</td>\n",
              "      <td>5</td>\n",
              "      <td>5</td>\n",
              "      <td>329800</td>\n",
              "      <td>7</td>\n",
              "    </tr>\n",
              "    <tr>\n",
              "      <th>1057391</th>\n",
              "      <td>16</td>\n",
              "      <td>40</td>\n",
              "      <td>16</td>\n",
              "      <td>6</td>\n",
              "      <td>2</td>\n",
              "      <td>5</td>\n",
              "      <td>2019</td>\n",
              "      <td>10</td>\n",
              "      <td>7</td>\n",
              "      <td>557800</td>\n",
              "      <td>7</td>\n",
              "    </tr>\n",
              "    <tr>\n",
              "      <th>1057392</th>\n",
              "      <td>16</td>\n",
              "      <td>40</td>\n",
              "      <td>16</td>\n",
              "      <td>6</td>\n",
              "      <td>2</td>\n",
              "      <td>5</td>\n",
              "      <td>2019</td>\n",
              "      <td>12</td>\n",
              "      <td>3</td>\n",
              "      <td>247800</td>\n",
              "      <td>3</td>\n",
              "    </tr>\n",
              "    <tr>\n",
              "      <th>1057393</th>\n",
              "      <td>16</td>\n",
              "      <td>40</td>\n",
              "      <td>16</td>\n",
              "      <td>6</td>\n",
              "      <td>2</td>\n",
              "      <td>5</td>\n",
              "      <td>2020</td>\n",
              "      <td>1</td>\n",
              "      <td>3</td>\n",
              "      <td>230400</td>\n",
              "      <td>3</td>\n",
              "    </tr>\n",
              "  </tbody>\n",
              "</table>\n",
              "<p>1057394 rows × 11 columns</p>\n",
              "</div>"
            ],
            "text/plain": [
              "         CARD_SIDO_NM  STD_CLSS_NM  HOM_SIDO_NM  ...  CSTMR_CNT     AMT  CNT\n",
              "0                   0            0            0  ...          4  311200    4\n",
              "1                   0            0            0  ...          3  605000    3\n",
              "2                   0            0            0  ...          3  139000    3\n",
              "3                   0            0            0  ...          3   27500    3\n",
              "4                   0            0            0  ...          3  395500    3\n",
              "...               ...          ...          ...  ...        ...     ...  ...\n",
              "1057389            16           40           16  ...          3  148000    4\n",
              "1057390            16           40           16  ...          5  329800    7\n",
              "1057391            16           40           16  ...          7  557800    7\n",
              "1057392            16           40           16  ...          3  247800    3\n",
              "1057393            16           40           16  ...          3  230400    3\n",
              "\n",
              "[1057394 rows x 11 columns]"
            ]
          },
          "metadata": {
            "tags": []
          },
          "execution_count": 8
        }
      ]
    },
    {
      "cell_type": "code",
      "metadata": {
        "id": "Sa35KrlJUvu8",
        "colab_type": "code",
        "colab": {}
      },
      "source": [
        "# feature, target 설정\n",
        "train_num = df_num.sample(frac=1, random_state=0)\n",
        "train_features = train_num.drop(['CSTMR_CNT', 'AMT', 'CNT'], axis=1)\n",
        "train_target = np.log1p(train_num['AMT'])"
      ],
      "execution_count": null,
      "outputs": []
    },
    {
      "cell_type": "code",
      "metadata": {
        "id": "zbG-rUlfVpFG",
        "colab_type": "code",
        "colab": {}
      },
      "source": [
        "def lgb_cv(num_leaves, learning_rate, n_estimators, subsample, colsample_bytree, reg_alpha,reg_lambda, x_data=None, y_data=None, n_splits=5, output='model'):\n",
        "    score = 0\n",
        "    skf = StratifiedKFold(n_splits=n_splits, shuffle=True, random_state=201)\n",
        "    models = []\n",
        "    for train_index, valid_index in skf.split(x_data,x_data['month']):\n",
        "       #print(train_index)\n",
        "       x_train, y_train = x_data.iloc[train_index], y_data.iloc[train_index]\n",
        "       x_valid, y_valid = x_data.iloc[valid_index], y_data.iloc[valid_index]\n",
        "        \n",
        "       model = lgb.LGBMRegressor(\n",
        "               \n",
        "           num_leaves = int(num_leaves), \n",
        "           learning_rate = learning_rate, \n",
        "           n_estimators = int(n_estimators), \n",
        "           subsample = np.clip(subsample, 0, 1), \n",
        "           colsample_bytree = np.clip(colsample_bytree, 0, 1), \n",
        "           reg_alpha = reg_alpha, \n",
        "           reg_lambda = reg_lambda,\n",
        "           )\n",
        "       \n",
        "       model.fit(x_train, y_train)\n",
        "       models.append(model)\n",
        "        \n",
        "       pred = model.predict(x_valid)\n",
        "       true = y_valid\n",
        "       RMSE = (mean_squared_error(true, pred)**0.5)*(-1)\n",
        "       score += RMSE/n_splits\n",
        "    \n",
        "    if output == 'score':\n",
        "        return score\n",
        "    if output == 'model':\n",
        "        return models"
      ],
      "execution_count": null,
      "outputs": []
    },
    {
      "cell_type": "code",
      "metadata": {
        "id": "D7ikoJDMWtBu",
        "colab_type": "code",
        "colab": {
          "base_uri": "https://localhost:8080/",
          "height": 431
        },
        "outputId": "4000cfe3-31f9-481f-da83-0d822fc9b78d"
      },
      "source": [
        "func_fixed = partial(lgb_cv, x_data=train_features, y_data=train_target, n_splits=5, output='score') \n",
        "\n",
        "lgbBO = BayesianOptimization(\n",
        "    func_fixed, \n",
        "    {\n",
        "        'num_leaves': (4, 16),\n",
        "        'learning_rate': (0.0001, 0.1),\n",
        "        'n_estimators': (4, 16),\n",
        "        'subsample': (0.01, 1),\n",
        "        'colsample_bytree': (0.01, 1),\n",
        "        'reg_alpha': (0.01, 10), \n",
        "        'reg_lambda': (0.01, 50),\n",
        "    }, \n",
        "    random_state=4321\n",
        ")\n",
        "lgbBO.maximize(init_points=15, n_iter=5) #30"
      ],
      "execution_count": null,
      "outputs": [
        {
          "output_type": "stream",
          "text": [
            "|   iter    |  target   | colsam... | learni... | n_esti... | num_le... | reg_alpha | reg_la... | subsample |\n",
            "-------------------------------------------------------------------------------------------------------------\n",
            "| \u001b[0m 1       \u001b[0m | \u001b[0m-2.484   \u001b[0m | \u001b[0m 0.08009 \u001b[0m | \u001b[0m 0.08152 \u001b[0m | \u001b[0m 13.21   \u001b[0m | \u001b[0m 7.436   \u001b[0m | \u001b[0m 1.939   \u001b[0m | \u001b[0m 48.95   \u001b[0m | \u001b[0m 0.4122  \u001b[0m |\n",
            "| \u001b[0m 2       \u001b[0m | \u001b[0m-2.498   \u001b[0m | \u001b[0m 0.7602  \u001b[0m | \u001b[0m 0.009006\u001b[0m | \u001b[0m 7.719   \u001b[0m | \u001b[0m 11.43   \u001b[0m | \u001b[0m 4.605   \u001b[0m | \u001b[0m 10.92   \u001b[0m | \u001b[0m 0.6669  \u001b[0m |\n",
            "| \u001b[95m 3       \u001b[0m | \u001b[95m-2.421   \u001b[0m | \u001b[95m 0.6819  \u001b[0m | \u001b[95m 0.09504 \u001b[0m | \u001b[95m 7.375   \u001b[0m | \u001b[95m 11.44   \u001b[0m | \u001b[95m 3.839   \u001b[0m | \u001b[95m 20.02   \u001b[0m | \u001b[95m 0.9432  \u001b[0m |\n",
            "| \u001b[95m 4       \u001b[0m | \u001b[95m-2.416   \u001b[0m | \u001b[95m 0.9306  \u001b[0m | \u001b[95m 0.09484 \u001b[0m | \u001b[95m 8.506   \u001b[0m | \u001b[95m 8.108   \u001b[0m | \u001b[95m 6.651   \u001b[0m | \u001b[95m 2.126   \u001b[0m | \u001b[95m 0.2399  \u001b[0m |\n",
            "| \u001b[0m 5       \u001b[0m | \u001b[0m-2.499   \u001b[0m | \u001b[0m 0.4358  \u001b[0m | \u001b[0m 0.007886\u001b[0m | \u001b[0m 13.2    \u001b[0m | \u001b[0m 14.25   \u001b[0m | \u001b[0m 1.513   \u001b[0m | \u001b[0m 5.066   \u001b[0m | \u001b[0m 0.2782  \u001b[0m |\n",
            "| \u001b[0m 6       \u001b[0m | \u001b[0m-2.482   \u001b[0m | \u001b[0m 0.03986 \u001b[0m | \u001b[0m 0.0838  \u001b[0m | \u001b[0m 11.17   \u001b[0m | \u001b[0m 15.17   \u001b[0m | \u001b[0m 4.96    \u001b[0m | \u001b[0m 18.83   \u001b[0m | \u001b[0m 0.2513  \u001b[0m |\n",
            "| \u001b[0m 7       \u001b[0m | \u001b[0m-2.476   \u001b[0m | \u001b[0m 0.6058  \u001b[0m | \u001b[0m 0.03304 \u001b[0m | \u001b[0m 9.54    \u001b[0m | \u001b[0m 12.7    \u001b[0m | \u001b[0m 8.12    \u001b[0m | \u001b[0m 49.3    \u001b[0m | \u001b[0m 0.2347  \u001b[0m |\n",
            "| \u001b[0m 8       \u001b[0m | \u001b[0m-2.502   \u001b[0m | \u001b[0m 0.572   \u001b[0m | \u001b[0m 0.004085\u001b[0m | \u001b[0m 15.24   \u001b[0m | \u001b[0m 7.255   \u001b[0m | \u001b[0m 5.755   \u001b[0m | \u001b[0m 18.31   \u001b[0m | \u001b[0m 0.2704  \u001b[0m |\n",
            "| \u001b[0m 9       \u001b[0m | \u001b[0m-2.493   \u001b[0m | \u001b[0m 0.2029  \u001b[0m | \u001b[0m 0.0565  \u001b[0m | \u001b[0m 14.65   \u001b[0m | \u001b[0m 4.562   \u001b[0m | \u001b[0m 0.8645  \u001b[0m | \u001b[0m 4.158   \u001b[0m | \u001b[0m 0.2905  \u001b[0m |\n",
            "| \u001b[0m 10      \u001b[0m | \u001b[0m-2.501   \u001b[0m | \u001b[0m 0.3037  \u001b[0m | \u001b[0m 0.01919 \u001b[0m | \u001b[0m 8.97    \u001b[0m | \u001b[0m 10.19   \u001b[0m | \u001b[0m 6.887   \u001b[0m | \u001b[0m 1.17    \u001b[0m | \u001b[0m 0.9682  \u001b[0m |\n",
            "| \u001b[0m 11      \u001b[0m | \u001b[0m-2.427   \u001b[0m | \u001b[0m 0.6811  \u001b[0m | \u001b[0m 0.09395 \u001b[0m | \u001b[0m 12.3    \u001b[0m | \u001b[0m 6.084   \u001b[0m | \u001b[0m 2.287   \u001b[0m | \u001b[0m 47.85   \u001b[0m | \u001b[0m 0.5331  \u001b[0m |\n",
            "| \u001b[0m 12      \u001b[0m | \u001b[0m-2.464   \u001b[0m | \u001b[0m 0.5605  \u001b[0m | \u001b[0m 0.0934  \u001b[0m | \u001b[0m 6.84    \u001b[0m | \u001b[0m 7.438   \u001b[0m | \u001b[0m 7.742   \u001b[0m | \u001b[0m 4.996   \u001b[0m | \u001b[0m 0.1828  \u001b[0m |\n",
            "| \u001b[0m 13      \u001b[0m | \u001b[0m-2.501   \u001b[0m | \u001b[0m 0.4945  \u001b[0m | \u001b[0m 0.01589 \u001b[0m | \u001b[0m 7.838   \u001b[0m | \u001b[0m 11.93   \u001b[0m | \u001b[0m 3.486   \u001b[0m | \u001b[0m 21.75   \u001b[0m | \u001b[0m 0.57    \u001b[0m |\n",
            "| \u001b[0m 14      \u001b[0m | \u001b[0m-2.502   \u001b[0m | \u001b[0m 0.7773  \u001b[0m | \u001b[0m 0.006819\u001b[0m | \u001b[0m 5.944   \u001b[0m | \u001b[0m 12.87   \u001b[0m | \u001b[0m 3.126   \u001b[0m | \u001b[0m 2.518   \u001b[0m | \u001b[0m 0.6933  \u001b[0m |\n",
            "| \u001b[0m 15      \u001b[0m | \u001b[0m-2.457   \u001b[0m | \u001b[0m 0.7911  \u001b[0m | \u001b[0m 0.05806 \u001b[0m | \u001b[0m 7.093   \u001b[0m | \u001b[0m 7.686   \u001b[0m | \u001b[0m 4.392   \u001b[0m | \u001b[0m 25.98   \u001b[0m | \u001b[0m 0.6847  \u001b[0m |\n",
            "| \u001b[0m 16      \u001b[0m | \u001b[0m-2.507   \u001b[0m | \u001b[0m 0.01    \u001b[0m | \u001b[0m 0.1     \u001b[0m | \u001b[0m 4.0     \u001b[0m | \u001b[0m 4.0     \u001b[0m | \u001b[0m 10.0    \u001b[0m | \u001b[0m 50.0    \u001b[0m | \u001b[0m 1.0     \u001b[0m |\n",
            "| \u001b[0m 17      \u001b[0m | \u001b[0m-2.428   \u001b[0m | \u001b[0m 1.0     \u001b[0m | \u001b[0m 0.1     \u001b[0m | \u001b[0m 16.0    \u001b[0m | \u001b[0m 4.0     \u001b[0m | \u001b[0m 10.0    \u001b[0m | \u001b[0m 41.29   \u001b[0m | \u001b[0m 1.0     \u001b[0m |\n",
            "| \u001b[0m 18      \u001b[0m | \u001b[0m-2.475   \u001b[0m | \u001b[0m 1.0     \u001b[0m | \u001b[0m 0.1     \u001b[0m | \u001b[0m 4.0     \u001b[0m | \u001b[0m 4.0     \u001b[0m | \u001b[0m 0.01    \u001b[0m | \u001b[0m 0.01    \u001b[0m | \u001b[0m 1.0     \u001b[0m |\n",
            "| \u001b[0m 19      \u001b[0m | \u001b[0m-2.426   \u001b[0m | \u001b[0m 1.0     \u001b[0m | \u001b[0m 0.1     \u001b[0m | \u001b[0m 4.0     \u001b[0m | \u001b[0m 16.0    \u001b[0m | \u001b[0m 10.0    \u001b[0m | \u001b[0m 24.1    \u001b[0m | \u001b[0m 1.0     \u001b[0m |\n",
            "| \u001b[0m 20      \u001b[0m | \u001b[0m-2.429   \u001b[0m | \u001b[0m 1.0     \u001b[0m | \u001b[0m 0.1     \u001b[0m | \u001b[0m 16.0    \u001b[0m | \u001b[0m 4.0     \u001b[0m | \u001b[0m 10.0    \u001b[0m | \u001b[0m 0.01    \u001b[0m | \u001b[0m 0.01    \u001b[0m |\n",
            "=============================================================================================================\n"
          ],
          "name": "stdout"
        }
      ]
    },
    {
      "cell_type": "code",
      "metadata": {
        "id": "lRRUFqD2bQeC",
        "colab_type": "code",
        "colab": {}
      },
      "source": [
        "params = lgbBO.max['params']\n",
        "models = lgb_cv(\n",
        "    params['num_leaves'],   \n",
        "    params['learning_rate'], \n",
        "    params['n_estimators'], \n",
        "    params['subsample'], \n",
        "    params['colsample_bytree'], \n",
        "    params['reg_alpha'], \n",
        "    params['reg_lambda'], \n",
        "    x_data=train_features, y_data=train_target, n_splits=5, output='model')"
      ],
      "execution_count": null,
      "outputs": []
    },
    {
      "cell_type": "code",
      "metadata": {
        "id": "wHrfklmlUobO",
        "colab_type": "code",
        "colab": {}
      },
      "source": [
        "# 예측 템플릿 만들기\n",
        "CARD_SIDO_NMs = df_num['CARD_SIDO_NM'].unique()\n",
        "STD_CLSS_NMs  = df_num['STD_CLSS_NM'].unique()\n",
        "HOM_SIDO_NMs  = df_num['HOM_SIDO_NM'].unique()\n",
        "AGEs          = df_num['AGE'].unique()\n",
        "SEX_CTGO_CDs  = df_num['SEX_CTGO_CD'].unique()\n",
        "FLCs          = df_num['FLC'].unique()\n",
        "years         = [2020]\n",
        "months        = [4, 7]\n",
        "\n",
        "temp = []\n",
        "for CARD_SIDO_NM in CARD_SIDO_NMs:\n",
        "    for STD_CLSS_NM in STD_CLSS_NMs:\n",
        "        for HOM_SIDO_NM in HOM_SIDO_NMs:\n",
        "            for AGE in AGEs:\n",
        "                for SEX_CTGO_CD in SEX_CTGO_CDs:\n",
        "                    for FLC in FLCs:\n",
        "                        for year in years:\n",
        "                            for month in months:\n",
        "                                temp.append([CARD_SIDO_NM, STD_CLSS_NM, HOM_SIDO_NM, AGE, SEX_CTGO_CD, FLC, year, month])\n",
        "temp = np.array(temp)\n",
        "temp = pd.DataFrame(data=temp, columns=train_features.columns)"
      ],
      "execution_count": null,
      "outputs": []
    },
    {
      "cell_type": "code",
      "metadata": {
        "id": "M3OgYJmYbvnY",
        "colab_type": "code",
        "colab": {}
      },
      "source": [
        "preds = []\n",
        "for model in models:\n",
        "    pred = model.predict(temp)\n",
        "    preds.append(pred)\n",
        "\n",
        "pred = np.mean(preds, axis=0)"
      ],
      "execution_count": null,
      "outputs": []
    },
    {
      "cell_type": "code",
      "metadata": {
        "id": "oGePY8KScw28",
        "colab_type": "code",
        "colab": {}
      },
      "source": [
        "temp['AMT'] = pred"
      ],
      "execution_count": null,
      "outputs": []
    },
    {
      "cell_type": "code",
      "metadata": {
        "id": "EvDx4OKYFukZ",
        "colab_type": "code",
        "colab": {}
      },
      "source": [
        "temp['AMT'] = np.round(pred, 0)\n",
        "temp['REG_YYMM'] = temp['year']*100 + temp['month']\n",
        "temp = temp[['REG_YYMM', 'CARD_SIDO_NM', 'STD_CLSS_NM', 'AMT']]\n",
        "temp = temp.groupby(['REG_YYMM', 'CARD_SIDO_NM', 'STD_CLSS_NM']).sum().reset_index(drop=False)"
      ],
      "execution_count": null,
      "outputs": []
    },
    {
      "cell_type": "code",
      "metadata": {
        "id": "GYfnjkH1F0k8",
        "colab_type": "code",
        "colab": {}
      },
      "source": [
        "# 디코딩 \n",
        "temp['CARD_SIDO_NM'] = encoders['CARD_SIDO_NM'].inverse_transform(temp['CARD_SIDO_NM'])\n",
        "temp['STD_CLSS_NM'] = encoders['STD_CLSS_NM'].inverse_transform(temp['STD_CLSS_NM'])"
      ],
      "execution_count": null,
      "outputs": []
    },
    {
      "cell_type": "code",
      "metadata": {
        "id": "wYlYTEKSF2XO",
        "colab_type": "code",
        "colab": {
          "base_uri": "https://localhost:8080/",
          "height": 235
        },
        "outputId": "424df2a8-686a-4875-ad80-c09119f4b77d"
      },
      "source": [
        "sub = sub.drop(['AMT'], axis=1)\n",
        "sub = sub.merge(temp, left_on=['REG_YYMM', 'CARD_SIDO_NM', 'STD_CLSS_NM'], right_on=['REG_YYMM', 'CARD_SIDO_NM', 'STD_CLSS_NM'], how='left')\n",
        "sub.index.name = 'id'\n",
        "sub.to_csv('/content/drive/My Drive/Colab Notebooks/data/데이콘/제주/submission_baseline_1(6).csv', encoding='utf-8-sig')\n",
        "sub.head()"
      ],
      "execution_count": null,
      "outputs": [
        {
          "output_type": "execute_result",
          "data": {
            "text/html": [
              "<div>\n",
              "<style scoped>\n",
              "    .dataframe tbody tr th:only-of-type {\n",
              "        vertical-align: middle;\n",
              "    }\n",
              "\n",
              "    .dataframe tbody tr th {\n",
              "        vertical-align: top;\n",
              "    }\n",
              "\n",
              "    .dataframe thead th {\n",
              "        text-align: right;\n",
              "    }\n",
              "</style>\n",
              "<table border=\"1\" class=\"dataframe\">\n",
              "  <thead>\n",
              "    <tr style=\"text-align: right;\">\n",
              "      <th></th>\n",
              "      <th>id</th>\n",
              "      <th>REG_YYMM</th>\n",
              "      <th>CARD_SIDO_NM</th>\n",
              "      <th>STD_CLSS_NM</th>\n",
              "      <th>AMT</th>\n",
              "    </tr>\n",
              "    <tr>\n",
              "      <th>id</th>\n",
              "      <th></th>\n",
              "      <th></th>\n",
              "      <th></th>\n",
              "      <th></th>\n",
              "      <th></th>\n",
              "    </tr>\n",
              "  </thead>\n",
              "  <tbody>\n",
              "    <tr>\n",
              "      <th>0</th>\n",
              "      <td>0</td>\n",
              "      <td>202004</td>\n",
              "      <td>강원</td>\n",
              "      <td>건강보조식품 소매업</td>\n",
              "      <td>16660.0</td>\n",
              "    </tr>\n",
              "    <tr>\n",
              "      <th>1</th>\n",
              "      <td>1</td>\n",
              "      <td>202004</td>\n",
              "      <td>강원</td>\n",
              "      <td>골프장 운영업</td>\n",
              "      <td>16660.0</td>\n",
              "    </tr>\n",
              "    <tr>\n",
              "      <th>2</th>\n",
              "      <td>2</td>\n",
              "      <td>202004</td>\n",
              "      <td>강원</td>\n",
              "      <td>과실 및 채소 소매업</td>\n",
              "      <td>16660.0</td>\n",
              "    </tr>\n",
              "    <tr>\n",
              "      <th>3</th>\n",
              "      <td>3</td>\n",
              "      <td>202004</td>\n",
              "      <td>강원</td>\n",
              "      <td>관광 민예품 및 선물용품 소매업</td>\n",
              "      <td>16660.0</td>\n",
              "    </tr>\n",
              "    <tr>\n",
              "      <th>4</th>\n",
              "      <td>4</td>\n",
              "      <td>202004</td>\n",
              "      <td>강원</td>\n",
              "      <td>그외 기타 분류안된 오락관련 서비스업</td>\n",
              "      <td>16660.0</td>\n",
              "    </tr>\n",
              "  </tbody>\n",
              "</table>\n",
              "</div>"
            ],
            "text/plain": [
              "    id  REG_YYMM CARD_SIDO_NM           STD_CLSS_NM      AMT\n",
              "id                                                          \n",
              "0    0    202004           강원            건강보조식품 소매업  16660.0\n",
              "1    1    202004           강원               골프장 운영업  16660.0\n",
              "2    2    202004           강원           과실 및 채소 소매업  16660.0\n",
              "3    3    202004           강원     관광 민예품 및 선물용품 소매업  16660.0\n",
              "4    4    202004           강원  그외 기타 분류안된 오락관련 서비스업  16660.0"
            ]
          },
          "metadata": {
            "tags": []
          },
          "execution_count": 37
        }
      ]
    },
    {
      "cell_type": "markdown",
      "metadata": {
        "id": "px8QBocnJRCI",
        "colab_type": "text"
      },
      "source": [
        "오버피팅이 심하게 되는 것으로 보임. 독립변수들을 원핫인코딩으로 바꿔주는 것이 좋을 것 같음."
      ]
    },
    {
      "cell_type": "markdown",
      "metadata": {
        "id": "QqQFhW8VLvv9",
        "colab_type": "text"
      },
      "source": [
        "# Base Line 2"
      ]
    },
    {
      "cell_type": "code",
      "metadata": {
        "id": "j5POXWIEMbDs",
        "colab_type": "code",
        "colab": {
          "base_uri": "https://localhost:8080/",
          "height": 204
        },
        "outputId": "cc2d8833-bb3a-4391-a4c1-6bb895e488e9"
      },
      "source": [
        "data.head()"
      ],
      "execution_count": null,
      "outputs": [
        {
          "output_type": "execute_result",
          "data": {
            "text/html": [
              "<div>\n",
              "<style scoped>\n",
              "    .dataframe tbody tr th:only-of-type {\n",
              "        vertical-align: middle;\n",
              "    }\n",
              "\n",
              "    .dataframe tbody tr th {\n",
              "        vertical-align: top;\n",
              "    }\n",
              "\n",
              "    .dataframe thead th {\n",
              "        text-align: right;\n",
              "    }\n",
              "</style>\n",
              "<table border=\"1\" class=\"dataframe\">\n",
              "  <thead>\n",
              "    <tr style=\"text-align: right;\">\n",
              "      <th></th>\n",
              "      <th>REG_YYMM</th>\n",
              "      <th>CARD_SIDO_NM</th>\n",
              "      <th>CARD_CCG_NM</th>\n",
              "      <th>STD_CLSS_NM</th>\n",
              "      <th>HOM_SIDO_NM</th>\n",
              "      <th>HOM_CCG_NM</th>\n",
              "      <th>AGE</th>\n",
              "      <th>SEX_CTGO_CD</th>\n",
              "      <th>FLC</th>\n",
              "      <th>CSTMR_CNT</th>\n",
              "      <th>AMT</th>\n",
              "      <th>CNT</th>\n",
              "    </tr>\n",
              "  </thead>\n",
              "  <tbody>\n",
              "    <tr>\n",
              "      <th>0</th>\n",
              "      <td>201901</td>\n",
              "      <td>강원</td>\n",
              "      <td>강릉시</td>\n",
              "      <td>건강보조식품 소매업</td>\n",
              "      <td>강원</td>\n",
              "      <td>강릉시</td>\n",
              "      <td>20s</td>\n",
              "      <td>1</td>\n",
              "      <td>1</td>\n",
              "      <td>4</td>\n",
              "      <td>311200</td>\n",
              "      <td>4</td>\n",
              "    </tr>\n",
              "    <tr>\n",
              "      <th>1</th>\n",
              "      <td>201901</td>\n",
              "      <td>강원</td>\n",
              "      <td>강릉시</td>\n",
              "      <td>건강보조식품 소매업</td>\n",
              "      <td>강원</td>\n",
              "      <td>강릉시</td>\n",
              "      <td>30s</td>\n",
              "      <td>1</td>\n",
              "      <td>2</td>\n",
              "      <td>7</td>\n",
              "      <td>1374500</td>\n",
              "      <td>8</td>\n",
              "    </tr>\n",
              "    <tr>\n",
              "      <th>2</th>\n",
              "      <td>201901</td>\n",
              "      <td>강원</td>\n",
              "      <td>강릉시</td>\n",
              "      <td>건강보조식품 소매업</td>\n",
              "      <td>강원</td>\n",
              "      <td>강릉시</td>\n",
              "      <td>30s</td>\n",
              "      <td>2</td>\n",
              "      <td>2</td>\n",
              "      <td>6</td>\n",
              "      <td>818700</td>\n",
              "      <td>6</td>\n",
              "    </tr>\n",
              "    <tr>\n",
              "      <th>3</th>\n",
              "      <td>201901</td>\n",
              "      <td>강원</td>\n",
              "      <td>강릉시</td>\n",
              "      <td>건강보조식품 소매업</td>\n",
              "      <td>강원</td>\n",
              "      <td>강릉시</td>\n",
              "      <td>40s</td>\n",
              "      <td>1</td>\n",
              "      <td>3</td>\n",
              "      <td>4</td>\n",
              "      <td>1717000</td>\n",
              "      <td>5</td>\n",
              "    </tr>\n",
              "    <tr>\n",
              "      <th>4</th>\n",
              "      <td>201901</td>\n",
              "      <td>강원</td>\n",
              "      <td>강릉시</td>\n",
              "      <td>건강보조식품 소매업</td>\n",
              "      <td>강원</td>\n",
              "      <td>강릉시</td>\n",
              "      <td>40s</td>\n",
              "      <td>1</td>\n",
              "      <td>4</td>\n",
              "      <td>3</td>\n",
              "      <td>1047300</td>\n",
              "      <td>3</td>\n",
              "    </tr>\n",
              "  </tbody>\n",
              "</table>\n",
              "</div>"
            ],
            "text/plain": [
              "   REG_YYMM CARD_SIDO_NM CARD_CCG_NM STD_CLSS_NM  ... FLC CSTMR_CNT      AMT  CNT\n",
              "0    201901           강원         강릉시  건강보조식품 소매업  ...   1         4   311200    4\n",
              "1    201901           강원         강릉시  건강보조식품 소매업  ...   2         7  1374500    8\n",
              "2    201901           강원         강릉시  건강보조식품 소매업  ...   2         6   818700    6\n",
              "3    201901           강원         강릉시  건강보조식품 소매업  ...   3         4  1717000    5\n",
              "4    201901           강원         강릉시  건강보조식품 소매업  ...   4         3  1047300    3\n",
              "\n",
              "[5 rows x 12 columns]"
            ]
          },
          "metadata": {
            "tags": []
          },
          "execution_count": 74
        }
      ]
    },
    {
      "cell_type": "code",
      "metadata": {
        "id": "niARI4P8Mxw8",
        "colab_type": "code",
        "colab": {}
      },
      "source": [
        "data.drop(['CARD_CCG_NM','HOM_CCG_NM','CSTMR_CNT','CNT'],axis=1,inplace=True)"
      ],
      "execution_count": null,
      "outputs": []
    },
    {
      "cell_type": "code",
      "metadata": {
        "id": "He5GB8LENIUI",
        "colab_type": "code",
        "colab": {}
      },
      "source": [
        "data=data.groupby(['REG_YYMM','CARD_SIDO_NM','STD_CLSS_NM','HOM_SIDO_NM','AGE','SEX_CTGO_CD','FLC'])['AMT'].sum().reset_index()"
      ],
      "execution_count": null,
      "outputs": []
    },
    {
      "cell_type": "code",
      "metadata": {
        "id": "HO6hjFId7KFd",
        "colab_type": "code",
        "colab": {
          "base_uri": "https://localhost:8080/",
          "height": 204
        },
        "outputId": "1977865a-56b2-444a-855c-8d9d4c701941"
      },
      "source": [
        "data.head()"
      ],
      "execution_count": null,
      "outputs": [
        {
          "output_type": "execute_result",
          "data": {
            "text/html": [
              "<div>\n",
              "<style scoped>\n",
              "    .dataframe tbody tr th:only-of-type {\n",
              "        vertical-align: middle;\n",
              "    }\n",
              "\n",
              "    .dataframe tbody tr th {\n",
              "        vertical-align: top;\n",
              "    }\n",
              "\n",
              "    .dataframe thead th {\n",
              "        text-align: right;\n",
              "    }\n",
              "</style>\n",
              "<table border=\"1\" class=\"dataframe\">\n",
              "  <thead>\n",
              "    <tr style=\"text-align: right;\">\n",
              "      <th></th>\n",
              "      <th>REG_YYMM</th>\n",
              "      <th>CARD_SIDO_NM</th>\n",
              "      <th>STD_CLSS_NM</th>\n",
              "      <th>HOM_SIDO_NM</th>\n",
              "      <th>AGE</th>\n",
              "      <th>SEX_CTGO_CD</th>\n",
              "      <th>FLC</th>\n",
              "      <th>AMT</th>\n",
              "    </tr>\n",
              "  </thead>\n",
              "  <tbody>\n",
              "    <tr>\n",
              "      <th>0</th>\n",
              "      <td>201901</td>\n",
              "      <td>강원</td>\n",
              "      <td>건강보조식품 소매업</td>\n",
              "      <td>강원</td>\n",
              "      <td>20s</td>\n",
              "      <td>1</td>\n",
              "      <td>1</td>\n",
              "      <td>311200</td>\n",
              "    </tr>\n",
              "    <tr>\n",
              "      <th>1</th>\n",
              "      <td>201901</td>\n",
              "      <td>강원</td>\n",
              "      <td>건강보조식품 소매업</td>\n",
              "      <td>강원</td>\n",
              "      <td>30s</td>\n",
              "      <td>1</td>\n",
              "      <td>2</td>\n",
              "      <td>5169295</td>\n",
              "    </tr>\n",
              "    <tr>\n",
              "      <th>2</th>\n",
              "      <td>201901</td>\n",
              "      <td>강원</td>\n",
              "      <td>건강보조식품 소매업</td>\n",
              "      <td>강원</td>\n",
              "      <td>30s</td>\n",
              "      <td>2</td>\n",
              "      <td>2</td>\n",
              "      <td>8618550</td>\n",
              "    </tr>\n",
              "    <tr>\n",
              "      <th>3</th>\n",
              "      <td>201901</td>\n",
              "      <td>강원</td>\n",
              "      <td>건강보조식품 소매업</td>\n",
              "      <td>강원</td>\n",
              "      <td>40s</td>\n",
              "      <td>1</td>\n",
              "      <td>2</td>\n",
              "      <td>454420</td>\n",
              "    </tr>\n",
              "    <tr>\n",
              "      <th>4</th>\n",
              "      <td>201901</td>\n",
              "      <td>강원</td>\n",
              "      <td>건강보조식품 소매업</td>\n",
              "      <td>강원</td>\n",
              "      <td>40s</td>\n",
              "      <td>1</td>\n",
              "      <td>3</td>\n",
              "      <td>6441165</td>\n",
              "    </tr>\n",
              "  </tbody>\n",
              "</table>\n",
              "</div>"
            ],
            "text/plain": [
              "   REG_YYMM CARD_SIDO_NM STD_CLSS_NM  ... SEX_CTGO_CD FLC      AMT\n",
              "0    201901           강원  건강보조식품 소매업  ...           1   1   311200\n",
              "1    201901           강원  건강보조식품 소매업  ...           1   2  5169295\n",
              "2    201901           강원  건강보조식품 소매업  ...           2   2  8618550\n",
              "3    201901           강원  건강보조식품 소매업  ...           1   2   454420\n",
              "4    201901           강원  건강보조식품 소매업  ...           1   3  6441165\n",
              "\n",
              "[5 rows x 8 columns]"
            ]
          },
          "metadata": {
            "tags": []
          },
          "execution_count": 77
        }
      ]
    },
    {
      "cell_type": "code",
      "metadata": {
        "id": "rkflbhJhWoem",
        "colab_type": "code",
        "colab": {
          "base_uri": "https://localhost:8080/",
          "height": 35
        },
        "outputId": "42e09a17-bb0e-4460-e836-072d2375a1a5"
      },
      "source": [
        "data.shape"
      ],
      "execution_count": null,
      "outputs": [
        {
          "output_type": "execute_result",
          "data": {
            "text/plain": [
              "(1057394, 8)"
            ]
          },
          "metadata": {
            "tags": []
          },
          "execution_count": 78
        }
      ]
    },
    {
      "cell_type": "code",
      "metadata": {
        "id": "04HuZIttykSf",
        "colab_type": "code",
        "colab": {}
      },
      "source": [
        "# 이전 월 AMT 다음 월에 삽입하기위해 데이터 생성\n",
        "sum_df=data.groupby(['REG_YYMM','CARD_SIDO_NM','STD_CLSS_NM'])['AMT'].sum().reset_index(name='sum_AMT')\n",
        "\n",
        "# 다음 달 월에 삽일을 위해 연도 변수에 + 1\n",
        "sum_df['REG_YYMM']= sum_df['REG_YYMM'].apply(lambda x: x +1 if x != 201912 else 202001)\n",
        "\n",
        "# 19년 1월 데이터 삭제\n",
        "data=data[data['REG_YYMM'] !=201901]"
      ],
      "execution_count": null,
      "outputs": []
    },
    {
      "cell_type": "code",
      "metadata": {
        "id": "P8XAZino0piQ",
        "colab_type": "code",
        "colab": {
          "base_uri": "https://localhost:8080/",
          "height": 204
        },
        "outputId": "b2cfbddb-ed63-4c06-cfcd-13819dfe3b47"
      },
      "source": [
        "# 전 월 AMT 삽입\n",
        "data = data.merge(sum_df,left_on=['REG_YYMM','CARD_SIDO_NM','STD_CLSS_NM'],right_on=['REG_YYMM','CARD_SIDO_NM','STD_CLSS_NM'],how='left')\n",
        "data.head()"
      ],
      "execution_count": null,
      "outputs": [
        {
          "output_type": "execute_result",
          "data": {
            "text/html": [
              "<div>\n",
              "<style scoped>\n",
              "    .dataframe tbody tr th:only-of-type {\n",
              "        vertical-align: middle;\n",
              "    }\n",
              "\n",
              "    .dataframe tbody tr th {\n",
              "        vertical-align: top;\n",
              "    }\n",
              "\n",
              "    .dataframe thead th {\n",
              "        text-align: right;\n",
              "    }\n",
              "</style>\n",
              "<table border=\"1\" class=\"dataframe\">\n",
              "  <thead>\n",
              "    <tr style=\"text-align: right;\">\n",
              "      <th></th>\n",
              "      <th>REG_YYMM</th>\n",
              "      <th>CARD_SIDO_NM</th>\n",
              "      <th>STD_CLSS_NM</th>\n",
              "      <th>HOM_SIDO_NM</th>\n",
              "      <th>AGE</th>\n",
              "      <th>SEX_CTGO_CD</th>\n",
              "      <th>FLC</th>\n",
              "      <th>AMT</th>\n",
              "      <th>sum_AMT</th>\n",
              "    </tr>\n",
              "  </thead>\n",
              "  <tbody>\n",
              "    <tr>\n",
              "      <th>0</th>\n",
              "      <td>201902</td>\n",
              "      <td>강원</td>\n",
              "      <td>건강보조식품 소매업</td>\n",
              "      <td>강원</td>\n",
              "      <td>20s</td>\n",
              "      <td>1</td>\n",
              "      <td>1</td>\n",
              "      <td>605000</td>\n",
              "      <td>148354746.0</td>\n",
              "    </tr>\n",
              "    <tr>\n",
              "      <th>1</th>\n",
              "      <td>201902</td>\n",
              "      <td>강원</td>\n",
              "      <td>건강보조식품 소매업</td>\n",
              "      <td>강원</td>\n",
              "      <td>20s</td>\n",
              "      <td>2</td>\n",
              "      <td>1</td>\n",
              "      <td>912000</td>\n",
              "      <td>148354746.0</td>\n",
              "    </tr>\n",
              "    <tr>\n",
              "      <th>2</th>\n",
              "      <td>201902</td>\n",
              "      <td>강원</td>\n",
              "      <td>건강보조식품 소매업</td>\n",
              "      <td>강원</td>\n",
              "      <td>20s</td>\n",
              "      <td>2</td>\n",
              "      <td>2</td>\n",
              "      <td>216200</td>\n",
              "      <td>148354746.0</td>\n",
              "    </tr>\n",
              "    <tr>\n",
              "      <th>3</th>\n",
              "      <td>201902</td>\n",
              "      <td>강원</td>\n",
              "      <td>건강보조식품 소매업</td>\n",
              "      <td>강원</td>\n",
              "      <td>30s</td>\n",
              "      <td>1</td>\n",
              "      <td>2</td>\n",
              "      <td>8972970</td>\n",
              "      <td>148354746.0</td>\n",
              "    </tr>\n",
              "    <tr>\n",
              "      <th>4</th>\n",
              "      <td>201902</td>\n",
              "      <td>강원</td>\n",
              "      <td>건강보조식품 소매업</td>\n",
              "      <td>강원</td>\n",
              "      <td>30s</td>\n",
              "      <td>2</td>\n",
              "      <td>2</td>\n",
              "      <td>10469559</td>\n",
              "      <td>148354746.0</td>\n",
              "    </tr>\n",
              "  </tbody>\n",
              "</table>\n",
              "</div>"
            ],
            "text/plain": [
              "   REG_YYMM CARD_SIDO_NM STD_CLSS_NM  ... FLC       AMT      sum_AMT\n",
              "0    201902           강원  건강보조식품 소매업  ...   1    605000  148354746.0\n",
              "1    201902           강원  건강보조식품 소매업  ...   1    912000  148354746.0\n",
              "2    201902           강원  건강보조식품 소매업  ...   2    216200  148354746.0\n",
              "3    201902           강원  건강보조식품 소매업  ...   2   8972970  148354746.0\n",
              "4    201902           강원  건강보조식품 소매업  ...   2  10469559  148354746.0\n",
              "\n",
              "[5 rows x 9 columns]"
            ]
          },
          "metadata": {
            "tags": []
          },
          "execution_count": 81
        }
      ]
    },
    {
      "cell_type": "code",
      "metadata": {
        "id": "vsZhYIl7NM24",
        "colab_type": "code",
        "colab": {
          "base_uri": "https://localhost:8080/",
          "height": 204
        },
        "outputId": "15b2a2be-8454-40a1-921d-c0414de63a0e"
      },
      "source": [
        "data['year']=data['REG_YYMM'].apply(lambda x: int(str(x)[:4]))\n",
        "data['month'] = data['REG_YYMM'].apply(lambda x: int(str(x)[4:]))\n",
        "data.drop('REG_YYMM',axis=1,inplace=True)\n",
        "data.head()"
      ],
      "execution_count": null,
      "outputs": [
        {
          "output_type": "execute_result",
          "data": {
            "text/html": [
              "<div>\n",
              "<style scoped>\n",
              "    .dataframe tbody tr th:only-of-type {\n",
              "        vertical-align: middle;\n",
              "    }\n",
              "\n",
              "    .dataframe tbody tr th {\n",
              "        vertical-align: top;\n",
              "    }\n",
              "\n",
              "    .dataframe thead th {\n",
              "        text-align: right;\n",
              "    }\n",
              "</style>\n",
              "<table border=\"1\" class=\"dataframe\">\n",
              "  <thead>\n",
              "    <tr style=\"text-align: right;\">\n",
              "      <th></th>\n",
              "      <th>CARD_SIDO_NM</th>\n",
              "      <th>STD_CLSS_NM</th>\n",
              "      <th>HOM_SIDO_NM</th>\n",
              "      <th>AGE</th>\n",
              "      <th>SEX_CTGO_CD</th>\n",
              "      <th>FLC</th>\n",
              "      <th>AMT</th>\n",
              "      <th>sum_AMT</th>\n",
              "      <th>year</th>\n",
              "      <th>month</th>\n",
              "    </tr>\n",
              "  </thead>\n",
              "  <tbody>\n",
              "    <tr>\n",
              "      <th>0</th>\n",
              "      <td>강원</td>\n",
              "      <td>건강보조식품 소매업</td>\n",
              "      <td>강원</td>\n",
              "      <td>20s</td>\n",
              "      <td>1</td>\n",
              "      <td>1</td>\n",
              "      <td>605000</td>\n",
              "      <td>148354746.0</td>\n",
              "      <td>2019</td>\n",
              "      <td>2</td>\n",
              "    </tr>\n",
              "    <tr>\n",
              "      <th>1</th>\n",
              "      <td>강원</td>\n",
              "      <td>건강보조식품 소매업</td>\n",
              "      <td>강원</td>\n",
              "      <td>20s</td>\n",
              "      <td>2</td>\n",
              "      <td>1</td>\n",
              "      <td>912000</td>\n",
              "      <td>148354746.0</td>\n",
              "      <td>2019</td>\n",
              "      <td>2</td>\n",
              "    </tr>\n",
              "    <tr>\n",
              "      <th>2</th>\n",
              "      <td>강원</td>\n",
              "      <td>건강보조식품 소매업</td>\n",
              "      <td>강원</td>\n",
              "      <td>20s</td>\n",
              "      <td>2</td>\n",
              "      <td>2</td>\n",
              "      <td>216200</td>\n",
              "      <td>148354746.0</td>\n",
              "      <td>2019</td>\n",
              "      <td>2</td>\n",
              "    </tr>\n",
              "    <tr>\n",
              "      <th>3</th>\n",
              "      <td>강원</td>\n",
              "      <td>건강보조식품 소매업</td>\n",
              "      <td>강원</td>\n",
              "      <td>30s</td>\n",
              "      <td>1</td>\n",
              "      <td>2</td>\n",
              "      <td>8972970</td>\n",
              "      <td>148354746.0</td>\n",
              "      <td>2019</td>\n",
              "      <td>2</td>\n",
              "    </tr>\n",
              "    <tr>\n",
              "      <th>4</th>\n",
              "      <td>강원</td>\n",
              "      <td>건강보조식품 소매업</td>\n",
              "      <td>강원</td>\n",
              "      <td>30s</td>\n",
              "      <td>2</td>\n",
              "      <td>2</td>\n",
              "      <td>10469559</td>\n",
              "      <td>148354746.0</td>\n",
              "      <td>2019</td>\n",
              "      <td>2</td>\n",
              "    </tr>\n",
              "  </tbody>\n",
              "</table>\n",
              "</div>"
            ],
            "text/plain": [
              "  CARD_SIDO_NM STD_CLSS_NM HOM_SIDO_NM  AGE  ...       AMT      sum_AMT  year  month\n",
              "0           강원  건강보조식품 소매업          강원  20s  ...    605000  148354746.0  2019      2\n",
              "1           강원  건강보조식품 소매업          강원  20s  ...    912000  148354746.0  2019      2\n",
              "2           강원  건강보조식품 소매업          강원  20s  ...    216200  148354746.0  2019      2\n",
              "3           강원  건강보조식품 소매업          강원  30s  ...   8972970  148354746.0  2019      2\n",
              "4           강원  건강보조식품 소매업          강원  30s  ...  10469559  148354746.0  2019      2\n",
              "\n",
              "[5 rows x 10 columns]"
            ]
          },
          "metadata": {
            "tags": []
          },
          "execution_count": 83
        }
      ]
    },
    {
      "cell_type": "code",
      "metadata": {
        "id": "Zwnz4qpS8JIm",
        "colab_type": "code",
        "colab": {
          "base_uri": "https://localhost:8080/",
          "height": 204
        },
        "outputId": "bd51210f-873a-4867-a0db-336715ef5483"
      },
      "source": [
        "sum_df['year']=sum_df['REG_YYMM'].apply(lambda x: int(str(x)[:4]))\n",
        "sum_df['month'] = sum_df['REG_YYMM'].apply(lambda x: int(str(x)[4:]))\n",
        "sum_df.drop('REG_YYMM',axis=1,inplace=True)\n",
        "sum_df.head()"
      ],
      "execution_count": null,
      "outputs": [
        {
          "output_type": "execute_result",
          "data": {
            "text/html": [
              "<div>\n",
              "<style scoped>\n",
              "    .dataframe tbody tr th:only-of-type {\n",
              "        vertical-align: middle;\n",
              "    }\n",
              "\n",
              "    .dataframe tbody tr th {\n",
              "        vertical-align: top;\n",
              "    }\n",
              "\n",
              "    .dataframe thead th {\n",
              "        text-align: right;\n",
              "    }\n",
              "</style>\n",
              "<table border=\"1\" class=\"dataframe\">\n",
              "  <thead>\n",
              "    <tr style=\"text-align: right;\">\n",
              "      <th></th>\n",
              "      <th>CARD_SIDO_NM</th>\n",
              "      <th>STD_CLSS_NM</th>\n",
              "      <th>sum_AMT</th>\n",
              "      <th>year</th>\n",
              "      <th>month</th>\n",
              "    </tr>\n",
              "  </thead>\n",
              "  <tbody>\n",
              "    <tr>\n",
              "      <th>0</th>\n",
              "      <td>강원</td>\n",
              "      <td>건강보조식품 소매업</td>\n",
              "      <td>148354746</td>\n",
              "      <td>2019</td>\n",
              "      <td>2</td>\n",
              "    </tr>\n",
              "    <tr>\n",
              "      <th>1</th>\n",
              "      <td>강원</td>\n",
              "      <td>골프장 운영업</td>\n",
              "      <td>1229200312</td>\n",
              "      <td>2019</td>\n",
              "      <td>2</td>\n",
              "    </tr>\n",
              "    <tr>\n",
              "      <th>2</th>\n",
              "      <td>강원</td>\n",
              "      <td>과실 및 채소 소매업</td>\n",
              "      <td>1286979106</td>\n",
              "      <td>2019</td>\n",
              "      <td>2</td>\n",
              "    </tr>\n",
              "    <tr>\n",
              "      <th>3</th>\n",
              "      <td>강원</td>\n",
              "      <td>관광 민예품 및 선물용품 소매업</td>\n",
              "      <td>30656770</td>\n",
              "      <td>2019</td>\n",
              "      <td>2</td>\n",
              "    </tr>\n",
              "    <tr>\n",
              "      <th>4</th>\n",
              "      <td>강원</td>\n",
              "      <td>그외 기타 스포츠시설 운영업</td>\n",
              "      <td>13101500</td>\n",
              "      <td>2019</td>\n",
              "      <td>2</td>\n",
              "    </tr>\n",
              "  </tbody>\n",
              "</table>\n",
              "</div>"
            ],
            "text/plain": [
              "  CARD_SIDO_NM        STD_CLSS_NM     sum_AMT  year  month\n",
              "0           강원         건강보조식품 소매업   148354746  2019      2\n",
              "1           강원            골프장 운영업  1229200312  2019      2\n",
              "2           강원        과실 및 채소 소매업  1286979106  2019      2\n",
              "3           강원  관광 민예품 및 선물용품 소매업    30656770  2019      2\n",
              "4           강원    그외 기타 스포츠시설 운영업    13101500  2019      2"
            ]
          },
          "metadata": {
            "tags": []
          },
          "execution_count": 84
        }
      ]
    },
    {
      "cell_type": "code",
      "metadata": {
        "id": "0kZcGxWN7aoX",
        "colab_type": "code",
        "colab": {}
      },
      "source": [
        "data.loc[data['year'] ==2019,'corona'] = 0\n",
        "data.loc[data['year'] ==2020,'corona'] = 1"
      ],
      "execution_count": null,
      "outputs": []
    },
    {
      "cell_type": "code",
      "metadata": {
        "id": "vVJTvhonOPzG",
        "colab_type": "code",
        "colab": {}
      },
      "source": [
        "data.loc[(data['month']>=3) & (data['month']<=5),'season'] = 'spring'\n",
        "data.loc[(data['month']>=6) & (data['month']<8),'season'] = 'summer'\n",
        "data.loc[(data['month']>=9) & (data['month']<=11),'season'] = 'fall'\n",
        "data.loc[(data['month']==12) | (data['month']<=2),'season'] = 'winter'"
      ],
      "execution_count": null,
      "outputs": []
    },
    {
      "cell_type": "code",
      "metadata": {
        "id": "wXkFWVks69S_",
        "colab_type": "code",
        "colab": {
          "base_uri": "https://localhost:8080/",
          "height": 251
        },
        "outputId": "d5e3ddc6-2abc-47d0-90f4-ab05ef76c61f"
      },
      "source": [
        "data.dtypes"
      ],
      "execution_count": null,
      "outputs": [
        {
          "output_type": "execute_result",
          "data": {
            "text/plain": [
              "CARD_SIDO_NM     object\n",
              "STD_CLSS_NM      object\n",
              "HOM_SIDO_NM      object\n",
              "AGE              object\n",
              "SEX_CTGO_CD       int64\n",
              "FLC               int64\n",
              "AMT               int64\n",
              "sum_AMT         float64\n",
              "year              int64\n",
              "month             int64\n",
              "corona          float64\n",
              "season           object\n",
              "dtype: object"
            ]
          },
          "metadata": {
            "tags": []
          },
          "execution_count": 87
        }
      ]
    },
    {
      "cell_type": "code",
      "metadata": {
        "id": "jrVcV93OORLT",
        "colab_type": "code",
        "colab": {
          "base_uri": "https://localhost:8080/",
          "height": 251
        },
        "outputId": "2cac1721-7438-41d6-fb47-7604f69efbc1"
      },
      "source": [
        "for col in data.columns:\n",
        "  if col !='AMT' and col !='sum_AMT':\n",
        "    data[col] = data[col].astype('category')\n",
        "data.dtypes"
      ],
      "execution_count": null,
      "outputs": [
        {
          "output_type": "execute_result",
          "data": {
            "text/plain": [
              "CARD_SIDO_NM    category\n",
              "STD_CLSS_NM     category\n",
              "HOM_SIDO_NM     category\n",
              "AGE             category\n",
              "SEX_CTGO_CD     category\n",
              "FLC             category\n",
              "AMT                int64\n",
              "sum_AMT          float64\n",
              "year            category\n",
              "month           category\n",
              "corona          category\n",
              "season          category\n",
              "dtype: object"
            ]
          },
          "metadata": {
            "tags": []
          },
          "execution_count": 88
        }
      ]
    },
    {
      "cell_type": "code",
      "metadata": {
        "id": "6tLNgnzhO57w",
        "colab_type": "code",
        "colab": {}
      },
      "source": [
        "x_data = data.drop('AMT',axis=1)\n",
        "y_data = np.log1p(data['AMT'])"
      ],
      "execution_count": null,
      "outputs": []
    },
    {
      "cell_type": "code",
      "metadata": {
        "id": "R8YqSFL1VB7B",
        "colab_type": "code",
        "colab": {}
      },
      "source": [
        "# data.to_csv('/content/drive/My Drive/Colab Notebooks/data/데이콘/제주/train_df.csv', encoding='utf-8-sig',index=False)"
      ],
      "execution_count": null,
      "outputs": []
    },
    {
      "cell_type": "code",
      "metadata": {
        "id": "9GLrqKH5QCeW",
        "colab_type": "code",
        "colab": {}
      },
      "source": [
        "# test 템플릿 만드기\n",
        "CARD_SIDO_NMs = data['CARD_SIDO_NM'].unique()\n",
        "STD_CLSS_NMs  = data['STD_CLSS_NM'].unique()\n",
        "HOM_SIDO_NMs  = data['HOM_SIDO_NM'].unique()\n",
        "AGEs          = data['AGE'].unique()\n",
        "SEX_CTGO_CDs  = data['SEX_CTGO_CD'].unique()\n",
        "FLCs          = data['FLC'].unique()\n",
        "years           = [2020]\n",
        "months           = [4,7]\n",
        "coronas = [1]\n",
        "#seasons         = ['spring','summer']\n",
        "\n",
        "temp = []\n",
        "for CARD_SIDO_NM in CARD_SIDO_NMs:\n",
        "    for STD_CLSS_NM in STD_CLSS_NMs:\n",
        "        for HOM_SIDO_NM in HOM_SIDO_NMs:\n",
        "            for AGE in AGEs:\n",
        "                for SEX_CTGO_CD in SEX_CTGO_CDs:\n",
        "                    for FLC in FLCs:\n",
        "                      for year in years:\n",
        "                        for month in months:\n",
        "                          for corona in coronas:\n",
        "                            if month ==4:\n",
        "                              season ='spring'\n",
        "                            else:\n",
        "                              season ='summer'                         \n",
        "                          \n",
        "                            temp.append([CARD_SIDO_NM, STD_CLSS_NM, HOM_SIDO_NM, AGE, SEX_CTGO_CD, FLC,year,month,corona,season])\n",
        "\n",
        "temp = np.array(temp)\n",
        "temp = pd.DataFrame(data=temp, columns=['CARD_SIDO_NM', 'STD_CLSS_NM', 'HOM_SIDO_NM', 'AGE', 'SEX_CTGO_CD', 'FLC','year','month','corona','season'])"
      ],
      "execution_count": null,
      "outputs": []
    },
    {
      "cell_type": "code",
      "metadata": {
        "id": "J8St4SN8UFdB",
        "colab_type": "code",
        "colab": {
          "base_uri": "https://localhost:8080/",
          "height": 419
        },
        "outputId": "80cc8a34-a5ce-45ce-f83e-5de2cc96b37b"
      },
      "source": [
        "temp"
      ],
      "execution_count": null,
      "outputs": [
        {
          "output_type": "execute_result",
          "data": {
            "text/html": [
              "<div>\n",
              "<style scoped>\n",
              "    .dataframe tbody tr th:only-of-type {\n",
              "        vertical-align: middle;\n",
              "    }\n",
              "\n",
              "    .dataframe tbody tr th {\n",
              "        vertical-align: top;\n",
              "    }\n",
              "\n",
              "    .dataframe thead th {\n",
              "        text-align: right;\n",
              "    }\n",
              "</style>\n",
              "<table border=\"1\" class=\"dataframe\">\n",
              "  <thead>\n",
              "    <tr style=\"text-align: right;\">\n",
              "      <th></th>\n",
              "      <th>CARD_SIDO_NM</th>\n",
              "      <th>STD_CLSS_NM</th>\n",
              "      <th>HOM_SIDO_NM</th>\n",
              "      <th>AGE</th>\n",
              "      <th>SEX_CTGO_CD</th>\n",
              "      <th>FLC</th>\n",
              "      <th>year</th>\n",
              "      <th>month</th>\n",
              "      <th>corona</th>\n",
              "      <th>season</th>\n",
              "    </tr>\n",
              "  </thead>\n",
              "  <tbody>\n",
              "    <tr>\n",
              "      <th>0</th>\n",
              "      <td>강원</td>\n",
              "      <td>건강보조식품 소매업</td>\n",
              "      <td>강원</td>\n",
              "      <td>20s</td>\n",
              "      <td>1</td>\n",
              "      <td>1</td>\n",
              "      <td>2020</td>\n",
              "      <td>4</td>\n",
              "      <td>1</td>\n",
              "      <td>spring</td>\n",
              "    </tr>\n",
              "    <tr>\n",
              "      <th>1</th>\n",
              "      <td>강원</td>\n",
              "      <td>건강보조식품 소매업</td>\n",
              "      <td>강원</td>\n",
              "      <td>20s</td>\n",
              "      <td>1</td>\n",
              "      <td>1</td>\n",
              "      <td>2020</td>\n",
              "      <td>7</td>\n",
              "      <td>1</td>\n",
              "      <td>summer</td>\n",
              "    </tr>\n",
              "    <tr>\n",
              "      <th>2</th>\n",
              "      <td>강원</td>\n",
              "      <td>건강보조식품 소매업</td>\n",
              "      <td>강원</td>\n",
              "      <td>20s</td>\n",
              "      <td>1</td>\n",
              "      <td>2</td>\n",
              "      <td>2020</td>\n",
              "      <td>4</td>\n",
              "      <td>1</td>\n",
              "      <td>spring</td>\n",
              "    </tr>\n",
              "    <tr>\n",
              "      <th>3</th>\n",
              "      <td>강원</td>\n",
              "      <td>건강보조식품 소매업</td>\n",
              "      <td>강원</td>\n",
              "      <td>20s</td>\n",
              "      <td>1</td>\n",
              "      <td>2</td>\n",
              "      <td>2020</td>\n",
              "      <td>7</td>\n",
              "      <td>1</td>\n",
              "      <td>summer</td>\n",
              "    </tr>\n",
              "    <tr>\n",
              "      <th>4</th>\n",
              "      <td>강원</td>\n",
              "      <td>건강보조식품 소매업</td>\n",
              "      <td>강원</td>\n",
              "      <td>20s</td>\n",
              "      <td>1</td>\n",
              "      <td>3</td>\n",
              "      <td>2020</td>\n",
              "      <td>4</td>\n",
              "      <td>1</td>\n",
              "      <td>spring</td>\n",
              "    </tr>\n",
              "    <tr>\n",
              "      <th>...</th>\n",
              "      <td>...</td>\n",
              "      <td>...</td>\n",
              "      <td>...</td>\n",
              "      <td>...</td>\n",
              "      <td>...</td>\n",
              "      <td>...</td>\n",
              "      <td>...</td>\n",
              "      <td>...</td>\n",
              "      <td>...</td>\n",
              "      <td>...</td>\n",
              "    </tr>\n",
              "    <tr>\n",
              "      <th>1658855</th>\n",
              "      <td>충북</td>\n",
              "      <td>정기 항공 운송업</td>\n",
              "      <td>전남</td>\n",
              "      <td>10s</td>\n",
              "      <td>2</td>\n",
              "      <td>3</td>\n",
              "      <td>2020</td>\n",
              "      <td>7</td>\n",
              "      <td>1</td>\n",
              "      <td>summer</td>\n",
              "    </tr>\n",
              "    <tr>\n",
              "      <th>1658856</th>\n",
              "      <td>충북</td>\n",
              "      <td>정기 항공 운송업</td>\n",
              "      <td>전남</td>\n",
              "      <td>10s</td>\n",
              "      <td>2</td>\n",
              "      <td>4</td>\n",
              "      <td>2020</td>\n",
              "      <td>4</td>\n",
              "      <td>1</td>\n",
              "      <td>spring</td>\n",
              "    </tr>\n",
              "    <tr>\n",
              "      <th>1658857</th>\n",
              "      <td>충북</td>\n",
              "      <td>정기 항공 운송업</td>\n",
              "      <td>전남</td>\n",
              "      <td>10s</td>\n",
              "      <td>2</td>\n",
              "      <td>4</td>\n",
              "      <td>2020</td>\n",
              "      <td>7</td>\n",
              "      <td>1</td>\n",
              "      <td>summer</td>\n",
              "    </tr>\n",
              "    <tr>\n",
              "      <th>1658858</th>\n",
              "      <td>충북</td>\n",
              "      <td>정기 항공 운송업</td>\n",
              "      <td>전남</td>\n",
              "      <td>10s</td>\n",
              "      <td>2</td>\n",
              "      <td>5</td>\n",
              "      <td>2020</td>\n",
              "      <td>4</td>\n",
              "      <td>1</td>\n",
              "      <td>spring</td>\n",
              "    </tr>\n",
              "    <tr>\n",
              "      <th>1658859</th>\n",
              "      <td>충북</td>\n",
              "      <td>정기 항공 운송업</td>\n",
              "      <td>전남</td>\n",
              "      <td>10s</td>\n",
              "      <td>2</td>\n",
              "      <td>5</td>\n",
              "      <td>2020</td>\n",
              "      <td>7</td>\n",
              "      <td>1</td>\n",
              "      <td>summer</td>\n",
              "    </tr>\n",
              "  </tbody>\n",
              "</table>\n",
              "<p>1658860 rows × 10 columns</p>\n",
              "</div>"
            ],
            "text/plain": [
              "        CARD_SIDO_NM STD_CLSS_NM HOM_SIDO_NM  AGE  ...  year month corona  season\n",
              "0                 강원  건강보조식품 소매업          강원  20s  ...  2020     4      1  spring\n",
              "1                 강원  건강보조식품 소매업          강원  20s  ...  2020     7      1  summer\n",
              "2                 강원  건강보조식품 소매업          강원  20s  ...  2020     4      1  spring\n",
              "3                 강원  건강보조식품 소매업          강원  20s  ...  2020     7      1  summer\n",
              "4                 강원  건강보조식품 소매업          강원  20s  ...  2020     4      1  spring\n",
              "...              ...         ...         ...  ...  ...   ...   ...    ...     ...\n",
              "1658855           충북   정기 항공 운송업          전남  10s  ...  2020     7      1  summer\n",
              "1658856           충북   정기 항공 운송업          전남  10s  ...  2020     4      1  spring\n",
              "1658857           충북   정기 항공 운송업          전남  10s  ...  2020     7      1  summer\n",
              "1658858           충북   정기 항공 운송업          전남  10s  ...  2020     4      1  spring\n",
              "1658859           충북   정기 항공 운송업          전남  10s  ...  2020     7      1  summer\n",
              "\n",
              "[1658860 rows x 10 columns]"
            ]
          },
          "metadata": {
            "tags": []
          },
          "execution_count": 92
        }
      ]
    },
    {
      "cell_type": "code",
      "metadata": {
        "id": "P8mT6DwOXXAT",
        "colab_type": "code",
        "colab": {
          "base_uri": "https://localhost:8080/",
          "height": 419
        },
        "outputId": "65f5d5df-b2e7-4100-fe25-f9324b2d096d"
      },
      "source": [
        "data"
      ],
      "execution_count": null,
      "outputs": [
        {
          "output_type": "execute_result",
          "data": {
            "text/html": [
              "<div>\n",
              "<style scoped>\n",
              "    .dataframe tbody tr th:only-of-type {\n",
              "        vertical-align: middle;\n",
              "    }\n",
              "\n",
              "    .dataframe tbody tr th {\n",
              "        vertical-align: top;\n",
              "    }\n",
              "\n",
              "    .dataframe thead th {\n",
              "        text-align: right;\n",
              "    }\n",
              "</style>\n",
              "<table border=\"1\" class=\"dataframe\">\n",
              "  <thead>\n",
              "    <tr style=\"text-align: right;\">\n",
              "      <th></th>\n",
              "      <th>CARD_SIDO_NM</th>\n",
              "      <th>STD_CLSS_NM</th>\n",
              "      <th>HOM_SIDO_NM</th>\n",
              "      <th>AGE</th>\n",
              "      <th>SEX_CTGO_CD</th>\n",
              "      <th>FLC</th>\n",
              "      <th>AMT</th>\n",
              "      <th>sum_AMT</th>\n",
              "      <th>year</th>\n",
              "      <th>month</th>\n",
              "      <th>corona</th>\n",
              "      <th>season</th>\n",
              "    </tr>\n",
              "  </thead>\n",
              "  <tbody>\n",
              "    <tr>\n",
              "      <th>0</th>\n",
              "      <td>강원</td>\n",
              "      <td>건강보조식품 소매업</td>\n",
              "      <td>강원</td>\n",
              "      <td>20s</td>\n",
              "      <td>1</td>\n",
              "      <td>1</td>\n",
              "      <td>605000</td>\n",
              "      <td>148354746.0</td>\n",
              "      <td>2019</td>\n",
              "      <td>2</td>\n",
              "      <td>0.0</td>\n",
              "      <td>winter</td>\n",
              "    </tr>\n",
              "    <tr>\n",
              "      <th>1</th>\n",
              "      <td>강원</td>\n",
              "      <td>건강보조식품 소매업</td>\n",
              "      <td>강원</td>\n",
              "      <td>20s</td>\n",
              "      <td>2</td>\n",
              "      <td>1</td>\n",
              "      <td>912000</td>\n",
              "      <td>148354746.0</td>\n",
              "      <td>2019</td>\n",
              "      <td>2</td>\n",
              "      <td>0.0</td>\n",
              "      <td>winter</td>\n",
              "    </tr>\n",
              "    <tr>\n",
              "      <th>2</th>\n",
              "      <td>강원</td>\n",
              "      <td>건강보조식품 소매업</td>\n",
              "      <td>강원</td>\n",
              "      <td>20s</td>\n",
              "      <td>2</td>\n",
              "      <td>2</td>\n",
              "      <td>216200</td>\n",
              "      <td>148354746.0</td>\n",
              "      <td>2019</td>\n",
              "      <td>2</td>\n",
              "      <td>0.0</td>\n",
              "      <td>winter</td>\n",
              "    </tr>\n",
              "    <tr>\n",
              "      <th>3</th>\n",
              "      <td>강원</td>\n",
              "      <td>건강보조식품 소매업</td>\n",
              "      <td>강원</td>\n",
              "      <td>30s</td>\n",
              "      <td>1</td>\n",
              "      <td>2</td>\n",
              "      <td>8972970</td>\n",
              "      <td>148354746.0</td>\n",
              "      <td>2019</td>\n",
              "      <td>2</td>\n",
              "      <td>0.0</td>\n",
              "      <td>winter</td>\n",
              "    </tr>\n",
              "    <tr>\n",
              "      <th>4</th>\n",
              "      <td>강원</td>\n",
              "      <td>건강보조식품 소매업</td>\n",
              "      <td>강원</td>\n",
              "      <td>30s</td>\n",
              "      <td>2</td>\n",
              "      <td>2</td>\n",
              "      <td>10469559</td>\n",
              "      <td>148354746.0</td>\n",
              "      <td>2019</td>\n",
              "      <td>2</td>\n",
              "      <td>0.0</td>\n",
              "      <td>winter</td>\n",
              "    </tr>\n",
              "    <tr>\n",
              "      <th>...</th>\n",
              "      <td>...</td>\n",
              "      <td>...</td>\n",
              "      <td>...</td>\n",
              "      <td>...</td>\n",
              "      <td>...</td>\n",
              "      <td>...</td>\n",
              "      <td>...</td>\n",
              "      <td>...</td>\n",
              "      <td>...</td>\n",
              "      <td>...</td>\n",
              "      <td>...</td>\n",
              "      <td>...</td>\n",
              "    </tr>\n",
              "    <tr>\n",
              "      <th>986443</th>\n",
              "      <td>충북</td>\n",
              "      <td>휴양콘도 운영업</td>\n",
              "      <td>충북</td>\n",
              "      <td>40s</td>\n",
              "      <td>1</td>\n",
              "      <td>4</td>\n",
              "      <td>385700</td>\n",
              "      <td>47085830.0</td>\n",
              "      <td>2020</td>\n",
              "      <td>3</td>\n",
              "      <td>1.0</td>\n",
              "      <td>spring</td>\n",
              "    </tr>\n",
              "    <tr>\n",
              "      <th>986444</th>\n",
              "      <td>충북</td>\n",
              "      <td>휴양콘도 운영업</td>\n",
              "      <td>충북</td>\n",
              "      <td>50s</td>\n",
              "      <td>1</td>\n",
              "      <td>4</td>\n",
              "      <td>790350</td>\n",
              "      <td>47085830.0</td>\n",
              "      <td>2020</td>\n",
              "      <td>3</td>\n",
              "      <td>1.0</td>\n",
              "      <td>spring</td>\n",
              "    </tr>\n",
              "    <tr>\n",
              "      <th>986445</th>\n",
              "      <td>충북</td>\n",
              "      <td>휴양콘도 운영업</td>\n",
              "      <td>충북</td>\n",
              "      <td>50s</td>\n",
              "      <td>2</td>\n",
              "      <td>4</td>\n",
              "      <td>99000</td>\n",
              "      <td>47085830.0</td>\n",
              "      <td>2020</td>\n",
              "      <td>3</td>\n",
              "      <td>1.0</td>\n",
              "      <td>spring</td>\n",
              "    </tr>\n",
              "    <tr>\n",
              "      <th>986446</th>\n",
              "      <td>충북</td>\n",
              "      <td>휴양콘도 운영업</td>\n",
              "      <td>충북</td>\n",
              "      <td>60s</td>\n",
              "      <td>1</td>\n",
              "      <td>5</td>\n",
              "      <td>228800</td>\n",
              "      <td>47085830.0</td>\n",
              "      <td>2020</td>\n",
              "      <td>3</td>\n",
              "      <td>1.0</td>\n",
              "      <td>spring</td>\n",
              "    </tr>\n",
              "    <tr>\n",
              "      <th>986447</th>\n",
              "      <td>충북</td>\n",
              "      <td>휴양콘도 운영업</td>\n",
              "      <td>충북</td>\n",
              "      <td>60s</td>\n",
              "      <td>2</td>\n",
              "      <td>5</td>\n",
              "      <td>51500</td>\n",
              "      <td>47085830.0</td>\n",
              "      <td>2020</td>\n",
              "      <td>3</td>\n",
              "      <td>1.0</td>\n",
              "      <td>spring</td>\n",
              "    </tr>\n",
              "  </tbody>\n",
              "</table>\n",
              "<p>986448 rows × 12 columns</p>\n",
              "</div>"
            ],
            "text/plain": [
              "       CARD_SIDO_NM STD_CLSS_NM HOM_SIDO_NM  AGE  ...  year month  corona  season\n",
              "0                강원  건강보조식품 소매업          강원  20s  ...  2019     2     0.0  winter\n",
              "1                강원  건강보조식품 소매업          강원  20s  ...  2019     2     0.0  winter\n",
              "2                강원  건강보조식품 소매업          강원  20s  ...  2019     2     0.0  winter\n",
              "3                강원  건강보조식품 소매업          강원  30s  ...  2019     2     0.0  winter\n",
              "4                강원  건강보조식품 소매업          강원  30s  ...  2019     2     0.0  winter\n",
              "...             ...         ...         ...  ...  ...   ...   ...     ...     ...\n",
              "986443           충북    휴양콘도 운영업          충북  40s  ...  2020     3     1.0  spring\n",
              "986444           충북    휴양콘도 운영업          충북  50s  ...  2020     3     1.0  spring\n",
              "986445           충북    휴양콘도 운영업          충북  50s  ...  2020     3     1.0  spring\n",
              "986446           충북    휴양콘도 운영업          충북  60s  ...  2020     3     1.0  spring\n",
              "986447           충북    휴양콘도 운영업          충북  60s  ...  2020     3     1.0  spring\n",
              "\n",
              "[986448 rows x 12 columns]"
            ]
          },
          "metadata": {
            "tags": []
          },
          "execution_count": 93
        }
      ]
    },
    {
      "cell_type": "code",
      "metadata": {
        "id": "_H-ihiVNJgIZ",
        "colab_type": "code",
        "colab": {}
      },
      "source": [
        "# sum_df.to_csv('/content/drive/My Drive/Colab Notebooks/data/데이콘/제주/sum_df.csv', encoding='utf-8-sig',index=False)\n",
        "# temp.to_csv('/content/drive/My Drive/Colab Notebooks/data/데이콘/제주/temp.csv', encoding='utf-8-sig',index=False)"
      ],
      "execution_count": null,
      "outputs": []
    },
    {
      "cell_type": "code",
      "metadata": {
        "id": "BdnS2lCqO-xH",
        "colab_type": "code",
        "colab": {}
      },
      "source": [
        "def lgb_cv(max_depth,num_leaves, learning_rate, n_estimators, subsample, colsample_bytree, reg_alpha,reg_lambda, x_data=None, y_data=None, n_splits=5, output='model'):\n",
        "    score = 0\n",
        "    skf = StratifiedKFold(n_splits=n_splits, shuffle=True, random_state=201)\n",
        "    models = []\n",
        "    for train_index, valid_index in skf.split(x_data,x_data['STD_CLSS_NM']):\n",
        "       #print(train_index)\n",
        "       x_train, y_train = x_data.iloc[train_index], y_data.iloc[train_index]\n",
        "       x_valid, y_valid = x_data.iloc[valid_index], y_data.iloc[valid_index]\n",
        "        \n",
        "       model = lgb.LGBMRegressor(\n",
        "               \n",
        "           num_leaves = int(num_leaves), \n",
        "           learning_rate = learning_rate, \n",
        "           n_estimators = int(n_estimators), \n",
        "           subsample = np.clip(subsample, 0, 1), \n",
        "           colsample_bytree = np.clip(colsample_bytree, 0, 1), \n",
        "           reg_alpha = reg_alpha, \n",
        "           reg_lambda = reg_lambda,\n",
        "           )\n",
        "       \n",
        "       model.fit(x_train, y_train)\n",
        "       models.append(model)\n",
        "        \n",
        "       pred = model.predict(x_valid)\n",
        "       true = y_valid\n",
        "       RMSLE = (mean_squared_log_error(true, pred))*(-1)\n",
        "       score += RMSLE/n_splits\n",
        "    \n",
        "    if output == 'score':\n",
        "        return score\n",
        "    if output == 'model':\n",
        "        return models"
      ],
      "execution_count": null,
      "outputs": []
    },
    {
      "cell_type": "code",
      "metadata": {
        "id": "Fh0RC5GbPCK5",
        "colab_type": "code",
        "colab": {
          "base_uri": "https://localhost:8080/",
          "height": 611
        },
        "outputId": "3ec9850a-53cc-4fdd-e6e7-7fe2815ed760"
      },
      "source": [
        "func_fixed = partial(lgb_cv, x_data=x_data, y_data=y_data, n_splits=5, output='score') \n",
        "\n",
        "lgbBO = BayesianOptimization(\n",
        "    func_fixed, \n",
        "    {\n",
        "        'max_depth' : (16,1024),\n",
        "        'num_leaves': (16, 1024),\n",
        "        'learning_rate': (0.0001, 0.1),\n",
        "        'n_estimators': (16, 1024),\n",
        "        'subsample': (0.01, 1),\n",
        "        'colsample_bytree': (0.01, 1),\n",
        "        'reg_alpha': (0.01, 10), \n",
        "        'reg_lambda': (0.01, 50),\n",
        "    }, \n",
        "    random_state=4321\n",
        ")\n",
        "lgbBO.maximize(init_points=25, n_iter=5) #30  "
      ],
      "execution_count": null,
      "outputs": [
        {
          "output_type": "stream",
          "text": [
            "|   iter    |  target   | colsam... | learni... | max_depth | n_esti... | num_le... | reg_alpha | reg_la... | subsample |\n",
            "-------------------------------------------------------------------------------------------------------------------------\n",
            "| \u001b[0m 1       \u001b[0m | \u001b[0m-0.02273 \u001b[0m | \u001b[0m 0.08009 \u001b[0m | \u001b[0m 0.08152 \u001b[0m | \u001b[0m 790.0   \u001b[0m | \u001b[0m 304.6   \u001b[0m | \u001b[0m 210.6   \u001b[0m | \u001b[0m 9.789   \u001b[0m | \u001b[0m 20.32   \u001b[0m | \u001b[0m 0.7602  \u001b[0m |\n",
            "| \u001b[0m 2       \u001b[0m | \u001b[0m-0.02288 \u001b[0m | \u001b[0m 0.09826 \u001b[0m | \u001b[0m 0.03106 \u001b[0m | \u001b[0m 639.9   \u001b[0m | \u001b[0m 479.6   \u001b[0m | \u001b[0m 236.1   \u001b[0m | \u001b[0m 6.639   \u001b[0m | \u001b[0m 33.94   \u001b[0m | \u001b[0m 0.9508  \u001b[0m |\n",
            "| \u001b[95m 3       \u001b[0m | \u001b[95m-0.02149 \u001b[0m | \u001b[95m 0.2884  \u001b[0m | \u001b[95m 0.06202 \u001b[0m | \u001b[95m 402.4   \u001b[0m | \u001b[95m 419.6   \u001b[0m | \u001b[95m 966.2   \u001b[0m | \u001b[95m 9.3     \u001b[0m | \u001b[95m 47.42   \u001b[0m | \u001b[95m 0.3817  \u001b[0m |\n",
            "| \u001b[95m 4       \u001b[0m | \u001b[95m-0.01562 \u001b[0m | \u001b[95m 0.3489  \u001b[0m | \u001b[95m 0.06651 \u001b[0m | \u001b[95m 58.66   \u001b[0m | \u001b[95m 250.1   \u001b[0m | \u001b[95m 449.5   \u001b[0m | \u001b[95m 0.7886  \u001b[0m | \u001b[95m 38.33   \u001b[0m | \u001b[95m 0.8554  \u001b[0m |\n",
            "| \u001b[0m 5       \u001b[0m | \u001b[0m-0.02604 \u001b[0m | \u001b[0m 0.1589  \u001b[0m | \u001b[0m 0.0102  \u001b[0m | \u001b[0m 289.1   \u001b[0m | \u001b[0m 46.4    \u001b[0m | \u001b[0m 860.5   \u001b[0m | \u001b[0m 5.98    \u001b[0m | \u001b[0m 46.56   \u001b[0m | \u001b[0m 0.5006  \u001b[0m |\n",
            "| \u001b[0m 6       \u001b[0m | \u001b[0m-0.01739 \u001b[0m | \u001b[0m 0.3827  \u001b[0m | \u001b[0m 0.02445 \u001b[0m | \u001b[0m 622.6   \u001b[0m | \u001b[0m 348.3   \u001b[0m | \u001b[0m 481.4   \u001b[0m | \u001b[0m 7.252   \u001b[0m | \u001b[0m 40.59   \u001b[0m | \u001b[0m 0.9862  \u001b[0m |\n",
            "| \u001b[0m 7       \u001b[0m | \u001b[0m-0.02113 \u001b[0m | \u001b[0m 0.2347  \u001b[0m | \u001b[0m 0.05681 \u001b[0m | \u001b[0m 56.21   \u001b[0m | \u001b[0m 960.5   \u001b[0m | \u001b[0m 289.4   \u001b[0m | \u001b[0m 5.755   \u001b[0m | \u001b[0m 18.31   \u001b[0m | \u001b[0m 0.2704  \u001b[0m |\n",
            "| \u001b[0m 8       \u001b[0m | \u001b[0m-0.02355 \u001b[0m | \u001b[0m 0.2029  \u001b[0m | \u001b[0m 0.0565  \u001b[0m | \u001b[0m 910.3   \u001b[0m | \u001b[0m 63.2    \u001b[0m | \u001b[0m 102.2   \u001b[0m | \u001b[0m 0.8389  \u001b[0m | \u001b[0m 14.17   \u001b[0m | \u001b[0m 0.3037  \u001b[0m |\n",
            "| \u001b[0m 9       \u001b[0m | \u001b[0m-0.02271 \u001b[0m | \u001b[0m 0.1992  \u001b[0m | \u001b[0m 0.04147 \u001b[0m | \u001b[0m 535.7   \u001b[0m | \u001b[0m 709.9   \u001b[0m | \u001b[0m 39.4    \u001b[0m | \u001b[0m 9.679   \u001b[0m | \u001b[0m 33.9    \u001b[0m | \u001b[0m 0.9401  \u001b[0m |\n",
            "| \u001b[95m 10      \u001b[0m | \u001b[95m-0.003554\u001b[0m | \u001b[95m 0.6951  \u001b[0m | \u001b[95m 0.01745 \u001b[0m | \u001b[95m 245.8   \u001b[0m | \u001b[95m 980.6   \u001b[0m | \u001b[95m 548.6   \u001b[0m | \u001b[95m 5.565   \u001b[0m | \u001b[95m 46.7    \u001b[0m | \u001b[95m 0.2443  \u001b[0m |\n",
            "| \u001b[0m 11      \u001b[0m | \u001b[0m-0.02189 \u001b[0m | \u001b[0m 0.2936  \u001b[0m | \u001b[0m 0.07742 \u001b[0m | \u001b[0m 116.5   \u001b[0m | \u001b[0m 191.9   \u001b[0m | \u001b[0m 509.3   \u001b[0m | \u001b[0m 1.589   \u001b[0m | \u001b[0m 16.0    \u001b[0m | \u001b[0m 0.6646  \u001b[0m |\n",
            "| \u001b[0m 12      \u001b[0m | \u001b[0m-0.009412\u001b[0m | \u001b[0m 0.3545  \u001b[0m | \u001b[0m 0.04355 \u001b[0m | \u001b[0m 586.2   \u001b[0m | \u001b[0m 797.2   \u001b[0m | \u001b[0m 83.79   \u001b[0m | \u001b[0m 1.629   \u001b[0m | \u001b[0m 36.96   \u001b[0m | \u001b[0m 0.3188  \u001b[0m |\n",
            "| \u001b[0m 13      \u001b[0m | \u001b[0m-0.02271 \u001b[0m | \u001b[0m 0.05967 \u001b[0m | \u001b[0m 0.06905 \u001b[0m | \u001b[0m 811.3   \u001b[0m | \u001b[0m 600.8   \u001b[0m | \u001b[0m 275.8   \u001b[0m | \u001b[0m 3.079   \u001b[0m | \u001b[0m 21.94   \u001b[0m | \u001b[0m 0.5243  \u001b[0m |\n",
            "| \u001b[95m 14      \u001b[0m | \u001b[95m-0.002495\u001b[0m | \u001b[95m 0.6847  \u001b[0m | \u001b[95m 0.07831 \u001b[0m | \u001b[95m 918.8   \u001b[0m | \u001b[95m 750.0   \u001b[0m | \u001b[95m 494.4   \u001b[0m | \u001b[95m 7.454   \u001b[0m | \u001b[95m 1.395   \u001b[0m | \u001b[95m 0.6958  \u001b[0m |\n",
            "| \u001b[0m 15      \u001b[0m | \u001b[0m-0.02292 \u001b[0m | \u001b[0m 0.1182  \u001b[0m | \u001b[0m 0.07642 \u001b[0m | \u001b[0m 116.8   \u001b[0m | \u001b[0m 209.3   \u001b[0m | \u001b[0m 749.7   \u001b[0m | \u001b[0m 6.826   \u001b[0m | \u001b[0m 20.26   \u001b[0m | \u001b[0m 0.3488  \u001b[0m |\n",
            "| \u001b[0m 16      \u001b[0m | \u001b[0m-0.01019 \u001b[0m | \u001b[0m 0.785   \u001b[0m | \u001b[0m 0.04813 \u001b[0m | \u001b[0m 1.003e+0\u001b[0m | \u001b[0m 115.6   \u001b[0m | \u001b[0m 100.7   \u001b[0m | \u001b[0m 5.442   \u001b[0m | \u001b[0m 46.88   \u001b[0m | \u001b[0m 0.3892  \u001b[0m |\n",
            "| \u001b[0m 17      \u001b[0m | \u001b[0m-0.003639\u001b[0m | \u001b[0m 0.8152  \u001b[0m | \u001b[0m 0.0222  \u001b[0m | \u001b[0m 122.6   \u001b[0m | \u001b[0m 578.4   \u001b[0m | \u001b[0m 348.6   \u001b[0m | \u001b[0m 6.919   \u001b[0m | \u001b[0m 24.16   \u001b[0m | \u001b[0m 0.3636  \u001b[0m |\n",
            "| \u001b[0m 18      \u001b[0m | \u001b[0m-0.01739 \u001b[0m | \u001b[0m 0.3712  \u001b[0m | \u001b[0m 0.09268 \u001b[0m | \u001b[0m 436.9   \u001b[0m | \u001b[0m 134.0   \u001b[0m | \u001b[0m 969.1   \u001b[0m | \u001b[0m 0.786   \u001b[0m | \u001b[0m 42.14   \u001b[0m | \u001b[0m 0.9937  \u001b[0m |\n",
            "| \u001b[0m 19      \u001b[0m | \u001b[0m-0.01788 \u001b[0m | \u001b[0m 0.3108  \u001b[0m | \u001b[0m 0.04248 \u001b[0m | \u001b[0m 147.4   \u001b[0m | \u001b[0m 203.2   \u001b[0m | \u001b[0m 705.4   \u001b[0m | \u001b[0m 8.387   \u001b[0m | \u001b[0m 17.17   \u001b[0m | \u001b[0m 0.6172  \u001b[0m |\n",
            "| \u001b[0m 20      \u001b[0m | \u001b[0m-0.004905\u001b[0m | \u001b[0m 0.3878  \u001b[0m | \u001b[0m 0.08612 \u001b[0m | \u001b[0m 204.3   \u001b[0m | \u001b[0m 840.5   \u001b[0m | \u001b[0m 534.1   \u001b[0m | \u001b[0m 8.653   \u001b[0m | \u001b[0m 2.784   \u001b[0m | \u001b[0m 0.814   \u001b[0m |\n",
            "| \u001b[0m 21      \u001b[0m | \u001b[0m-0.005915\u001b[0m | \u001b[0m 0.3712  \u001b[0m | \u001b[0m 0.0571  \u001b[0m | \u001b[0m 52.78   \u001b[0m | \u001b[0m 1.009e+0\u001b[0m | \u001b[0m 307.0   \u001b[0m | \u001b[0m 1.082   \u001b[0m | \u001b[0m 16.65   \u001b[0m | \u001b[0m 0.5393  \u001b[0m |\n",
            "| \u001b[0m 22      \u001b[0m | \u001b[0m-0.007487\u001b[0m | \u001b[0m 0.3919  \u001b[0m | \u001b[0m 0.09193 \u001b[0m | \u001b[0m 686.4   \u001b[0m | \u001b[0m 455.2   \u001b[0m | \u001b[0m 342.4   \u001b[0m | \u001b[0m 7.178   \u001b[0m | \u001b[0m 2.037   \u001b[0m | \u001b[0m 0.4128  \u001b[0m |\n",
            "| \u001b[0m 23      \u001b[0m | \u001b[0m-0.02285 \u001b[0m | \u001b[0m 0.1306  \u001b[0m | \u001b[0m 0.01864 \u001b[0m | \u001b[0m 756.4   \u001b[0m | \u001b[0m 862.6   \u001b[0m | \u001b[0m 500.3   \u001b[0m | \u001b[0m 6.649   \u001b[0m | \u001b[0m 48.32   \u001b[0m | \u001b[0m 0.9888  \u001b[0m |\n",
            "| \u001b[95m 24      \u001b[0m | \u001b[95m-0.00244 \u001b[0m | \u001b[95m 0.6138  \u001b[0m | \u001b[95m 0.08028 \u001b[0m | \u001b[95m 422.7   \u001b[0m | \u001b[95m 941.3   \u001b[0m | \u001b[95m 495.6   \u001b[0m | \u001b[95m 7.675   \u001b[0m | \u001b[95m 22.68   \u001b[0m | \u001b[95m 0.5447  \u001b[0m |\n",
            "| \u001b[0m 25      \u001b[0m | \u001b[0m-0.02235 \u001b[0m | \u001b[0m 0.2877  \u001b[0m | \u001b[0m 0.009777\u001b[0m | \u001b[0m 333.9   \u001b[0m | \u001b[0m 714.0   \u001b[0m | \u001b[0m 459.1   \u001b[0m | \u001b[0m 3.902   \u001b[0m | \u001b[0m 36.91   \u001b[0m | \u001b[0m 0.401   \u001b[0m |\n",
            "| \u001b[95m 26      \u001b[0m | \u001b[95m-0.002106\u001b[0m | \u001b[95m 0.9301  \u001b[0m | \u001b[95m 0.05612 \u001b[0m | \u001b[95m 979.7   \u001b[0m | \u001b[95m 990.9   \u001b[0m | \u001b[95m 996.8   \u001b[0m | \u001b[95m 9.353   \u001b[0m | \u001b[95m 4.635   \u001b[0m | \u001b[95m 0.8059  \u001b[0m |\n",
            "| \u001b[0m 27      \u001b[0m | \u001b[0m-0.004218\u001b[0m | \u001b[0m 0.6036  \u001b[0m | \u001b[0m 0.03976 \u001b[0m | \u001b[0m 1.002e+0\u001b[0m | \u001b[0m 1.001e+0\u001b[0m | \u001b[0m 65.26   \u001b[0m | \u001b[0m 5.33    \u001b[0m | \u001b[0m 1.359   \u001b[0m | \u001b[0m 0.5223  \u001b[0m |\n",
            "| \u001b[0m 28      \u001b[0m | \u001b[0m-0.0159  \u001b[0m | \u001b[0m 0.5443  \u001b[0m | \u001b[0m 0.07322 \u001b[0m | \u001b[0m 1.005e+0\u001b[0m | \u001b[0m 35.74   \u001b[0m | \u001b[0m 994.6   \u001b[0m | \u001b[0m 9.425   \u001b[0m | \u001b[0m 14.11   \u001b[0m | \u001b[0m 0.4467  \u001b[0m |\n",
            "| \u001b[0m 29      \u001b[0m | \u001b[0m-0.02271 \u001b[0m | \u001b[0m 0.06314 \u001b[0m | \u001b[0m 0.08858 \u001b[0m | \u001b[0m 18.37   \u001b[0m | \u001b[0m 991.6   \u001b[0m | \u001b[0m 1.012e+0\u001b[0m | \u001b[0m 1.153   \u001b[0m | \u001b[0m 3.399   \u001b[0m | \u001b[0m 0.3412  \u001b[0m |\n",
            "| \u001b[0m 30      \u001b[0m | \u001b[0m-0.02434 \u001b[0m | \u001b[0m 0.2414  \u001b[0m | \u001b[0m 0.05626 \u001b[0m | \u001b[0m 1.016e+0\u001b[0m | \u001b[0m 36.91   \u001b[0m | \u001b[0m 480.8   \u001b[0m | \u001b[0m 4.884   \u001b[0m | \u001b[0m 2.086   \u001b[0m | \u001b[0m 0.6186  \u001b[0m |\n",
            "=========================================================================================================================\n"
          ],
          "name": "stdout"
        }
      ]
    },
    {
      "cell_type": "code",
      "metadata": {
        "id": "Ed9UXM2dRFP4",
        "colab_type": "code",
        "colab": {}
      },
      "source": [
        "params = lgbBO.max['params']\n",
        "models = lgb_cv(\n",
        "    params['max_depth'],\n",
        "    params['num_leaves'],   \n",
        "    params['learning_rate'], \n",
        "    params['n_estimators'], \n",
        "    params['subsample'], \n",
        "    params['colsample_bytree'], \n",
        "    params['reg_alpha'], \n",
        "    params['reg_lambda'], \n",
        "    x_data=x_data, y_data=y_data, n_splits=5, output='model')"
      ],
      "execution_count": null,
      "outputs": []
    },
    {
      "cell_type": "code",
      "metadata": {
        "id": "j_z81IHKg_Ff",
        "colab_type": "code",
        "colab": {}
      },
      "source": [
        "for col in temp.columns:\n",
        "  temp[col] = temp[col].astype('category')"
      ],
      "execution_count": null,
      "outputs": []
    },
    {
      "cell_type": "code",
      "metadata": {
        "id": "1fLW-jCYRgSB",
        "colab_type": "code",
        "colab": {}
      },
      "source": [
        "preds = []\n",
        "for model in models:\n",
        "    pred = model.predict(temp)\n",
        "    preds.append(pred)\n",
        "\n",
        "pred = np.mean(preds, axis=0)\n",
        "\n",
        "temp['AMT'] = pred"
      ],
      "execution_count": null,
      "outputs": []
    },
    {
      "cell_type": "code",
      "metadata": {
        "id": "BN4JJtVskkNz",
        "colab_type": "code",
        "colab": {}
      },
      "source": [
        "temp['REG_YYMM']= temp['year'].astype('object') +temp['month'].astype('object')\n",
        "temp['REG_YYMM'] = temp['REG_YYMM'].astype('int64')"
      ],
      "execution_count": null,
      "outputs": []
    },
    {
      "cell_type": "code",
      "metadata": {
        "id": "fCn4lOQgSJdk",
        "colab_type": "code",
        "colab": {}
      },
      "source": [
        "temp = temp[['REG_YYMM', 'CARD_SIDO_NM', 'STD_CLSS_NM', 'AMT']]\n",
        "temp['AMT'] = np.expm1(temp['AMT'])\n",
        "temp = temp.groupby(['REG_YYMM', 'CARD_SIDO_NM', 'STD_CLSS_NM']).sum().reset_index(drop=False)"
      ],
      "execution_count": null,
      "outputs": []
    },
    {
      "cell_type": "code",
      "metadata": {
        "id": "55iOYYNexvqG",
        "colab_type": "code",
        "colab": {}
      },
      "source": [
        "temp = temp.reset_index()\n",
        "temp['AMT'] = np.round(temp['AMT'], 0)\n",
        "temp['CARD_SIDO_NM'] = temp['CARD_SIDO_NM'].astype('object')\n",
        "temp['STD_CLSS_NM'] = temp['STD_CLSS_NM'].astype('object')\n",
        "temp['AMT'] = temp['AMT'].astype('int64')\n",
        "# temp.to_csv('/content/drive/My Drive/Colab Notebooks/data/데이콘/제주/submission_baseline_3(7).csv', encoding='utf-8-sig',index=False)\n",
        "# temp.head()"
      ],
      "execution_count": null,
      "outputs": []
    },
    {
      "cell_type": "code",
      "metadata": {
        "id": "YMmqcMpt2PNf",
        "colab_type": "code",
        "colab": {}
      },
      "source": [
        "sub = pd.read_csv('/content/drive/My Drive/Colab Notebooks/data/데이콘/제주/submission.csv')\n",
        "# sub = sub.drop(['AMT'], axis=1)\n",
        "# sub.merge(temp,on=['REG_YYMM','CARD_SIDO_NM','STD_CLSS_NM'])"
      ],
      "execution_count": null,
      "outputs": []
    },
    {
      "cell_type": "code",
      "metadata": {
        "id": "KjmAUmD23OWa",
        "colab_type": "code",
        "colab": {
          "base_uri": "https://localhost:8080/",
          "height": 204
        },
        "outputId": "3b8a87f7-c6e8-4839-9fec-fb59eee70f60"
      },
      "source": [
        "sub['AMT'] = temp['AMT']\n",
        "sub.head()"
      ],
      "execution_count": null,
      "outputs": [
        {
          "output_type": "execute_result",
          "data": {
            "text/html": [
              "<div>\n",
              "<style scoped>\n",
              "    .dataframe tbody tr th:only-of-type {\n",
              "        vertical-align: middle;\n",
              "    }\n",
              "\n",
              "    .dataframe tbody tr th {\n",
              "        vertical-align: top;\n",
              "    }\n",
              "\n",
              "    .dataframe thead th {\n",
              "        text-align: right;\n",
              "    }\n",
              "</style>\n",
              "<table border=\"1\" class=\"dataframe\">\n",
              "  <thead>\n",
              "    <tr style=\"text-align: right;\">\n",
              "      <th></th>\n",
              "      <th>id</th>\n",
              "      <th>REG_YYMM</th>\n",
              "      <th>CARD_SIDO_NM</th>\n",
              "      <th>STD_CLSS_NM</th>\n",
              "      <th>AMT</th>\n",
              "    </tr>\n",
              "  </thead>\n",
              "  <tbody>\n",
              "    <tr>\n",
              "      <th>0</th>\n",
              "      <td>0</td>\n",
              "      <td>202004</td>\n",
              "      <td>강원</td>\n",
              "      <td>건강보조식품 소매업</td>\n",
              "      <td>13886229</td>\n",
              "    </tr>\n",
              "    <tr>\n",
              "      <th>1</th>\n",
              "      <td>1</td>\n",
              "      <td>202004</td>\n",
              "      <td>강원</td>\n",
              "      <td>골프장 운영업</td>\n",
              "      <td>385097701</td>\n",
              "    </tr>\n",
              "    <tr>\n",
              "      <th>2</th>\n",
              "      <td>2</td>\n",
              "      <td>202004</td>\n",
              "      <td>강원</td>\n",
              "      <td>과실 및 채소 소매업</td>\n",
              "      <td>165273097</td>\n",
              "    </tr>\n",
              "    <tr>\n",
              "      <th>3</th>\n",
              "      <td>3</td>\n",
              "      <td>202004</td>\n",
              "      <td>강원</td>\n",
              "      <td>관광 민예품 및 선물용품 소매업</td>\n",
              "      <td>10660922</td>\n",
              "    </tr>\n",
              "    <tr>\n",
              "      <th>4</th>\n",
              "      <td>4</td>\n",
              "      <td>202004</td>\n",
              "      <td>강원</td>\n",
              "      <td>그외 기타 분류안된 오락관련 서비스업</td>\n",
              "      <td>5822870</td>\n",
              "    </tr>\n",
              "  </tbody>\n",
              "</table>\n",
              "</div>"
            ],
            "text/plain": [
              "   id  REG_YYMM CARD_SIDO_NM           STD_CLSS_NM        AMT\n",
              "0   0    202004           강원            건강보조식품 소매업   13886229\n",
              "1   1    202004           강원               골프장 운영업  385097701\n",
              "2   2    202004           강원           과실 및 채소 소매업  165273097\n",
              "3   3    202004           강원     관광 민예품 및 선물용품 소매업   10660922\n",
              "4   4    202004           강원  그외 기타 분류안된 오락관련 서비스업    5822870"
            ]
          },
          "metadata": {
            "tags": []
          },
          "execution_count": 51
        }
      ]
    },
    {
      "cell_type": "code",
      "metadata": {
        "id": "vytDOcyB3wdu",
        "colab_type": "code",
        "colab": {}
      },
      "source": [
        "sub.to_csv('/content/drive/My Drive/Colab Notebooks/data/데이콘/제주/submission_baseline_2(13).csv', encoding='utf-8-sig',index=False)"
      ],
      "execution_count": null,
      "outputs": []
    },
    {
      "cell_type": "markdown",
      "metadata": {
        "id": "xDQn160vJujF",
        "colab_type": "text"
      },
      "source": [
        "# Base Line 3\n",
        "- Smote 적용\n",
        " - 이를 위해 라벨 인코딩을 해야함."
      ]
    },
    {
      "cell_type": "markdown",
      "metadata": {
        "id": "cgyCHPG4gGnS",
        "colab_type": "text"
      },
      "source": [
        "## train 데이터 만들기"
      ]
    },
    {
      "cell_type": "code",
      "metadata": {
        "id": "AVYmCqO6JwPD",
        "colab_type": "code",
        "colab": {}
      },
      "source": [
        "data.head()"
      ],
      "execution_count": null,
      "outputs": []
    },
    {
      "cell_type": "code",
      "metadata": {
        "id": "11WgFmBUPSTz",
        "colab_type": "code",
        "colab": {}
      },
      "source": [
        "data.drop(['CARD_CCG_NM','HOM_CCG_NM','CSTMR_CNT','CNT'],axis=1,inplace=True)\n",
        "data=data.groupby(['REG_YYMM','CARD_SIDO_NM','STD_CLSS_NM','HOM_SIDO_NM','AGE','SEX_CTGO_CD','FLC'])['AMT'].sum().reset_index()"
      ],
      "execution_count": null,
      "outputs": []
    },
    {
      "cell_type": "code",
      "metadata": {
        "id": "nbKT7StCQKL2",
        "colab_type": "code",
        "colab": {}
      },
      "source": [
        "# for col in data.drop('AMT',axis=1):\n",
        "#   data[col] = data[col].astype('str')"
      ],
      "execution_count": null,
      "outputs": []
    },
    {
      "cell_type": "code",
      "metadata": {
        "id": "sv0OotpmRigF",
        "colab_type": "code",
        "colab": {}
      },
      "source": [
        "data['year']=data['REG_YYMM'].apply(lambda x: int(str(x)[:4]))\n",
        "data['month'] = data['REG_YYMM'].apply(lambda x: int(str(x)[4:]))"
      ],
      "execution_count": null,
      "outputs": []
    },
    {
      "cell_type": "code",
      "metadata": {
        "id": "cOZ0BZecTmKb",
        "colab_type": "code",
        "colab": {}
      },
      "source": [
        "data.loc[data['year'] ==2019,'corona'] = 0\n",
        "data.loc[data['year'] ==2020,'corona'] = 1"
      ],
      "execution_count": null,
      "outputs": []
    },
    {
      "cell_type": "code",
      "metadata": {
        "id": "AClNktOQTo4h",
        "colab_type": "code",
        "colab": {}
      },
      "source": [
        "data.loc[(data['month']>=3) & (data['month']<=5),'season'] = 'spring'\n",
        "data.loc[(data['month']>=6) & (data['month']<=8),'season'] = 'summer'\n",
        "data.loc[(data['month']>=9) & (data['month']<=11),'season'] = 'fall'\n",
        "data.loc[(data['month']==12) | (data['month']<=2),'season'] = 'winter'"
      ],
      "execution_count": null,
      "outputs": []
    },
    {
      "cell_type": "code",
      "metadata": {
        "id": "5QST8px9TuCD",
        "colab_type": "code",
        "colab": {}
      },
      "source": [
        "data['next_month']=data['REG_YYMM'].apply(lambda x: x+1 if x != 201912 else 202001)\n",
        "data.head()"
      ],
      "execution_count": null,
      "outputs": []
    },
    {
      "cell_type": "code",
      "metadata": {
        "id": "E_z3oUuIUPPQ",
        "colab_type": "code",
        "colab": {}
      },
      "source": [
        "# 이전 월마다 업종의  AMT 구하기\n",
        "nm_sum = data.groupby(['next_month','CARD_SIDO_NM','STD_CLSS_NM','HOM_SIDO_NM'])['AMT'].sum().reset_index(name='previous_AMT')\n",
        "nm_sum.head()"
      ],
      "execution_count": null,
      "outputs": []
    },
    {
      "cell_type": "code",
      "metadata": {
        "id": "hPHNxcmPVobV",
        "colab_type": "code",
        "colab": {}
      },
      "source": [
        "train_df=\\\n",
        "data[data['REG_YYMM'] !=201901].drop('next_month',axis=1).merge(nm_sum,how='left',\n",
        "                                                                left_on=['REG_YYMM','CARD_SIDO_NM','STD_CLSS_NM','HOM_SIDO_NM'],\n",
        "                                                                right_on=['next_month','CARD_SIDO_NM','STD_CLSS_NM','HOM_SIDO_NM'])\n",
        "train_df.drop('next_month',axis=1,inplace=True)\n",
        "train_df['previous_AMT'] = train_df['previous_AMT'].fillna(0)\n",
        "train_df.head()"
      ],
      "execution_count": null,
      "outputs": []
    },
    {
      "cell_type": "code",
      "metadata": {
        "id": "OVozNuOoZsx9",
        "colab_type": "code",
        "colab": {}
      },
      "source": [
        "data.head()"
      ],
      "execution_count": null,
      "outputs": []
    },
    {
      "cell_type": "markdown",
      "metadata": {
        "id": "Fu6ABKpbczzj",
        "colab_type": "text"
      },
      "source": [
        "## test 데이터 만들기"
      ]
    },
    {
      "cell_type": "code",
      "metadata": {
        "id": "G9UZMGqVbTph",
        "colab_type": "code",
        "colab": {}
      },
      "source": [
        "# 기본 test 템플릿 만들기\n",
        "REG_YYMMs = [202004,202007]\n",
        "CARD_SIDO_NMs = data['CARD_SIDO_NM'].unique()\n",
        "STD_CLSS_NMs  = data['STD_CLSS_NM'].unique()\n",
        "HOM_SIDO_NMs  = data['HOM_SIDO_NM'].unique()\n",
        "AGEs          = data['AGE'].unique()\n",
        "SEX_CTGO_CDs  = data['SEX_CTGO_CD'].unique()\n",
        "FLCs          = data['FLC'].unique()\n",
        "\n",
        "temp = []\n",
        "for REG_YYMM in REG_YYMMs:\n",
        "  for CARD_SIDO_NM in CARD_SIDO_NMs:\n",
        "      for STD_CLSS_NM in STD_CLSS_NMs:\n",
        "          for HOM_SIDO_NM in HOM_SIDO_NMs:\n",
        "              for AGE in AGEs:\n",
        "                  for SEX_CTGO_CD in SEX_CTGO_CDs:\n",
        "                      for FLC in FLCs:\n",
        "                        temp.append([REG_YYMM,CARD_SIDO_NM, STD_CLSS_NM, HOM_SIDO_NM, AGE, SEX_CTGO_CD, FLC])\n",
        "\n",
        "temp = np.array(temp)\n",
        "temp = pd.DataFrame(data=temp, columns=['REG_YYMM','CARD_SIDO_NM', 'STD_CLSS_NM', 'HOM_SIDO_NM', 'AGE', 'SEX_CTGO_CD', 'FLC'])"
      ],
      "execution_count": null,
      "outputs": []
    },
    {
      "cell_type": "code",
      "metadata": {
        "id": "3uA8vFA3ck_R",
        "colab_type": "code",
        "colab": {}
      },
      "source": [
        "temp['year']=temp['REG_YYMM'].apply(lambda x: int(str(x)[:4]))\n",
        "temp['month'] = temp['REG_YYMM'].apply(lambda x: int(str(x)[4:]))\n",
        "\n",
        "temp['corona']=1\n",
        "\n",
        "temp.loc[(temp['month']>=3) & (temp['month']<=5),'season'] = 'spring'\n",
        "temp.loc[(temp['month']>=6) & (temp['month']<8),'season'] = 'summer'\n",
        "temp.loc[(temp['month']>=9) & (temp['month']<=11),'season'] = 'fall'\n",
        "temp.loc[(temp['month']==12) | (temp['month']<=2),'season'] = 'winter'\n",
        "\n",
        "#temp['next_month'] = temp['REG_YYMM'].apply(lambda x: int(x)+1 if int(x) != 201912 else 202001)\n",
        "#temp['next_month'] = temp['next_month'].astype('int64')\n",
        "temp['REG_YYMM'] = temp['REG_YYMM'].astype('int64')\n",
        "temp.head()"
      ],
      "execution_count": null,
      "outputs": []
    },
    {
      "cell_type": "code",
      "metadata": {
        "id": "Icq3HA5Ae8G9",
        "colab_type": "code",
        "colab": {}
      },
      "source": [
        "test_df=temp.merge(nm_sum,how='left',\n",
        "                   left_on=['REG_YYMM','CARD_SIDO_NM','STD_CLSS_NM','HOM_SIDO_NM'],\n",
        "                   right_on=['next_month','CARD_SIDO_NM','STD_CLSS_NM','HOM_SIDO_NM'])\n",
        "\n",
        "test_df.drop('next_month',axis=1,inplace=True)\n",
        "test_df['previous_AMT']=test_df['previous_AMT'].fillna(0)\n",
        "test_df.head()"
      ],
      "execution_count": null,
      "outputs": []
    },
    {
      "cell_type": "code",
      "metadata": {
        "id": "J8dDHg45hLil",
        "colab_type": "code",
        "colab": {}
      },
      "source": [
        "train_df.drop('REG_YYMM',axis=1,inplace=True)\n",
        "test_df.drop('REG_YYMM',axis=1,inplace=True)"
      ],
      "execution_count": null,
      "outputs": []
    },
    {
      "cell_type": "code",
      "metadata": {
        "id": "6RJmkH-AiRfy",
        "colab_type": "code",
        "colab": {}
      },
      "source": [
        "# train, test type 맞춰주기\n",
        "for col in test_df.columns:\n",
        "  test_df[col] = test_df[col].astype(train_df[col].dtype)"
      ],
      "execution_count": null,
      "outputs": []
    },
    {
      "cell_type": "code",
      "metadata": {
        "id": "8oKT03yslKeN",
        "colab_type": "code",
        "colab": {}
      },
      "source": [
        "train_df"
      ],
      "execution_count": null,
      "outputs": []
    },
    {
      "cell_type": "code",
      "metadata": {
        "id": "ke_CceXGntY4",
        "colab_type": "code",
        "colab": {}
      },
      "source": [
        "def make_encoders(df):\n",
        "  encoders={}\n",
        "  for col in df.drop(['AMT','previous_AMT','corona'],axis=1).columns:\n",
        "    con_list =[]\n",
        "    encoder={}\n",
        "    for idx, content in enumerate(df[col].unique()):\n",
        "      encoder[content]=idx\n",
        "    \n",
        "    encoders[col] = encoder\n",
        "  \n",
        "  return encoders"
      ],
      "execution_count": null,
      "outputs": []
    },
    {
      "cell_type": "code",
      "metadata": {
        "id": "xCF3zNUrqYDq",
        "colab_type": "code",
        "colab": {}
      },
      "source": [
        "kk=make_encoders(train_df)"
      ],
      "execution_count": null,
      "outputs": []
    },
    {
      "cell_type": "code",
      "metadata": {
        "id": "hoZmS6X9r4nE",
        "colab_type": "code",
        "colab": {}
      },
      "source": [
        "for col in kk.keys():\n",
        "  train_df[col] = train_df[col].apply(lambda x: kk[col][x])\n",
        "  test_df[col] = test_df[col].apply(lambda x: kk[col][x])"
      ],
      "execution_count": null,
      "outputs": []
    },
    {
      "cell_type": "code",
      "metadata": {
        "id": "EkPyHcINtabm",
        "colab_type": "code",
        "colab": {}
      },
      "source": [
        "train_df"
      ],
      "execution_count": null,
      "outputs": []
    },
    {
      "cell_type": "code",
      "metadata": {
        "id": "MQStcl5oa4M6",
        "colab_type": "code",
        "colab": {}
      },
      "source": [
        "train_df['month'].map(my_dict)"
      ],
      "execution_count": null,
      "outputs": []
    },
    {
      "cell_type": "code",
      "metadata": {
        "id": "8feDauaptfPC",
        "colab_type": "code",
        "colab": {}
      },
      "source": [
        "test_df"
      ],
      "execution_count": null,
      "outputs": []
    },
    {
      "cell_type": "markdown",
      "metadata": {
        "id": "7AYu1eUxgBLF",
        "colab_type": "text"
      },
      "source": [
        "---"
      ]
    },
    {
      "cell_type": "markdown",
      "metadata": {
        "id": "GH26S7mOgCIx",
        "colab_type": "text"
      },
      "source": [
        "## 모델링"
      ]
    },
    {
      "cell_type": "code",
      "metadata": {
        "id": "zqQS__PpitNr",
        "colab_type": "code",
        "colab": {}
      },
      "source": [
        "for col in train_df.columns:\n",
        "  if col !='AMT' and col !='previous_AMT':\n",
        "    train_df[col] = train_df[col].astype('category')\n",
        "    test_df[col] = test_df[col].astype('category')"
      ],
      "execution_count": null,
      "outputs": []
    },
    {
      "cell_type": "code",
      "metadata": {
        "id": "pptk-SnAu5j6",
        "colab_type": "code",
        "colab": {}
      },
      "source": [
        "x_data = train_df.drop('AMT',axis=1)\n",
        "y_data = np.log1p(train_df['AMT'])"
      ],
      "execution_count": null,
      "outputs": []
    },
    {
      "cell_type": "code",
      "metadata": {
        "id": "fQFtGhNHu8nF",
        "colab_type": "code",
        "colab": {}
      },
      "source": [
        "def lgb_cv(max_depth,num_leaves, learning_rate, n_estimators, subsample, colsample_bytree, reg_alpha,reg_lambda, x_data=None, y_data=None, n_splits=5, output='model'):\n",
        "    score = 0\n",
        "    skf = StratifiedKFold(n_splits=n_splits, shuffle=True, random_state=201)\n",
        "    models = []\n",
        "    for train_index, valid_index in skf.split(x_data,x_data['STD_CLSS_NM']):\n",
        "       x_train, y_train = x_data.iloc[train_index], y_data.iloc[train_index]\n",
        "       x_valid, y_valid = x_data.iloc[valid_index], y_data.iloc[valid_index]\n",
        "\n",
        "       # Smote를 위해 데이터 병합\n",
        "       x_train['AMT'] = y_train\n",
        "\n",
        "       # Smote\n",
        "       sm = SMOTE(ratio='auto', kind='regular')\n",
        "       data_over,_ = sm.fit_sample(x_train,x_train['STD_CLSS_NM'])\n",
        "       X_resampled = data_over[:,:-1]\n",
        "       y_resampled = data_over[:,-1]\n",
        "\n",
        "       x_valid, y_valid = x_data.iloc[valid_index], y_data.iloc[valid_index]\n",
        "\n",
        "       model = lgb.LGBMRegressor(\n",
        "               \n",
        "           num_leaves = int(num_leaves), \n",
        "           learning_rate = learning_rate, \n",
        "           n_estimators = int(n_estimators), \n",
        "           subsample = np.clip(subsample, 0, 1), \n",
        "           colsample_bytree = np.clip(colsample_bytree, 0, 1), \n",
        "           reg_alpha = reg_alpha, \n",
        "           reg_lambda = reg_lambda,\n",
        "           )\n",
        "       \n",
        "       model.fit(X_resampled, y_resampled)\n",
        "       models.append(model)\n",
        "        \n",
        "       pred = model.predict(x_valid)\n",
        "       true = y_valid\n",
        "       RMSLE = (mean_squared_log_error(true, pred))*(-1)\n",
        "       score += RMSLE/n_splits\n",
        "    \n",
        "    if output == 'score':\n",
        "        return score\n",
        "    if output == 'model':\n",
        "        return models"
      ],
      "execution_count": null,
      "outputs": []
    },
    {
      "cell_type": "code",
      "metadata": {
        "id": "M7CSWmUNvB73",
        "colab_type": "code",
        "colab": {}
      },
      "source": [
        "func_fixed = partial(lgb_cv, x_data=x_data, y_data=y_data, n_splits=5, output='score') \n",
        "\n",
        "lgbBO = BayesianOptimization(\n",
        "    func_fixed, \n",
        "    {\n",
        "        'max_depth' : (16,1024),\n",
        "        'num_leaves': (16, 1024),\n",
        "        'learning_rate': (0.0001, 0.1),\n",
        "        'n_estimators': (16, 1024),\n",
        "        'subsample': (0.01, 1),\n",
        "        'colsample_bytree': (0.01, 1),\n",
        "        'reg_alpha': (0.01, 10), \n",
        "        'reg_lambda': (0.01, 50),\n",
        "    }, \n",
        "    random_state=4321\n",
        ")\n",
        "lgbBO.maximize(init_points=25, n_iter=5) #30  "
      ],
      "execution_count": null,
      "outputs": []
    },
    {
      "cell_type": "code",
      "metadata": {
        "id": "1CwLDvBJvDZB",
        "colab_type": "code",
        "colab": {}
      },
      "source": [
        "params = lgbBO.max['params']\n",
        "models = lgb_cv(\n",
        "    params['max_depth'],\n",
        "    params['num_leaves'],   \n",
        "    params['learning_rate'], \n",
        "    params['n_estimators'], \n",
        "    params['subsample'], \n",
        "    params['colsample_bytree'], \n",
        "    params['reg_alpha'], \n",
        "    params['reg_lambda'], \n",
        "    x_data=x_data, y_data=y_data, n_splits=5, output='model')"
      ],
      "execution_count": null,
      "outputs": []
    },
    {
      "cell_type": "code",
      "metadata": {
        "id": "m-LOeuCBvVcJ",
        "colab_type": "code",
        "colab": {}
      },
      "source": [
        "preds = []\n",
        "for model in models:\n",
        "    pred = model.predict(test_df)\n",
        "    preds.append(pred)\n",
        "\n",
        "pred = np.mean(preds, axis=0)\n",
        "\n",
        "test_df['AMT'] = pred\n",
        "test_df['AMT'] = np.expm1(test_df['AMT'])"
      ],
      "execution_count": null,
      "outputs": []
    },
    {
      "cell_type": "code",
      "metadata": {
        "id": "9ByNVPOlOfPz",
        "colab_type": "code",
        "colab": {}
      },
      "source": [
        "test_df.head()"
      ],
      "execution_count": null,
      "outputs": []
    },
    {
      "cell_type": "code",
      "metadata": {
        "id": "3dE9gzwufQq8",
        "colab_type": "code",
        "colab": {}
      },
      "source": [
        "def make_decoding(df,col):\n",
        "  if col in kk.keys():\n",
        "    tt = [name for x in df[col] for name,num in kk[col].items() if x == num]\n",
        "  return tt"
      ],
      "execution_count": null,
      "outputs": []
    },
    {
      "cell_type": "code",
      "metadata": {
        "id": "U4JQORMEgwSx",
        "colab_type": "code",
        "colab": {}
      },
      "source": [
        "for c in test_df.columns:\n",
        " test_df[c] = make_decoding(test_df,c)"
      ],
      "execution_count": null,
      "outputs": []
    },
    {
      "cell_type": "code",
      "metadata": {
        "id": "1Wuk8bsFlS8h",
        "colab_type": "code",
        "colab": {}
      },
      "source": [
        "sub['AMT'] = test_df.groupby(['year','month','CARD_SIDO_NM','STD_CLSS_NM'])['AMT'].sum().reset_index()['AMT']"
      ],
      "execution_count": null,
      "outputs": []
    },
    {
      "cell_type": "code",
      "metadata": {
        "id": "dHtaU12Elo4z",
        "colab_type": "code",
        "colab": {}
      },
      "source": [
        "sub['AMT'] = sub['AMT'].astype('int64')"
      ],
      "execution_count": null,
      "outputs": []
    },
    {
      "cell_type": "code",
      "metadata": {
        "id": "Z-O87BtVwotu",
        "colab_type": "code",
        "colab": {}
      },
      "source": [
        "sub.to_csv('/content/drive/My Drive/Colab Notebooks/data/데이콘/제주/sub(0702).csv', encoding='utf-8-sig',index=False)"
      ],
      "execution_count": null,
      "outputs": []
    },
    {
      "cell_type": "markdown",
      "metadata": {
        "id": "k8wRu5Kn7c91",
        "colab_type": "text"
      },
      "source": [
        "# BaseLine 4\n",
        "- previous_AMT, CNT,CSTMR_CNT 변수를 만든 데이터프레임"
      ]
    },
    {
      "cell_type": "code",
      "metadata": {
        "id": "QgXx9Hnn7epy",
        "colab_type": "code",
        "colab": {}
      },
      "source": [
        "df = pd.read_csv('/content/drive/My Drive/Colab Notebooks/data/데이콘/제주/train_df_noNAN.csv')\n",
        "df_train=pd.read_csv('/content/drive/My Drive/Colab Notebooks/data/데이콘/제주/df_train.csv')\n",
        "df_test=pd.read_csv('/content/drive/My Drive/Colab Notebooks/data/데이콘/제주/df_test.csv')\n",
        "sub = pd.read_csv('/content/drive/My Drive/Colab Notebooks/data/데이콘/제주/submission.csv')"
      ],
      "execution_count": null,
      "outputs": []
    },
    {
      "cell_type": "markdown",
      "metadata": {
        "id": "_BHBrUGK9bJM",
        "colab_type": "text"
      },
      "source": [
        "df_train에 AMT 값이 없기 때문에 값을 넣자."
      ]
    },
    {
      "cell_type": "code",
      "metadata": {
        "id": "Ubo1vD5o9mP8",
        "colab_type": "code",
        "colab": {}
      },
      "source": [
        "df_train = df_train.merge(df.drop(['CSTMR_CNT','CNT'],axis=1),\n",
        "                          on=['REG_YYMM','CARD_SIDO_NM','CARD_CCG_NM','STD_CLSS_NM','HOM_SIDO_NM','HOM_CCG_NM','AGE','SEX_CTGO_CD','FLC'],\n",
        "                          how='left')"
      ],
      "execution_count": null,
      "outputs": []
    },
    {
      "cell_type": "markdown",
      "metadata": {
        "id": "ViWhh1X0-T93",
        "colab_type": "text"
      },
      "source": [
        "df_train과 df_test 모두 na값을 0으로 바꿔주자."
      ]
    },
    {
      "cell_type": "code",
      "metadata": {
        "id": "mPcvA48tAR3b",
        "colab_type": "code",
        "colab": {}
      },
      "source": [
        "df_train.fillna(0,inplace=True)\n",
        "df_test.fillna(0,inplace=True)"
      ],
      "execution_count": null,
      "outputs": []
    },
    {
      "cell_type": "code",
      "metadata": {
        "id": "0fCy7IodPrQD",
        "colab_type": "code",
        "colab": {}
      },
      "source": [
        "#df_train = df_train[df_train['AMT'] !=0]"
      ],
      "execution_count": null,
      "outputs": []
    },
    {
      "cell_type": "code",
      "metadata": {
        "id": "eXvwKGaeFBfR",
        "colab_type": "code",
        "colab": {}
      },
      "source": [
        "def make_encoders(df):\n",
        "  encoders={}\n",
        "  for col in ['REG_YYMM', 'CARD_SIDO_NM', 'CARD_CCG_NM', 'STD_CLSS_NM', 'HOM_SIDO_NM','HOM_CCG_NM', 'AGE', 'SEX_CTGO_CD', 'FLC']:\n",
        "    con_list =[]\n",
        "    encoder={}\n",
        "    for idx, content in enumerate(df[col].unique()):\n",
        "      encoder[content]=idx\n",
        "\n",
        "    if col == 'REG_YYMM':\n",
        "        encoder[202004] = idx+1\n",
        "        encoder[202007] = idx+2\n",
        "    \n",
        "    encoders[col] = encoder\n",
        "  \n",
        "  return encoders"
      ],
      "execution_count": null,
      "outputs": []
    },
    {
      "cell_type": "code",
      "metadata": {
        "id": "oalD7RrGFTaG",
        "colab_type": "code",
        "colab": {}
      },
      "source": [
        "encoders = make_encoders(df_train)"
      ],
      "execution_count": null,
      "outputs": []
    },
    {
      "cell_type": "code",
      "metadata": {
        "id": "sOkvNXxCG1JX",
        "colab_type": "code",
        "colab": {}
      },
      "source": [
        "for col in encoders.keys():\n",
        "  df_train[col] = df_train[col].map(encoders[col])\n",
        "  df_test[col] = df_test[col].map(encoders[col])"
      ],
      "execution_count": null,
      "outputs": []
    },
    {
      "cell_type": "code",
      "metadata": {
        "id": "jbXsAAl1-_cH",
        "colab_type": "code",
        "colab": {}
      },
      "source": [
        "# decoder 만들기\n",
        "\n",
        "decoders={}\n",
        "for kk,vv in encoders.items():\n",
        "  decoder={}\n",
        "  for k,v in vv.items():\n",
        "    decoder[v]=k\n",
        "  decoders[kk] = decoder"
      ],
      "execution_count": null,
      "outputs": []
    },
    {
      "cell_type": "code",
      "metadata": {
        "id": "qKPKT2fUPh0P",
        "colab_type": "code",
        "colab": {}
      },
      "source": [
        "for col in ['REG_YYMM', 'CARD_SIDO_NM', 'CARD_CCG_NM', 'STD_CLSS_NM', 'HOM_SIDO_NM','HOM_CCG_NM', 'AGE', 'SEX_CTGO_CD', 'FLC']:\n",
        "  df_train[col] = df_train[col].astype('category')\n",
        "  df_test[col] = df_test[col].astype('category')"
      ],
      "execution_count": null,
      "outputs": []
    },
    {
      "cell_type": "code",
      "metadata": {
        "id": "muhKTvT2Ox9W",
        "colab_type": "code",
        "colab": {}
      },
      "source": [
        "x_data = df_train.drop('AMT',axis=1)\n",
        "y_data = np.log1p(df_train['AMT'])"
      ],
      "execution_count": null,
      "outputs": []
    },
    {
      "cell_type": "code",
      "metadata": {
        "id": "L7PanN2AQCh_",
        "colab_type": "code",
        "colab": {}
      },
      "source": [
        "def lgb_cv(max_depth,num_leaves, learning_rate, n_estimators, subsample, colsample_bytree, reg_alpha,reg_lambda, x_data=None, y_data=None, n_splits=5, output='model'):\n",
        "    score = 0\n",
        "    skf = StratifiedKFold(n_splits=n_splits, shuffle=True, random_state=201)\n",
        "    models = []\n",
        "    for train_index, valid_index in skf.split(x_data,x_data['STD_CLSS_NM']):\n",
        "       #print(train_index)\n",
        "       x_train, y_train = x_data.iloc[train_index], y_data.iloc[train_index]\n",
        "       x_valid, y_valid = x_data.iloc[valid_index], y_data.iloc[valid_index]\n",
        "        \n",
        "       model = lgb.LGBMRegressor(\n",
        "               \n",
        "           num_leaves = int(num_leaves), \n",
        "           learning_rate = learning_rate, \n",
        "           n_estimators = int(n_estimators), \n",
        "           subsample = np.clip(subsample, 0, 1), \n",
        "           colsample_bytree = np.clip(colsample_bytree, 0, 1), \n",
        "           reg_alpha = reg_alpha, \n",
        "           reg_lambda = reg_lambda,\n",
        "           )\n",
        "       \n",
        "       model.fit(x_train, y_train)\n",
        "       models.append(model)\n",
        "        \n",
        "       pred = model.predict(x_valid)\n",
        "       true = y_valid\n",
        "       RMSLE = (mean_squared_log_error(true, pred))*(-1)\n",
        "       score += RMSLE/n_splits\n",
        "    \n",
        "    if output == 'score':\n",
        "        return score\n",
        "    if output == 'model':\n",
        "        return models"
      ],
      "execution_count": null,
      "outputs": []
    },
    {
      "cell_type": "code",
      "metadata": {
        "id": "r-_KCPUAPWhF",
        "colab_type": "code",
        "colab": {
          "base_uri": "https://localhost:8080/",
          "height": 274
        },
        "outputId": "1d81a59a-b8bb-44ef-ee8d-6faa1fa1a15f"
      },
      "source": [
        "func_fixed = partial(lgb_cv, x_data=x_data, y_data=y_data, n_splits=5, output='score') \n",
        "\n",
        "lgbBO = BayesianOptimization(\n",
        "    func_fixed, \n",
        "    {\n",
        "        'max_depth' : (16,256),\n",
        "        'num_leaves': (16, 256),\n",
        "        'learning_rate': (0.0001, 0.1),\n",
        "        'n_estimators': (5, 10),\n",
        "        'subsample': (0.01, 1),\n",
        "        'colsample_bytree': (0.01, 1),\n",
        "        'reg_alpha': (0.01, 10), \n",
        "        'reg_lambda': (0.01, 50),\n",
        "    }, \n",
        "    random_state=4321\n",
        ")\n",
        "lgbBO.maximize(init_points=5, n_iter=5) #30  "
      ],
      "execution_count": null,
      "outputs": [
        {
          "output_type": "stream",
          "text": [
            "|   iter    |  target   | colsam... | learni... | max_depth | n_esti... | num_le... | reg_alpha | reg_la... | subsample |\n",
            "-------------------------------------------------------------------------------------------------------------------------\n",
            "| \u001b[0m 1       \u001b[0m | \u001b[0m-2.174   \u001b[0m | \u001b[0m 0.08009 \u001b[0m | \u001b[0m 0.08152 \u001b[0m | \u001b[0m 200.3   \u001b[0m | \u001b[0m 6.432   \u001b[0m | \u001b[0m 62.34   \u001b[0m | \u001b[0m 9.789   \u001b[0m | \u001b[0m 20.32   \u001b[0m | \u001b[0m 0.7602  \u001b[0m |\n",
            "| \u001b[0m 2       \u001b[0m | \u001b[0m-2.191   \u001b[0m | \u001b[0m 0.09826 \u001b[0m | \u001b[0m 0.03106 \u001b[0m | \u001b[0m 164.5   \u001b[0m | \u001b[0m 7.3     \u001b[0m | \u001b[0m 68.39   \u001b[0m | \u001b[0m 6.639   \u001b[0m | \u001b[0m 33.94   \u001b[0m | \u001b[0m 0.9508  \u001b[0m |\n",
            "| \u001b[95m 3       \u001b[0m | \u001b[95m-2.098   \u001b[0m | \u001b[95m 0.2884  \u001b[0m | \u001b[95m 0.06202 \u001b[0m | \u001b[95m 108.0   \u001b[0m | \u001b[95m 7.002   \u001b[0m | \u001b[95m 242.2   \u001b[0m | \u001b[95m 9.3     \u001b[0m | \u001b[95m 47.42   \u001b[0m | \u001b[95m 0.3817  \u001b[0m |\n",
            "| \u001b[0m 4       \u001b[0m | \u001b[0m-2.129   \u001b[0m | \u001b[0m 0.3489  \u001b[0m | \u001b[0m 0.06651 \u001b[0m | \u001b[0m 26.16   \u001b[0m | \u001b[0m 6.161   \u001b[0m | \u001b[0m 119.2   \u001b[0m | \u001b[0m 0.7886  \u001b[0m | \u001b[0m 38.33   \u001b[0m | \u001b[0m 0.8554  \u001b[0m |\n",
            "| \u001b[0m 5       \u001b[0m | \u001b[0m-2.206   \u001b[0m | \u001b[0m 0.1589  \u001b[0m | \u001b[0m 0.0102  \u001b[0m | \u001b[0m 81.02   \u001b[0m | \u001b[0m 5.151   \u001b[0m | \u001b[0m 217.1   \u001b[0m | \u001b[0m 5.98    \u001b[0m | \u001b[0m 46.56   \u001b[0m | \u001b[0m 0.5006  \u001b[0m |\n",
            "| \u001b[0m 6       \u001b[0m | \u001b[0m-2.221   \u001b[0m | \u001b[0m 1.0     \u001b[0m | \u001b[0m 0.0001  \u001b[0m | \u001b[0m 256.0   \u001b[0m | \u001b[0m 10.0    \u001b[0m | \u001b[0m 256.0   \u001b[0m | \u001b[0m 0.01    \u001b[0m | \u001b[0m 0.01    \u001b[0m | \u001b[0m 1.0     \u001b[0m |\n",
            "| \u001b[95m 7       \u001b[0m | \u001b[95m-2.049   \u001b[0m | \u001b[95m 1.0     \u001b[0m | \u001b[95m 0.1     \u001b[0m | \u001b[95m 16.0    \u001b[0m | \u001b[95m 10.0    \u001b[0m | \u001b[95m 16.0    \u001b[0m | \u001b[95m 10.0    \u001b[0m | \u001b[95m 0.01    \u001b[0m | \u001b[95m 0.01    \u001b[0m |\n",
            "| \u001b[95m 8       \u001b[0m | \u001b[95m-1.864   \u001b[0m | \u001b[95m 1.0     \u001b[0m | \u001b[95m 0.1     \u001b[0m | \u001b[95m 16.0    \u001b[0m | \u001b[95m 10.0    \u001b[0m | \u001b[95m 256.0   \u001b[0m | \u001b[95m 10.0    \u001b[0m | \u001b[95m 0.01    \u001b[0m | \u001b[95m 1.0     \u001b[0m |\n",
            "| \u001b[0m 9       \u001b[0m | \u001b[0m-2.221   \u001b[0m | \u001b[0m 0.0101  \u001b[0m | \u001b[0m 0.0001  \u001b[0m | \u001b[0m 256.0   \u001b[0m | \u001b[0m 10.0    \u001b[0m | \u001b[0m 16.0    \u001b[0m | \u001b[0m 10.0    \u001b[0m | \u001b[0m 50.0    \u001b[0m | \u001b[0m 0.01    \u001b[0m |\n",
            "| \u001b[95m 10      \u001b[0m | \u001b[95m-1.863   \u001b[0m | \u001b[95m 1.0     \u001b[0m | \u001b[95m 0.1     \u001b[0m | \u001b[95m 118.7   \u001b[0m | \u001b[95m 10.0    \u001b[0m | \u001b[95m 256.0   \u001b[0m | \u001b[95m 0.01    \u001b[0m | \u001b[95m 0.01    \u001b[0m | \u001b[95m 0.01    \u001b[0m |\n",
            "=========================================================================================================================\n"
          ],
          "name": "stdout"
        }
      ]
    },
    {
      "cell_type": "code",
      "metadata": {
        "id": "hMseAROKPcSE",
        "colab_type": "code",
        "colab": {}
      },
      "source": [
        "params = lgbBO.max['params']\n",
        "models = lgb_cv(\n",
        "    params['max_depth'],\n",
        "    params['num_leaves'],   \n",
        "    params['learning_rate'], \n",
        "    params['n_estimators'], \n",
        "    params['subsample'], \n",
        "    params['colsample_bytree'], \n",
        "    params['reg_alpha'], \n",
        "    params['reg_lambda'], \n",
        "    x_data=x_data, y_data=y_data, n_splits=5, output='model')"
      ],
      "execution_count": null,
      "outputs": []
    },
    {
      "cell_type": "code",
      "metadata": {
        "id": "9kSwFc_TSHrY",
        "colab_type": "code",
        "colab": {}
      },
      "source": [
        "preds = []\n",
        "for model in models:\n",
        "    pred = model.predict(df_test)\n",
        "    preds.append(pred)\n",
        "\n",
        "pred = np.mean(preds, axis=0)\n",
        "\n",
        "df_test['AMT'] = pred\n",
        "df_test['AMT'] = df_test['AMT'].fillna(0)\n",
        "df_test['AMT'] = np.expm1(df_test['AMT'])"
      ],
      "execution_count": null,
      "outputs": []
    },
    {
      "cell_type": "code",
      "metadata": {
        "id": "r-9xiW2oCMxc",
        "colab_type": "code",
        "colab": {
          "base_uri": "https://localhost:8080/",
          "height": 876
        },
        "outputId": "22eec0dc-43eb-4c4a-de5d-f6748856e46e"
      },
      "source": [
        "df_test.isna().sum()"
      ],
      "execution_count": null,
      "outputs": [
        {
          "output_type": "execute_result",
          "data": {
            "text/plain": [
              "REG_YYMM                      0\n",
              "CARD_SIDO_NM                  0\n",
              "CARD_CCG_NM                   0\n",
              "STD_CLSS_NM                   0\n",
              "HOM_SIDO_NM                   0\n",
              "HOM_CCG_NM                    0\n",
              "AGE                           0\n",
              "SEX_CTGO_CD                   0\n",
              "FLC                           0\n",
              "previous_CARD_AMT_3           0\n",
              "previous_CARD_AMT_6           0\n",
              "previous_CARD_AMT_9           0\n",
              "previous_CARD_AMT_12          0\n",
              "previous_HOM_AMT_3            0\n",
              "previous_HOM_AMT_6            0\n",
              "previous_HOM_AMT_9            0\n",
              "previous_HOM_AMT_12           0\n",
              "previous_ASF_AMT_3            0\n",
              "previous_ASF_AMT_6            0\n",
              "previous_ASF_AMT_9            0\n",
              "previous_ASF_AMT_12           0\n",
              "previous_CARD_CNT_3           0\n",
              "previous_CARD_CNT_6           0\n",
              "previous_CARD_CNT_9           0\n",
              "previous_CARD_CNT_12          0\n",
              "previous_HOM_CNT_3            0\n",
              "previous_HOM_CNT_6            0\n",
              "previous_HOM_CNT_9            0\n",
              "previous_HOM_CNT_12           0\n",
              "previous_ASF_CNT_3            0\n",
              "previous_ASF_CNT_6            0\n",
              "previous_ASF_CNT_9            0\n",
              "previous_ASF_CNT_12           0\n",
              "previous_CARD_CSTMR_CNT_3     0\n",
              "previous_CARD_CSTMR_CNT_6     0\n",
              "previous_CARD_CSTMR_CNT_9     0\n",
              "previous_CARD_CSTMR_CNT_12    0\n",
              "previous_HOM_CSTMR_CNT_3      0\n",
              "previous_HOM_CSTMR_CNT_6      0\n",
              "previous_HOM_CSTMR_CNT_9      0\n",
              "previous_HOM_CSTMR_CNT_12     0\n",
              "previous_ASF_CSTMR_CNT_3      0\n",
              "previous_ASF_CSTMR_CNT_6      0\n",
              "previous_ASF_CSTMR_CNT_9      0\n",
              "previous_ASF_CSTMR_CNT_12     0\n",
              "AMT                           0\n",
              "dtype: int64"
            ]
          },
          "metadata": {
            "tags": []
          },
          "execution_count": 16
        }
      ]
    },
    {
      "cell_type": "code",
      "metadata": {
        "id": "HYYpdvHo_IgQ",
        "colab_type": "code",
        "colab": {}
      },
      "source": [
        "for col in decoders.keys():\n",
        "  df_test[col] = df_test[col].map(decoders[col])"
      ],
      "execution_count": null,
      "outputs": []
    },
    {
      "cell_type": "code",
      "metadata": {
        "id": "Zd-r-JTNASaU",
        "colab_type": "code",
        "colab": {}
      },
      "source": [
        "#df_test = df_test.groupby(['REG_YYMM', 'CARD_SIDO_NM', 'STD_CLSS_NM'])['AMT'].sum().reset_index()\n",
        "df_test['AMT'] = df_test['AMT'].fillna(0)\n",
        "df_test['AMT'] = df_test['AMT'].astype('int')"
      ],
      "execution_count": null,
      "outputs": []
    },
    {
      "cell_type": "code",
      "metadata": {
        "id": "6ICkM9NuAl_j",
        "colab_type": "code",
        "colab": {}
      },
      "source": [
        "sub.drop('AMT',axis=1,inplace=True)\n",
        "sub = sub.merge(df_test,on=['REG_YYMM', 'CARD_SIDO_NM', 'STD_CLSS_NM'],how='left')"
      ],
      "execution_count": null,
      "outputs": []
    },
    {
      "cell_type": "code",
      "metadata": {
        "id": "uuZ-F51Y_WwI",
        "colab_type": "code",
        "colab": {}
      },
      "source": [
        "sub.to_csv('/content/drive/My Drive/Colab Notebooks/data/데이콘/제주/submission_baseline_2(15).csv', encoding='utf-8-sig',index=False)"
      ],
      "execution_count": null,
      "outputs": []
    },
    {
      "cell_type": "code",
      "metadata": {
        "id": "nURPyqW00CyH",
        "colab_type": "code",
        "colab": {
          "base_uri": "https://localhost:8080/",
          "height": 200
        },
        "outputId": "eeee5bb2-5bf7-4699-e2f9-68a4b9de49a4"
      },
      "source": [
        "sub.head()"
      ],
      "execution_count": null,
      "outputs": [
        {
          "output_type": "execute_result",
          "data": {
            "text/html": [
              "<div>\n",
              "<style scoped>\n",
              "    .dataframe tbody tr th:only-of-type {\n",
              "        vertical-align: middle;\n",
              "    }\n",
              "\n",
              "    .dataframe tbody tr th {\n",
              "        vertical-align: top;\n",
              "    }\n",
              "\n",
              "    .dataframe thead th {\n",
              "        text-align: right;\n",
              "    }\n",
              "</style>\n",
              "<table border=\"1\" class=\"dataframe\">\n",
              "  <thead>\n",
              "    <tr style=\"text-align: right;\">\n",
              "      <th></th>\n",
              "      <th>id</th>\n",
              "      <th>REG_YYMM</th>\n",
              "      <th>CARD_SIDO_NM</th>\n",
              "      <th>STD_CLSS_NM</th>\n",
              "      <th>AMT</th>\n",
              "    </tr>\n",
              "  </thead>\n",
              "  <tbody>\n",
              "    <tr>\n",
              "      <th>0</th>\n",
              "      <td>0</td>\n",
              "      <td>202004</td>\n",
              "      <td>강원</td>\n",
              "      <td>건강보조식품 소매업</td>\n",
              "      <td>60903</td>\n",
              "    </tr>\n",
              "    <tr>\n",
              "      <th>1</th>\n",
              "      <td>1</td>\n",
              "      <td>202004</td>\n",
              "      <td>강원</td>\n",
              "      <td>골프장 운영업</td>\n",
              "      <td>577833</td>\n",
              "    </tr>\n",
              "    <tr>\n",
              "      <th>2</th>\n",
              "      <td>2</td>\n",
              "      <td>202004</td>\n",
              "      <td>강원</td>\n",
              "      <td>과실 및 채소 소매업</td>\n",
              "      <td>457367</td>\n",
              "    </tr>\n",
              "    <tr>\n",
              "      <th>3</th>\n",
              "      <td>3</td>\n",
              "      <td>202004</td>\n",
              "      <td>강원</td>\n",
              "      <td>관광 민예품 및 선물용품 소매업</td>\n",
              "      <td>23971</td>\n",
              "    </tr>\n",
              "    <tr>\n",
              "      <th>4</th>\n",
              "      <td>4</td>\n",
              "      <td>202004</td>\n",
              "      <td>강원</td>\n",
              "      <td>그외 기타 분류안된 오락관련 서비스업</td>\n",
              "      <td>28</td>\n",
              "    </tr>\n",
              "  </tbody>\n",
              "</table>\n",
              "</div>"
            ],
            "text/plain": [
              "   id REG_YYMM CARD_SIDO_NM           STD_CLSS_NM     AMT\n",
              "0   0   202004           강원            건강보조식품 소매업   60903\n",
              "1   1   202004           강원               골프장 운영업  577833\n",
              "2   2   202004           강원           과실 및 채소 소매업  457367\n",
              "3   3   202004           강원     관광 민예품 및 선물용품 소매업   23971\n",
              "4   4   202004           강원  그외 기타 분류안된 오락관련 서비스업      28"
            ]
          },
          "metadata": {
            "tags": []
          },
          "execution_count": 23
        }
      ]
    }
  ]
}
