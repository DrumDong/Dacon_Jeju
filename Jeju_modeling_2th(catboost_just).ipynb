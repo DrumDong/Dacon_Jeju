{
  "nbformat": 4,
  "nbformat_minor": 0,
  "metadata": {
    "colab": {
      "name": "Jeju_modeling_2th(catboost_just).ipynb",
      "provenance": [],
      "collapsed_sections": [],
      "machine_shape": "hm"
    },
    "kernelspec": {
      "name": "python3",
      "display_name": "Python 3"
    },
    "accelerator": "GPU"
  },
  "cells": [
    {
      "cell_type": "code",
      "metadata": {
        "id": "sBkzV86niHci",
        "colab_type": "code",
        "colab": {
          "base_uri": "https://localhost:8080/",
          "height": 283
        },
        "outputId": "67dcd822-143f-4ae5-da07-24ada756c2e0"
      },
      "source": [
        "!pip install catboost\n",
        "import pandas as pd\n",
        "import numpy as np\n",
        "from catboost import CatBoostRegressor\n",
        "import gc\n",
        "from sklearn.model_selection import train_test_split"
      ],
      "execution_count": null,
      "outputs": [
        {
          "output_type": "stream",
          "text": [
            "Requirement already satisfied: catboost in /usr/local/lib/python3.6/dist-packages (0.23.2)\n",
            "Requirement already satisfied: numpy>=1.16.0 in /usr/local/lib/python3.6/dist-packages (from catboost) (1.18.5)\n",
            "Requirement already satisfied: graphviz in /usr/local/lib/python3.6/dist-packages (from catboost) (0.10.1)\n",
            "Requirement already satisfied: plotly in /usr/local/lib/python3.6/dist-packages (from catboost) (4.4.1)\n",
            "Requirement already satisfied: six in /usr/local/lib/python3.6/dist-packages (from catboost) (1.15.0)\n",
            "Requirement already satisfied: scipy in /usr/local/lib/python3.6/dist-packages (from catboost) (1.4.1)\n",
            "Requirement already satisfied: pandas>=0.24.0 in /usr/local/lib/python3.6/dist-packages (from catboost) (1.0.5)\n",
            "Requirement already satisfied: matplotlib in /usr/local/lib/python3.6/dist-packages (from catboost) (3.2.2)\n",
            "Requirement already satisfied: retrying>=1.3.3 in /usr/local/lib/python3.6/dist-packages (from plotly->catboost) (1.3.3)\n",
            "Requirement already satisfied: python-dateutil>=2.6.1 in /usr/local/lib/python3.6/dist-packages (from pandas>=0.24.0->catboost) (2.8.1)\n",
            "Requirement already satisfied: pytz>=2017.2 in /usr/local/lib/python3.6/dist-packages (from pandas>=0.24.0->catboost) (2018.9)\n",
            "Requirement already satisfied: kiwisolver>=1.0.1 in /usr/local/lib/python3.6/dist-packages (from matplotlib->catboost) (1.2.0)\n",
            "Requirement already satisfied: pyparsing!=2.0.4,!=2.1.2,!=2.1.6,>=2.0.1 in /usr/local/lib/python3.6/dist-packages (from matplotlib->catboost) (2.4.7)\n",
            "Requirement already satisfied: cycler>=0.10 in /usr/local/lib/python3.6/dist-packages (from matplotlib->catboost) (0.10.0)\n"
          ],
          "name": "stdout"
        }
      ]
    },
    {
      "cell_type": "code",
      "metadata": {
        "id": "DEICePPwhsCO",
        "colab_type": "code",
        "colab": {}
      },
      "source": [
        "# 이상치 처리 X\n",
        "train_df=pd.read_csv('/content/drive/My Drive/Colab Notebooks/data/데이콘/제주/mid_train_df(2).csv')\n",
        "#test_df=pd.read_csv('/content/drive/My Drive/Colab Notebooks/data/데이콘/제주/mid_test_df(2).csv')\n",
        "\n",
        "sub = pd.read_csv('/content/drive/My Drive/Colab Notebooks/data/데이콘/제주/submission.csv')"
      ],
      "execution_count": null,
      "outputs": []
    },
    {
      "cell_type": "code",
      "metadata": {
        "id": "hY2uDirK52gL",
        "colab_type": "code",
        "colab": {}
      },
      "source": [
        "train_df.fillna(9999,inplace=True)\n",
        "#test_df.fillna(9999,inplace=True)"
      ],
      "execution_count": null,
      "outputs": []
    },
    {
      "cell_type": "code",
      "metadata": {
        "id": "m8QZ_TGyo6dW",
        "colab_type": "code",
        "colab": {
          "base_uri": "https://localhost:8080/",
          "height": 299
        },
        "outputId": "70912840-8d99-44e9-c2b5-9548128e60b4"
      },
      "source": [
        "train_df.drop(['CSTMR_CNT','CNT'],axis=1,inplace=True)\n",
        "train_df.head()"
      ],
      "execution_count": null,
      "outputs": [
        {
          "output_type": "execute_result",
          "data": {
            "text/html": [
              "<div>\n",
              "<style scoped>\n",
              "    .dataframe tbody tr th:only-of-type {\n",
              "        vertical-align: middle;\n",
              "    }\n",
              "\n",
              "    .dataframe tbody tr th {\n",
              "        vertical-align: top;\n",
              "    }\n",
              "\n",
              "    .dataframe thead th {\n",
              "        text-align: right;\n",
              "    }\n",
              "</style>\n",
              "<table border=\"1\" class=\"dataframe\">\n",
              "  <thead>\n",
              "    <tr style=\"text-align: right;\">\n",
              "      <th></th>\n",
              "      <th>REG_YYMM</th>\n",
              "      <th>CARD_SIDO_NM</th>\n",
              "      <th>CARD_CCG_NM</th>\n",
              "      <th>STD_CLSS_NM</th>\n",
              "      <th>HOM_SIDO_NM</th>\n",
              "      <th>HOM_CCG_NM</th>\n",
              "      <th>AGE</th>\n",
              "      <th>SEX_CTGO_CD</th>\n",
              "      <th>FLC</th>\n",
              "      <th>AMT</th>\n",
              "      <th>STD_total</th>\n",
              "      <th>SIDO_STD_total</th>\n",
              "      <th>SIDO_CCG_STD_total</th>\n",
              "      <th>ASF_total</th>\n",
              "      <th>SIDO_ASF_total</th>\n",
              "      <th>SIDO_CCG_ASF_total</th>\n",
              "      <th>SIDO_ASF_2_total</th>\n",
              "      <th>SIDO_CCG_ASF_2_total</th>\n",
              "      <th>STD_2019</th>\n",
              "      <th>SIDO_STD_2019</th>\n",
              "      <th>SIDO_CCG_STD_2019</th>\n",
              "      <th>ASF_2019</th>\n",
              "      <th>SIDO_ASF_2019</th>\n",
              "      <th>SIDO_CCG_ASF_2019</th>\n",
              "      <th>SIDO_ASF_2_2019</th>\n",
              "      <th>SIDO_CCG_ASF_2_2019</th>\n",
              "      <th>STD_2020</th>\n",
              "      <th>SIDO_STD_2020</th>\n",
              "      <th>SIDO_CCG_STD_2020</th>\n",
              "      <th>ASF_2020</th>\n",
              "      <th>SIDO_ASF_2020</th>\n",
              "      <th>SIDO_CCG_ASF_2020</th>\n",
              "      <th>SIDO_ASF_2_2020</th>\n",
              "      <th>SIDO_CCG_ASF_2_2020</th>\n",
              "    </tr>\n",
              "  </thead>\n",
              "  <tbody>\n",
              "    <tr>\n",
              "      <th>0</th>\n",
              "      <td>201901</td>\n",
              "      <td>강원</td>\n",
              "      <td>강릉시</td>\n",
              "      <td>건강보조식품 소매업</td>\n",
              "      <td>강원</td>\n",
              "      <td>강릉시</td>\n",
              "      <td>20s</td>\n",
              "      <td>1</td>\n",
              "      <td>1</td>\n",
              "      <td>311200</td>\n",
              "      <td>16</td>\n",
              "      <td>258</td>\n",
              "      <td>2121</td>\n",
              "      <td>11</td>\n",
              "      <td>14</td>\n",
              "      <td>357</td>\n",
              "      <td>201</td>\n",
              "      <td>1734</td>\n",
              "      <td>10</td>\n",
              "      <td>33</td>\n",
              "      <td>2140</td>\n",
              "      <td>11</td>\n",
              "      <td>196</td>\n",
              "      <td>338.0</td>\n",
              "      <td>225.0</td>\n",
              "      <td>2027.0</td>\n",
              "      <td>13</td>\n",
              "      <td>244.0</td>\n",
              "      <td>3128.0</td>\n",
              "      <td>6</td>\n",
              "      <td>49.0</td>\n",
              "      <td>36.0</td>\n",
              "      <td>117.0</td>\n",
              "      <td>1528.0</td>\n",
              "    </tr>\n",
              "    <tr>\n",
              "      <th>1</th>\n",
              "      <td>201901</td>\n",
              "      <td>강원</td>\n",
              "      <td>강릉시</td>\n",
              "      <td>건강보조식품 소매업</td>\n",
              "      <td>강원</td>\n",
              "      <td>강릉시</td>\n",
              "      <td>30s</td>\n",
              "      <td>1</td>\n",
              "      <td>2</td>\n",
              "      <td>1374500</td>\n",
              "      <td>16</td>\n",
              "      <td>258</td>\n",
              "      <td>2121</td>\n",
              "      <td>0</td>\n",
              "      <td>24</td>\n",
              "      <td>0</td>\n",
              "      <td>50</td>\n",
              "      <td>173</td>\n",
              "      <td>10</td>\n",
              "      <td>33</td>\n",
              "      <td>2140</td>\n",
              "      <td>2</td>\n",
              "      <td>53</td>\n",
              "      <td>15.0</td>\n",
              "      <td>4.0</td>\n",
              "      <td>812.0</td>\n",
              "      <td>13</td>\n",
              "      <td>244.0</td>\n",
              "      <td>3128.0</td>\n",
              "      <td>3</td>\n",
              "      <td>42.0</td>\n",
              "      <td>19.0</td>\n",
              "      <td>79.0</td>\n",
              "      <td>780.0</td>\n",
              "    </tr>\n",
              "    <tr>\n",
              "      <th>2</th>\n",
              "      <td>201901</td>\n",
              "      <td>강원</td>\n",
              "      <td>강릉시</td>\n",
              "      <td>건강보조식품 소매업</td>\n",
              "      <td>강원</td>\n",
              "      <td>강릉시</td>\n",
              "      <td>30s</td>\n",
              "      <td>2</td>\n",
              "      <td>2</td>\n",
              "      <td>818700</td>\n",
              "      <td>16</td>\n",
              "      <td>258</td>\n",
              "      <td>2121</td>\n",
              "      <td>2</td>\n",
              "      <td>32</td>\n",
              "      <td>10</td>\n",
              "      <td>179</td>\n",
              "      <td>173</td>\n",
              "      <td>10</td>\n",
              "      <td>33</td>\n",
              "      <td>2140</td>\n",
              "      <td>0</td>\n",
              "      <td>5</td>\n",
              "      <td>15.0</td>\n",
              "      <td>4.0</td>\n",
              "      <td>812.0</td>\n",
              "      <td>13</td>\n",
              "      <td>244.0</td>\n",
              "      <td>3128.0</td>\n",
              "      <td>0</td>\n",
              "      <td>219.0</td>\n",
              "      <td>43.0</td>\n",
              "      <td>127.0</td>\n",
              "      <td>104.0</td>\n",
              "    </tr>\n",
              "    <tr>\n",
              "      <th>3</th>\n",
              "      <td>201901</td>\n",
              "      <td>강원</td>\n",
              "      <td>강릉시</td>\n",
              "      <td>건강보조식품 소매업</td>\n",
              "      <td>강원</td>\n",
              "      <td>강릉시</td>\n",
              "      <td>40s</td>\n",
              "      <td>1</td>\n",
              "      <td>3</td>\n",
              "      <td>1717000</td>\n",
              "      <td>16</td>\n",
              "      <td>258</td>\n",
              "      <td>2121</td>\n",
              "      <td>0</td>\n",
              "      <td>24</td>\n",
              "      <td>0</td>\n",
              "      <td>41</td>\n",
              "      <td>282</td>\n",
              "      <td>10</td>\n",
              "      <td>33</td>\n",
              "      <td>2140</td>\n",
              "      <td>2</td>\n",
              "      <td>1</td>\n",
              "      <td>15.0</td>\n",
              "      <td>99.0</td>\n",
              "      <td>58.0</td>\n",
              "      <td>13</td>\n",
              "      <td>244.0</td>\n",
              "      <td>3128.0</td>\n",
              "      <td>3</td>\n",
              "      <td>42.0</td>\n",
              "      <td>742.0</td>\n",
              "      <td>114.0</td>\n",
              "      <td>3174.0</td>\n",
              "    </tr>\n",
              "    <tr>\n",
              "      <th>4</th>\n",
              "      <td>201901</td>\n",
              "      <td>강원</td>\n",
              "      <td>강릉시</td>\n",
              "      <td>건강보조식품 소매업</td>\n",
              "      <td>강원</td>\n",
              "      <td>강릉시</td>\n",
              "      <td>40s</td>\n",
              "      <td>1</td>\n",
              "      <td>4</td>\n",
              "      <td>1047300</td>\n",
              "      <td>16</td>\n",
              "      <td>258</td>\n",
              "      <td>2121</td>\n",
              "      <td>0</td>\n",
              "      <td>51</td>\n",
              "      <td>0</td>\n",
              "      <td>226</td>\n",
              "      <td>14</td>\n",
              "      <td>10</td>\n",
              "      <td>33</td>\n",
              "      <td>2140</td>\n",
              "      <td>2</td>\n",
              "      <td>10</td>\n",
              "      <td>314.0</td>\n",
              "      <td>15.0</td>\n",
              "      <td>5.0</td>\n",
              "      <td>13</td>\n",
              "      <td>244.0</td>\n",
              "      <td>3128.0</td>\n",
              "      <td>3</td>\n",
              "      <td>51.0</td>\n",
              "      <td>19.0</td>\n",
              "      <td>1.0</td>\n",
              "      <td>209.0</td>\n",
              "    </tr>\n",
              "  </tbody>\n",
              "</table>\n",
              "</div>"
            ],
            "text/plain": [
              "   REG_YYMM CARD_SIDO_NM  ... SIDO_ASF_2_2020 SIDO_CCG_ASF_2_2020\n",
              "0    201901           강원  ...           117.0              1528.0\n",
              "1    201901           강원  ...            79.0               780.0\n",
              "2    201901           강원  ...           127.0               104.0\n",
              "3    201901           강원  ...           114.0              3174.0\n",
              "4    201901           강원  ...             1.0               209.0\n",
              "\n",
              "[5 rows x 34 columns]"
            ]
          },
          "metadata": {
            "tags": []
          },
          "execution_count": 4
        }
      ]
    },
    {
      "cell_type": "code",
      "metadata": {
        "id": "sutCGlJH8x6M",
        "colab_type": "code",
        "colab": {}
      },
      "source": [
        "# test_df 정렬\n",
        "#test_df = test_df[list(train_df.drop('AMT',axis=1).columns)]\n",
        "#test_df.head()"
      ],
      "execution_count": null,
      "outputs": []
    },
    {
      "cell_type": "code",
      "metadata": {
        "id": "Ry6zHQL_SMEi",
        "colab_type": "code",
        "colab": {}
      },
      "source": [
        "def make_encoders(df):\n",
        "  encoders={}\n",
        "  for col in df.drop(['AMT'],axis=1).columns:\n",
        "    con_list =[]\n",
        "    encoder={}\n",
        "    for idx, content in enumerate(df[col].unique()):\n",
        "      encoder[content]=idx\n",
        "\n",
        "    if col == 'REG_YYMM':\n",
        "        encoder[202005] = idx+1\n",
        "        encoder[202006] = idx+2\n",
        "        encoder[202007] = idx+3\n",
        "     \n",
        "    encoders[col] = encoder\n",
        "  \n",
        "  return encoders"
      ],
      "execution_count": null,
      "outputs": []
    },
    {
      "cell_type": "code",
      "metadata": {
        "id": "pWA5DiG5GHBX",
        "colab_type": "code",
        "colab": {}
      },
      "source": [
        "# previous 3,6 변수를 만들어서 적용할 것이기 때문에 19년 7월 아래로는 제거해주자\n",
        "train_df = train_df[train_df['REG_YYMM']>201906]"
      ],
      "execution_count": null,
      "outputs": []
    },
    {
      "cell_type": "code",
      "metadata": {
        "id": "RoVssxKzjzLR",
        "colab_type": "code",
        "colab": {
          "base_uri": "https://localhost:8080/",
          "height": 34
        },
        "outputId": "a533bded-b4b4-4eac-80af-82f4d6e15327"
      },
      "source": [
        "# public은 4월 밖에 계산을 못함\n",
        "\n",
        "df_not04=train_df[train_df['REG_YYMM'] != 202004]\n",
        "df_202004=train_df[train_df['REG_YYMM'] == 202004]\n",
        "\n",
        "# 5월,6월 7월 출력하기\n",
        "df_form= df_202004.drop('REG_YYMM',axis=1).copy()\n",
        "df_form['REG_YYMM']=202005\n",
        "df_202005=df_form.copy()\n",
        "df_form['REG_YYMM']=202006\n",
        "df_202006=df_form.copy()\n",
        "df_form['REG_YYMM']=202007\n",
        "df_202007=df_form.copy()\n",
        "\n",
        "# 정렬\n",
        "\n",
        "for df in [df_202005,df_202006,df_202007]:\n",
        "  df = df[list(df_202004.columns)]\n",
        "\n",
        "del df_form,df_202004\n",
        "gc.collect()"
      ],
      "execution_count": null,
      "outputs": [
        {
          "output_type": "execute_result",
          "data": {
            "text/plain": [
              "22"
            ]
          },
          "metadata": {
            "tags": []
          },
          "execution_count": 8
        }
      ]
    },
    {
      "cell_type": "code",
      "metadata": {
        "id": "HQ4HsbDhV5lx",
        "colab_type": "code",
        "colab": {}
      },
      "source": [
        "# 인코딩\n",
        "encoders = make_encoders(train_df)"
      ],
      "execution_count": null,
      "outputs": []
    },
    {
      "cell_type": "code",
      "metadata": {
        "id": "OvNnlup0CqAQ",
        "colab_type": "code",
        "colab": {}
      },
      "source": [
        "for col in encoders.keys():\n",
        "  #df_not04[col] = df_not04[col].map(encoders[col])\n",
        "  #df_202004[col] = df_202004[col].map(encoders[col])\n",
        "  train_df[col] = train_df[col].map(encoders[col])\n",
        "  #df_202005[col] = df_202005[col].map(encoders[col])\n",
        "  #df_202006[col] = df_202006[col].map(encoders[col])\n",
        "  #df_202007[col] = df_202007[col].map(encoders[col])"
      ],
      "execution_count": null,
      "outputs": []
    },
    {
      "cell_type": "code",
      "metadata": {
        "id": "SUkJLuygU0YS",
        "colab_type": "code",
        "colab": {}
      },
      "source": [
        "for col in train_df.columns:\n",
        "  if col !='AMT':\n",
        "    #df_not04[col] = df_not04[col].astype('object')\n",
        "    #df_202004[col] = df_202004[col].astype('object')\n",
        "    train_df[col] = train_df[col].astype('object')\n",
        "    #df_202005[col] = df_202005[col].astype('object')\n",
        "    #df_202006[col] = df_202006[col].astype('object')\n",
        "    #df_202007[col] = df_202007[col].astype('object')"
      ],
      "execution_count": null,
      "outputs": []
    },
    {
      "cell_type": "code",
      "metadata": {
        "id": "HX1rTtwhkXXR",
        "colab_type": "code",
        "colab": {}
      },
      "source": [
        "X_train, X_val, y_train, y_val = train_test_split(train_df.drop('AMT',axis=1),\n",
        "                                                  np.log1p(train_df['AMT']), test_size=0.3, random_state=42)"
      ],
      "execution_count": null,
      "outputs": []
    },
    {
      "cell_type": "code",
      "metadata": {
        "id": "b_GlEZlmRC0J",
        "colab_type": "code",
        "colab": {
          "base_uri": "https://localhost:8080/",
          "height": 34
        },
        "outputId": "0f91619b-2e91-46d7-c668-2e7fe9fdd0aa"
      },
      "source": [
        "del train_df\n",
        "gc.collect()"
      ],
      "execution_count": null,
      "outputs": [
        {
          "output_type": "execute_result",
          "data": {
            "text/plain": [
              "257"
            ]
          },
          "metadata": {
            "tags": []
          },
          "execution_count": 13
        }
      ]
    },
    {
      "cell_type": "markdown",
      "metadata": {
        "id": "7SSlKrPRhqq8",
        "colab_type": "text"
      },
      "source": [
        "catboost 파라미터: bagging_temperature ,\n",
        "              depth , \n",
        "                  learning_rate ,\n",
        "                  min_data_in_leaf , \n",
        "                  max_leaves , \n",
        "                  l2_leaf_reg , \n",
        "                  border_count"
      ]
    },
    {
      "cell_type": "code",
      "metadata": {
        "id": "cN7qM3xbf-I2",
        "colab_type": "code",
        "colab": {
          "base_uri": "https://localhost:8080/",
          "height": 283
        },
        "outputId": "d98cec2f-4587-46ea-e379-dca265bf6bba"
      },
      "source": [
        "cat_features = list(X_train.columns)\n",
        "\n",
        "model = CatBoostRegressor(loss_function=\"RMSE\",\n",
        "                           eval_metric=\"RMSE\",\n",
        "                           task_type=\"GPU\",\n",
        "                           learning_rate=0.01,\n",
        "                           iterations=200,\n",
        "                           boosting_type='Plain', # 메모리 과부하 방지\n",
        "                           #max_ctr_complexity=2,\n",
        "                           gpu_cat_features_storage = 'CpuPinnedMemory',\n",
        "                           early_stopping_rounds=10)\n",
        "\n",
        "\n",
        "\n",
        "model.fit(X_train, y_train,\n",
        "          cat_features=cat_features,\n",
        "          eval_set=(X_val, y_val),\n",
        "          use_best_model=True,\n",
        "          verbose = 10)"
      ],
      "execution_count": null,
      "outputs": [
        {
          "output_type": "stream",
          "text": [
            "0:\tlearn: 1.7132157\ttest: 1.7118699\tbest: 1.7118699 (0)\ttotal: 99.4ms\tremaining: 9.84s\n",
            "10:\tlearn: 1.6951295\ttest: 1.6937251\tbest: 1.6937251 (10)\ttotal: 947ms\tremaining: 7.66s\n",
            "20:\tlearn: 1.6799799\ttest: 1.6785782\tbest: 1.6785782 (20)\ttotal: 1.79s\tremaining: 6.75s\n",
            "30:\tlearn: 1.6635969\ttest: 1.6621243\tbest: 1.6621243 (30)\ttotal: 2.62s\tremaining: 5.84s\n",
            "40:\tlearn: 1.6475225\ttest: 1.6459555\tbest: 1.6459555 (40)\ttotal: 3.46s\tremaining: 4.97s\n",
            "50:\tlearn: 1.6337382\ttest: 1.6320971\tbest: 1.6320971 (50)\ttotal: 4.29s\tremaining: 4.12s\n",
            "60:\tlearn: 1.6216671\ttest: 1.6199613\tbest: 1.6199613 (60)\ttotal: 5.12s\tremaining: 3.27s\n",
            "70:\tlearn: 1.6112898\ttest: 1.6095052\tbest: 1.6095052 (70)\ttotal: 5.95s\tremaining: 2.43s\n",
            "80:\tlearn: 1.6000801\ttest: 1.5982725\tbest: 1.5982725 (80)\ttotal: 6.82s\tremaining: 1.6s\n",
            "90:\tlearn: 1.5909631\ttest: 1.5891127\tbest: 1.5891127 (90)\ttotal: 7.66s\tremaining: 758ms\n",
            "99:\tlearn: 1.5840125\ttest: 1.5821479\tbest: 1.5821479 (99)\ttotal: 8.43s\tremaining: 0us\n",
            "bestTest = 1.58214788\n",
            "bestIteration = 99\n"
          ],
          "name": "stdout"
        },
        {
          "output_type": "execute_result",
          "data": {
            "text/plain": [
              "<catboost.core.CatBoostRegressor at 0x7f21f9cf4ef0>"
            ]
          },
          "metadata": {
            "tags": []
          },
          "execution_count": 14
        }
      ]
    },
    {
      "cell_type": "code",
      "metadata": {
        "id": "Rldwl4mooNis",
        "colab_type": "code",
        "colab": {
          "base_uri": "https://localhost:8080/",
          "height": 34
        },
        "outputId": "e48527ce-4e4c-40d1-c120-c521081ca778"
      },
      "source": [
        "del X_train,y_train,X_val,y_val\n",
        "gc.collect()"
      ],
      "execution_count": null,
      "outputs": [
        {
          "output_type": "execute_result",
          "data": {
            "text/plain": [
              "0"
            ]
          },
          "metadata": {
            "tags": []
          },
          "execution_count": 15
        }
      ]
    },
    {
      "cell_type": "code",
      "metadata": {
        "id": "LIx3si9ZZjsM",
        "colab_type": "code",
        "colab": {
          "base_uri": "https://localhost:8080/",
          "height": 1000
        },
        "outputId": "91e892cc-8001-4f0c-c4e2-ab485d45f8af"
      },
      "source": [
        "model.get_feature_importance(prettified=True)"
      ],
      "execution_count": null,
      "outputs": [
        {
          "output_type": "execute_result",
          "data": {
            "text/html": [
              "<div>\n",
              "<style scoped>\n",
              "    .dataframe tbody tr th:only-of-type {\n",
              "        vertical-align: middle;\n",
              "    }\n",
              "\n",
              "    .dataframe tbody tr th {\n",
              "        vertical-align: top;\n",
              "    }\n",
              "\n",
              "    .dataframe thead th {\n",
              "        text-align: right;\n",
              "    }\n",
              "</style>\n",
              "<table border=\"1\" class=\"dataframe\">\n",
              "  <thead>\n",
              "    <tr style=\"text-align: right;\">\n",
              "      <th></th>\n",
              "      <th>Feature Id</th>\n",
              "      <th>Importances</th>\n",
              "    </tr>\n",
              "  </thead>\n",
              "  <tbody>\n",
              "    <tr>\n",
              "      <th>0</th>\n",
              "      <td>STD_CLSS_NM</td>\n",
              "      <td>28.007523</td>\n",
              "    </tr>\n",
              "    <tr>\n",
              "      <th>1</th>\n",
              "      <td>SIDO_CCG_STD_2020</td>\n",
              "      <td>25.086554</td>\n",
              "    </tr>\n",
              "    <tr>\n",
              "      <th>2</th>\n",
              "      <td>HOM_SIDO_NM</td>\n",
              "      <td>5.679408</td>\n",
              "    </tr>\n",
              "    <tr>\n",
              "      <th>3</th>\n",
              "      <td>CARD_SIDO_NM</td>\n",
              "      <td>5.665522</td>\n",
              "    </tr>\n",
              "    <tr>\n",
              "      <th>4</th>\n",
              "      <td>HOM_CCG_NM</td>\n",
              "      <td>5.099663</td>\n",
              "    </tr>\n",
              "    <tr>\n",
              "      <th>5</th>\n",
              "      <td>SIDO_CCG_ASF_2_total</td>\n",
              "      <td>4.306144</td>\n",
              "    </tr>\n",
              "    <tr>\n",
              "      <th>6</th>\n",
              "      <td>SIDO_CCG_ASF_2_2020</td>\n",
              "      <td>3.747939</td>\n",
              "    </tr>\n",
              "    <tr>\n",
              "      <th>7</th>\n",
              "      <td>CARD_CCG_NM</td>\n",
              "      <td>3.504450</td>\n",
              "    </tr>\n",
              "    <tr>\n",
              "      <th>8</th>\n",
              "      <td>SIDO_CCG_STD_total</td>\n",
              "      <td>3.378088</td>\n",
              "    </tr>\n",
              "    <tr>\n",
              "      <th>9</th>\n",
              "      <td>SIDO_CCG_ASF_2_2019</td>\n",
              "      <td>2.770188</td>\n",
              "    </tr>\n",
              "    <tr>\n",
              "      <th>10</th>\n",
              "      <td>SIDO_CCG_STD_2019</td>\n",
              "      <td>2.644630</td>\n",
              "    </tr>\n",
              "    <tr>\n",
              "      <th>11</th>\n",
              "      <td>SIDO_ASF_2_2019</td>\n",
              "      <td>1.433693</td>\n",
              "    </tr>\n",
              "    <tr>\n",
              "      <th>12</th>\n",
              "      <td>SIDO_STD_2020</td>\n",
              "      <td>1.415547</td>\n",
              "    </tr>\n",
              "    <tr>\n",
              "      <th>13</th>\n",
              "      <td>SIDO_CCG_ASF_2019</td>\n",
              "      <td>1.123176</td>\n",
              "    </tr>\n",
              "    <tr>\n",
              "      <th>14</th>\n",
              "      <td>SIDO_ASF_2019</td>\n",
              "      <td>0.798341</td>\n",
              "    </tr>\n",
              "    <tr>\n",
              "      <th>15</th>\n",
              "      <td>SIDO_ASF_total</td>\n",
              "      <td>0.666198</td>\n",
              "    </tr>\n",
              "    <tr>\n",
              "      <th>16</th>\n",
              "      <td>SIDO_CCG_ASF_total</td>\n",
              "      <td>0.632942</td>\n",
              "    </tr>\n",
              "    <tr>\n",
              "      <th>17</th>\n",
              "      <td>SIDO_STD_total</td>\n",
              "      <td>0.592815</td>\n",
              "    </tr>\n",
              "    <tr>\n",
              "      <th>18</th>\n",
              "      <td>SIDO_STD_2019</td>\n",
              "      <td>0.480963</td>\n",
              "    </tr>\n",
              "    <tr>\n",
              "      <th>19</th>\n",
              "      <td>STD_2020</td>\n",
              "      <td>0.443101</td>\n",
              "    </tr>\n",
              "    <tr>\n",
              "      <th>20</th>\n",
              "      <td>ASF_2019</td>\n",
              "      <td>0.414720</td>\n",
              "    </tr>\n",
              "    <tr>\n",
              "      <th>21</th>\n",
              "      <td>STD_2019</td>\n",
              "      <td>0.398743</td>\n",
              "    </tr>\n",
              "    <tr>\n",
              "      <th>22</th>\n",
              "      <td>SIDO_ASF_2_total</td>\n",
              "      <td>0.371643</td>\n",
              "    </tr>\n",
              "    <tr>\n",
              "      <th>23</th>\n",
              "      <td>SIDO_ASF_2_2020</td>\n",
              "      <td>0.366091</td>\n",
              "    </tr>\n",
              "    <tr>\n",
              "      <th>24</th>\n",
              "      <td>STD_total</td>\n",
              "      <td>0.301077</td>\n",
              "    </tr>\n",
              "    <tr>\n",
              "      <th>25</th>\n",
              "      <td>AGE</td>\n",
              "      <td>0.240209</td>\n",
              "    </tr>\n",
              "    <tr>\n",
              "      <th>26</th>\n",
              "      <td>SIDO_ASF_2020</td>\n",
              "      <td>0.106410</td>\n",
              "    </tr>\n",
              "    <tr>\n",
              "      <th>27</th>\n",
              "      <td>FLC</td>\n",
              "      <td>0.095438</td>\n",
              "    </tr>\n",
              "    <tr>\n",
              "      <th>28</th>\n",
              "      <td>ASF_total</td>\n",
              "      <td>0.094954</td>\n",
              "    </tr>\n",
              "    <tr>\n",
              "      <th>29</th>\n",
              "      <td>SIDO_CCG_ASF_2020</td>\n",
              "      <td>0.077125</td>\n",
              "    </tr>\n",
              "    <tr>\n",
              "      <th>30</th>\n",
              "      <td>ASF_2020</td>\n",
              "      <td>0.040038</td>\n",
              "    </tr>\n",
              "    <tr>\n",
              "      <th>31</th>\n",
              "      <td>REG_YYMM</td>\n",
              "      <td>0.016666</td>\n",
              "    </tr>\n",
              "    <tr>\n",
              "      <th>32</th>\n",
              "      <td>SEX_CTGO_CD</td>\n",
              "      <td>0.000000</td>\n",
              "    </tr>\n",
              "  </tbody>\n",
              "</table>\n",
              "</div>"
            ],
            "text/plain": [
              "              Feature Id  Importances\n",
              "0            STD_CLSS_NM    28.007523\n",
              "1      SIDO_CCG_STD_2020    25.086554\n",
              "2            HOM_SIDO_NM     5.679408\n",
              "3           CARD_SIDO_NM     5.665522\n",
              "4             HOM_CCG_NM     5.099663\n",
              "5   SIDO_CCG_ASF_2_total     4.306144\n",
              "6    SIDO_CCG_ASF_2_2020     3.747939\n",
              "7            CARD_CCG_NM     3.504450\n",
              "8     SIDO_CCG_STD_total     3.378088\n",
              "9    SIDO_CCG_ASF_2_2019     2.770188\n",
              "10     SIDO_CCG_STD_2019     2.644630\n",
              "11       SIDO_ASF_2_2019     1.433693\n",
              "12         SIDO_STD_2020     1.415547\n",
              "13     SIDO_CCG_ASF_2019     1.123176\n",
              "14         SIDO_ASF_2019     0.798341\n",
              "15        SIDO_ASF_total     0.666198\n",
              "16    SIDO_CCG_ASF_total     0.632942\n",
              "17        SIDO_STD_total     0.592815\n",
              "18         SIDO_STD_2019     0.480963\n",
              "19              STD_2020     0.443101\n",
              "20              ASF_2019     0.414720\n",
              "21              STD_2019     0.398743\n",
              "22      SIDO_ASF_2_total     0.371643\n",
              "23       SIDO_ASF_2_2020     0.366091\n",
              "24             STD_total     0.301077\n",
              "25                   AGE     0.240209\n",
              "26         SIDO_ASF_2020     0.106410\n",
              "27                   FLC     0.095438\n",
              "28             ASF_total     0.094954\n",
              "29     SIDO_CCG_ASF_2020     0.077125\n",
              "30              ASF_2020     0.040038\n",
              "31              REG_YYMM     0.016666\n",
              "32           SEX_CTGO_CD     0.000000"
            ]
          },
          "metadata": {
            "tags": []
          },
          "execution_count": 17
        }
      ]
    },
    {
      "cell_type": "markdown",
      "metadata": {
        "id": "5vvK0r4_woqZ",
        "colab_type": "text"
      },
      "source": [
        "# submit"
      ]
    },
    {
      "cell_type": "code",
      "metadata": {
        "id": "uwF6gW0yP92H",
        "colab_type": "code",
        "colab": {}
      },
      "source": [
        "# for df in [df_202005,df_202006,df_202007]:\n",
        "#   pred=model.predict(df.drop('AMT',axis=1))\n",
        "#   df['AMT_pred'] = pred\n",
        "#   df['AMT_pred'] = np.expm1(df['AMT_pred'])"
      ],
      "execution_count": null,
      "outputs": []
    },
    {
      "cell_type": "code",
      "metadata": {
        "id": "4hCWtEcmcapw",
        "colab_type": "code",
        "colab": {}
      },
      "source": [
        "# # decoder 만들기\n",
        "\n",
        "# decoders={}\n",
        "# for kk,vv in encoders.items():\n",
        "#   decoder={}\n",
        "#   for k,v in vv.items():\n",
        "#     decoder[v]=k\n",
        "#   decoders[kk] = decoder"
      ],
      "execution_count": null,
      "outputs": []
    },
    {
      "cell_type": "code",
      "metadata": {
        "id": "jJLDvTXvc9-m",
        "colab_type": "code",
        "colab": {}
      },
      "source": [
        "# for col in decoders.keys():\n",
        "#   #df_202004[col] = df_202004[col].map(decoders[col])\n",
        "#   df_202005[col] = df_202005[col].map(decoders[col])\n",
        "#   df_202006[col] = df_202006[col].map(decoders[col])\n",
        "#   df_202007[col] = df_202007[col].map(decoders[col])"
      ],
      "execution_count": null,
      "outputs": []
    },
    {
      "cell_type": "code",
      "metadata": {
        "id": "-LXO4ZKBpHle",
        "colab_type": "code",
        "colab": {}
      },
      "source": [
        "# sub_form=sub.drop(['id','AMT'],axis=1).copy()\n",
        "# sub_form['REG_YYMM']=202005\n",
        "# df_05=df_202005.groupby(['REG_YYMM', 'CARD_SIDO_NM', 'STD_CLSS_NM'])['AMT_pred'].sum().reset_index(name='AMT')\n",
        "# sub_05 = sub_form.merge(df_05,on=['REG_YYMM', 'CARD_SIDO_NM', 'STD_CLSS_NM'],how='left')\n",
        "# sub_05.fillna(0,inplace=True)\n",
        "\n",
        "# sub_form=sub.drop(['id','AMT'],axis=1).copy()\n",
        "# sub_form['REG_YYMM']=202006\n",
        "# df_06=df_202006.groupby(['REG_YYMM', 'CARD_SIDO_NM', 'STD_CLSS_NM'])['AMT_pred'].sum().reset_index(name='AMT')\n",
        "# sub_06 = sub_form.merge(df_06,on=['REG_YYMM', 'CARD_SIDO_NM', 'STD_CLSS_NM'],how='left')\n",
        "# sub_06.fillna(0,inplace=True)\n",
        "\n",
        "# sub_form=sub.drop(['id','AMT'],axis=1).copy()\n",
        "# sub_form['REG_YYMM']=202007\n",
        "# df_07=df_202007.groupby(['REG_YYMM', 'CARD_SIDO_NM', 'STD_CLSS_NM'])['AMT_pred'].sum().reset_index(name='AMT')\n",
        "# sub_07 = sub_form.merge(df_07,on=['REG_YYMM', 'CARD_SIDO_NM', 'STD_CLSS_NM'],how='left')\n",
        "# sub_07.fillna(0,inplace=True)"
      ],
      "execution_count": null,
      "outputs": []
    },
    {
      "cell_type": "code",
      "metadata": {
        "id": "aJAnR-TjqzZ5",
        "colab_type": "code",
        "colab": {}
      },
      "source": [
        "# sub_05.to_csv('/content/drive/My Drive/Colab Notebooks/data/데이콘/제주/submission_baseline_cat(200,5월).csv', encoding='utf-8-sig',index=False)\n",
        "# sub_06.to_csv('/content/drive/My Drive/Colab Notebooks/data/데이콘/제주/submission_baseline_cat(200,6월).csv', encoding='utf-8-sig',index=False)\n",
        "# sub_07.to_csv('/content/drive/My Drive/Colab Notebooks/data/데이콘/제주/submission_baseline_cat(200,7월).csv', encoding='utf-8-sig',index=False)"
      ],
      "execution_count": null,
      "outputs": []
    },
    {
      "cell_type": "markdown",
      "metadata": {
        "id": "T47pvN1arGkN",
        "colab_type": "text"
      },
      "source": [
        "---"
      ]
    },
    {
      "cell_type": "markdown",
      "metadata": {
        "id": "EjpTiDQurFjb",
        "colab_type": "text"
      },
      "source": [
        "단독계산"
      ]
    },
    {
      "cell_type": "code",
      "metadata": {
        "id": "JPu7LOXVdTUq",
        "colab_type": "code",
        "colab": {}
      },
      "source": [
        "# df_t = df_202004.groupby(['REG_YYMM', 'CARD_SIDO_NM', 'STD_CLSS_NM'])['AMT_pred'].sum().reset_index(name='AMT')\n",
        "# df_t['AMT'] = df_t['AMT'].fillna(0)\n",
        "# df_t['AMT'] = df_t['AMT'].astype('int')"
      ],
      "execution_count": null,
      "outputs": []
    },
    {
      "cell_type": "code",
      "metadata": {
        "id": "TbK5_lnGdkCA",
        "colab_type": "code",
        "colab": {}
      },
      "source": [
        "# sub.drop('AMT',axis=1,inplace=True)\n",
        "# sub = sub.merge(df_t,on=['REG_YYMM', 'CARD_SIDO_NM', 'STD_CLSS_NM'],how='left')\n",
        "# sub.fillna(0,inplace=True)"
      ],
      "execution_count": null,
      "outputs": []
    },
    {
      "cell_type": "code",
      "metadata": {
        "id": "-HvHUv8YeHZg",
        "colab_type": "code",
        "colab": {}
      },
      "source": [
        "# sub.head()"
      ],
      "execution_count": null,
      "outputs": []
    },
    {
      "cell_type": "code",
      "metadata": {
        "id": "9sfPWN11eHfU",
        "colab_type": "code",
        "colab": {}
      },
      "source": [
        "# sub.to_csv('/content/drive/My Drive/Colab Notebooks/data/데이콘/제주/submission_baseline_cat(300).csv', encoding='utf-8-sig',index=False)"
      ],
      "execution_count": null,
      "outputs": []
    },
    {
      "cell_type": "code",
      "metadata": {
        "id": "Ja1MVAEfbwkf",
        "colab_type": "code",
        "colab": {}
      },
      "source": [
        "# pred=model.predict(df_202004.drop('AMT',axis=1))\n",
        "# df_202004['AMT_pred'] = pred\n",
        "# df_202004['AMT_pred'] = np.expm1(df_202004['AMT_pred'])"
      ],
      "execution_count": null,
      "outputs": []
    }
  ]
}