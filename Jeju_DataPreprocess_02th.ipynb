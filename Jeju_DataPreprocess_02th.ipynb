{
  "nbformat": 4,
  "nbformat_minor": 0,
  "metadata": {
    "colab": {
      "name": "Jeju_DataPreprocess_02th.ipynb",
      "provenance": [],
      "machine_shape": "hm"
    },
    "kernelspec": {
      "name": "python3",
      "display_name": "Python 3"
    }
  },
  "cells": [
    {
      "cell_type": "code",
      "metadata": {
        "id": "6Jv6eSZIL2li",
        "colab_type": "code",
        "colab": {
          "base_uri": "https://localhost:8080/",
          "height": 105
        },
        "outputId": "7825ccd0-31a8-4453-f4fb-122c0592a97f"
      },
      "source": [
        "import numpy as np\n",
        "import pandas as pd\n",
        "import matplotlib as mpl\n",
        "import matplotlib.pyplot as plt\n",
        "import seaborn as sns\n",
        "from sklearn.preprocessing import LabelEncoder\n",
        "\n",
        "!pip install bayesian-optimization\n",
        "\n",
        "from sklearn.model_selection import KFold,StratifiedKFold   # K-fold CV \n",
        "from bayes_opt import BayesianOptimization  # 베이지안 최적화 라이브러리\n",
        "from functools import partial               # 함수 변수 고정\n",
        "import lightgbm as lgb                      # LightGBM 라이브러리\n",
        "from sklearn.metrics import mean_squared_error\n",
        "from sklearn.metrics import mean_squared_log_error\n",
        "\n",
        "import warnings\n",
        "warnings.filterwarnings(action = 'ignore')\n",
        "\n",
        "from imblearn.over_sampling import SMOTE"
      ],
      "execution_count": null,
      "outputs": [
        {
          "output_type": "stream",
          "text": [
            "Requirement already satisfied: bayesian-optimization in /usr/local/lib/python3.6/dist-packages (1.2.0)\n",
            "Requirement already satisfied: scipy>=0.14.0 in /usr/local/lib/python3.6/dist-packages (from bayesian-optimization) (1.4.1)\n",
            "Requirement already satisfied: numpy>=1.9.0 in /usr/local/lib/python3.6/dist-packages (from bayesian-optimization) (1.18.5)\n",
            "Requirement already satisfied: scikit-learn>=0.18.0 in /usr/local/lib/python3.6/dist-packages (from bayesian-optimization) (0.22.2.post1)\n",
            "Requirement already satisfied: joblib>=0.11 in /usr/local/lib/python3.6/dist-packages (from scikit-learn>=0.18.0->bayesian-optimization) (0.15.1)\n"
          ],
          "name": "stdout"
        }
      ]
    },
    {
      "cell_type": "code",
      "metadata": {
        "id": "cgLze7yIL92G",
        "colab_type": "code",
        "colab": {}
      },
      "source": [
        "data = pd.read_csv('/content/drive/My Drive/Colab Notebooks/data/데이콘/제주/201901-202003.csv')"
      ],
      "execution_count": null,
      "outputs": []
    },
    {
      "cell_type": "markdown",
      "metadata": {
        "id": "oiMJRc2zOKT-",
        "colab_type": "text"
      },
      "source": [
        "# 결측치에 대한 고찰"
      ]
    },
    {
      "cell_type": "code",
      "metadata": {
        "id": "kUpuBayAOLyZ",
        "colab_type": "code",
        "colab": {
          "base_uri": "https://localhost:8080/",
          "height": 246
        },
        "outputId": "bae6998f-cfac-4a75-c53e-806ab707ef5b"
      },
      "source": [
        "data.isna().sum()"
      ],
      "execution_count": null,
      "outputs": [
        {
          "output_type": "execute_result",
          "data": {
            "text/plain": [
              "REG_YYMM             0\n",
              "CARD_SIDO_NM         0\n",
              "CARD_CCG_NM      87213\n",
              "STD_CLSS_NM          0\n",
              "HOM_SIDO_NM          0\n",
              "HOM_CCG_NM      147787\n",
              "AGE                  0\n",
              "SEX_CTGO_CD          0\n",
              "FLC                  0\n",
              "CSTMR_CNT            0\n",
              "AMT                  0\n",
              "CNT                  0\n",
              "dtype: int64"
            ]
          },
          "metadata": {
            "tags": []
          },
          "execution_count": 5
        }
      ]
    },
    {
      "cell_type": "code",
      "metadata": {
        "id": "LeRQ8ZJzdgIT",
        "colab_type": "code",
        "colab": {}
      },
      "source": [
        "df=data.copy()"
      ],
      "execution_count": null,
      "outputs": []
    },
    {
      "cell_type": "markdown",
      "metadata": {
        "id": "K2CBdJWWOSWB",
        "colab_type": "text"
      },
      "source": [
        "업종 관련 및 소비자 관련의 CCG 변수 2개 모두 많지는 않지만 어느정도 결측치를 가지고 있음."
      ]
    },
    {
      "cell_type": "code",
      "metadata": {
        "id": "FWzYc7XeOhiE",
        "colab_type": "code",
        "colab": {
          "base_uri": "https://localhost:8080/",
          "height": 70
        },
        "outputId": "55633b6c-7b67-4925-b923-bcbfb478b301"
      },
      "source": [
        "print('CARD_CCG,HOM_CCG 모두 NA의 행 개수:',data[(data['CARD_CCG_NM'].isna())&(data['HOM_CCG_NM'].isna())].shape[0])\n",
        "print('CARD_CCG,HOM_CCG 모두 NA일 때, CARD_SIDO_NM:',data[(data['CARD_CCG_NM'].isna())&(data['HOM_CCG_NM'].isna())]['CARD_SIDO_NM'].unique())\n",
        "print('CARD_CCG,HOM_CCG 모두 NA일 때, CARD_HOM_NM:',data[(data['CARD_CCG_NM'].isna())&(data['HOM_CCG_NM'].isna())]['HOM_SIDO_NM'].unique())"
      ],
      "execution_count": null,
      "outputs": [
        {
          "output_type": "stream",
          "text": [
            "CARD_CCG,HOM_CCG 모두 NA의 행 개수: 7736\n",
            "CARD_CCG,HOM_CCG 모두 NA일 때, CARD_SIDO_NM: ['세종']\n",
            "CARD_CCG,HOM_CCG 모두 NA일 때, CARD_HOM_NM: ['세종']\n"
          ],
          "name": "stdout"
        }
      ]
    },
    {
      "cell_type": "markdown",
      "metadata": {
        "id": "FtrHzqZ1SIKQ",
        "colab_type": "text"
      },
      "source": [
        "우선 모든 CCG변수 NA 값인 경우 SIDO_NM이 둘다 '세종'으로 나타나 있다. 세종에는 어떤 지역들(CCG)가 있을까?"
      ]
    },
    {
      "cell_type": "code",
      "metadata": {
        "id": "KEIHFauiVrds",
        "colab_type": "code",
        "colab": {
          "base_uri": "https://localhost:8080/",
          "height": 52
        },
        "outputId": "2f14673d-7551-495b-fd54-accb04330610"
      },
      "source": [
        "print('CARD_SIDO_NM이 세종인 개수',data[data['CARD_SIDO_NM']=='세종'].shape[0])\n",
        "print('세종의 결측치 개수',len(data[data['CARD_SIDO_NM']=='세종']['CARD_CCG_NM'].isna()))"
      ],
      "execution_count": null,
      "outputs": [
        {
          "output_type": "stream",
          "text": [
            "CARD_SIDO_NM이 세종인 개수 87213\n",
            "세종의 결측치 개수 87213\n"
          ],
          "name": "stdout"
        }
      ]
    },
    {
      "cell_type": "code",
      "metadata": {
        "id": "jw137bBhb81E",
        "colab_type": "code",
        "colab": {
          "base_uri": "https://localhost:8080/",
          "height": 52
        },
        "outputId": "b08f328d-de6d-40f1-90d9-30a67ba7d9fd"
      },
      "source": [
        "print('HOM_SIDO_NM이 세종인 개수',data[data['HOM_SIDO_NM']=='세종'].shape[0])\n",
        "print('세종의 결측치 개수',len(data[data['HOM_SIDO_NM']=='세종']['HOM_CCG_NM'].isna()))"
      ],
      "execution_count": null,
      "outputs": [
        {
          "output_type": "stream",
          "text": [
            "HOM_SIDO_NM이 세종인 개수 147787\n",
            "세종의 결측치 개수 147787\n"
          ],
          "name": "stdout"
        }
      ]
    },
    {
      "cell_type": "markdown",
      "metadata": {
        "id": "OesW1SPMaqy9",
        "colab_type": "text"
      },
      "source": [
        "CARD_SIDO_NM이 세종인 경우 CARD_CCG_NM이,HOM_SIDO_NM이 세종인 경우 HOM_CCG_NM이 모두 결측치로만 구성되어 있다.\n",
        "- 세종시는 소정면, 전의면, 전동면, 조치원읍, 연서면,연동면, 연기면,부강면, 금난면, 장군면으로 이루어져 있으나, 현재 데이터에는 세종시의 행정 구역이 따로 기재가 되어있지 않아있음.\n",
        "> -> 그냥 CCG에도 '세종시'라고 넣어도 될 것으로 보인다."
      ]
    },
    {
      "cell_type": "code",
      "metadata": {
        "id": "-6q_1w2idcG_",
        "colab_type": "code",
        "colab": {}
      },
      "source": [
        "df.loc[df['CARD_SIDO_NM']=='세종','CARD_CCG_NM']='세종'\n",
        "df.loc[df['HOM_SIDO_NM']=='세종','HOM_CCG_NM']='세종'"
      ],
      "execution_count": null,
      "outputs": []
    },
    {
      "cell_type": "code",
      "metadata": {
        "id": "PqgcOrVDd36Q",
        "colab_type": "code",
        "colab": {
          "base_uri": "https://localhost:8080/",
          "height": 246
        },
        "outputId": "a74a0f8b-df37-4e15-a398-8d2f876a7b29"
      },
      "source": [
        "df.isna().sum()"
      ],
      "execution_count": null,
      "outputs": [
        {
          "output_type": "execute_result",
          "data": {
            "text/plain": [
              "REG_YYMM        0\n",
              "CARD_SIDO_NM    0\n",
              "CARD_CCG_NM     0\n",
              "STD_CLSS_NM     0\n",
              "HOM_SIDO_NM     0\n",
              "HOM_CCG_NM      0\n",
              "AGE             0\n",
              "SEX_CTGO_CD     0\n",
              "FLC             0\n",
              "CSTMR_CNT       0\n",
              "AMT             0\n",
              "CNT             0\n",
              "dtype: int64"
            ]
          },
          "metadata": {
            "tags": []
          },
          "execution_count": 43
        }
      ]
    },
    {
      "cell_type": "code",
      "metadata": {
        "id": "Y7oDFit7ej1P",
        "colab_type": "code",
        "colab": {}
      },
      "source": [
        "df.to_csv('/content/drive/My Drive/Colab Notebooks/data/데이콘/제주/train_df_noNAN.csv', encoding='utf-8-sig',index=False)"
      ],
      "execution_count": null,
      "outputs": []
    }
  ]
}