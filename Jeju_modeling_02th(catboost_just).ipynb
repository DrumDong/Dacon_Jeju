{
  "nbformat": 4,
  "nbformat_minor": 0,
  "metadata": {
    "colab": {
      "name": "Jeju_modeling_2th(catboost_just).ipynb",
      "provenance": [],
      "collapsed_sections": [],
      "machine_shape": "hm"
    },
    "kernelspec": {
      "name": "python3",
      "display_name": "Python 3"
    },
    "accelerator": "GPU"
  },
  "cells": [
    {
      "cell_type": "code",
      "metadata": {
        "id": "sBkzV86niHci",
        "colab_type": "code",
        "colab": {
          "base_uri": "https://localhost:8080/",
          "height": 283
        },
        "outputId": "fcef16d7-8dc0-4943-b429-2a157fa30cfa"
      },
      "source": [
        "!pip install catboost\n",
        "import pandas as pd\n",
        "import numpy as np\n",
        "from catboost import CatBoostRegressor\n",
        "import gc\n",
        "from sklearn.model_selection import train_test_split"
      ],
      "execution_count": 1,
      "outputs": [
        {
          "output_type": "stream",
          "text": [
            "Requirement already satisfied: catboost in /usr/local/lib/python3.6/dist-packages (0.23.2)\n",
            "Requirement already satisfied: plotly in /usr/local/lib/python3.6/dist-packages (from catboost) (4.4.1)\n",
            "Requirement already satisfied: pandas>=0.24.0 in /usr/local/lib/python3.6/dist-packages (from catboost) (1.0.5)\n",
            "Requirement already satisfied: matplotlib in /usr/local/lib/python3.6/dist-packages (from catboost) (3.2.2)\n",
            "Requirement already satisfied: numpy>=1.16.0 in /usr/local/lib/python3.6/dist-packages (from catboost) (1.18.5)\n",
            "Requirement already satisfied: six in /usr/local/lib/python3.6/dist-packages (from catboost) (1.15.0)\n",
            "Requirement already satisfied: graphviz in /usr/local/lib/python3.6/dist-packages (from catboost) (0.10.1)\n",
            "Requirement already satisfied: scipy in /usr/local/lib/python3.6/dist-packages (from catboost) (1.4.1)\n",
            "Requirement already satisfied: retrying>=1.3.3 in /usr/local/lib/python3.6/dist-packages (from plotly->catboost) (1.3.3)\n",
            "Requirement already satisfied: python-dateutil>=2.6.1 in /usr/local/lib/python3.6/dist-packages (from pandas>=0.24.0->catboost) (2.8.1)\n",
            "Requirement already satisfied: pytz>=2017.2 in /usr/local/lib/python3.6/dist-packages (from pandas>=0.24.0->catboost) (2018.9)\n",
            "Requirement already satisfied: cycler>=0.10 in /usr/local/lib/python3.6/dist-packages (from matplotlib->catboost) (0.10.0)\n",
            "Requirement already satisfied: pyparsing!=2.0.4,!=2.1.2,!=2.1.6,>=2.0.1 in /usr/local/lib/python3.6/dist-packages (from matplotlib->catboost) (2.4.7)\n",
            "Requirement already satisfied: kiwisolver>=1.0.1 in /usr/local/lib/python3.6/dist-packages (from matplotlib->catboost) (1.2.0)\n"
          ],
          "name": "stdout"
        }
      ]
    },
    {
      "cell_type": "code",
      "metadata": {
        "id": "DEICePPwhsCO",
        "colab_type": "code",
        "colab": {}
      },
      "source": [
        "# 이상치 처리 X\n",
        "train_df=pd.read_csv('/content/drive/My Drive/Colab Notebooks/data/데이콘/제주/mid_train_df(2).csv')\n",
        "#test_df=pd.read_csv('/content/drive/My Drive/Colab Notebooks/data/데이콘/제주/mid_test_df(2).csv')\n",
        "\n",
        "#sub = pd.read_csv('/content/drive/My Drive/Colab Notebooks/data/데이콘/제주/submission.csv')"
      ],
      "execution_count": 2,
      "outputs": []
    },
    {
      "cell_type": "code",
      "metadata": {
        "id": "hY2uDirK52gL",
        "colab_type": "code",
        "colab": {}
      },
      "source": [
        "train_df.fillna(9999,inplace=True)\n",
        "#test_df.fillna(9999,inplace=True)"
      ],
      "execution_count": 3,
      "outputs": []
    },
    {
      "cell_type": "code",
      "metadata": {
        "id": "m8QZ_TGyo6dW",
        "colab_type": "code",
        "colab": {
          "base_uri": "https://localhost:8080/",
          "height": 299
        },
        "outputId": "314ff424-7374-4037-918b-6975762a983a"
      },
      "source": [
        "train_df.drop(['CSTMR_CNT','CNT'],axis=1,inplace=True)\n",
        "train_df.head()"
      ],
      "execution_count": 4,
      "outputs": [
        {
          "output_type": "execute_result",
          "data": {
            "text/html": [
              "<div>\n",
              "<style scoped>\n",
              "    .dataframe tbody tr th:only-of-type {\n",
              "        vertical-align: middle;\n",
              "    }\n",
              "\n",
              "    .dataframe tbody tr th {\n",
              "        vertical-align: top;\n",
              "    }\n",
              "\n",
              "    .dataframe thead th {\n",
              "        text-align: right;\n",
              "    }\n",
              "</style>\n",
              "<table border=\"1\" class=\"dataframe\">\n",
              "  <thead>\n",
              "    <tr style=\"text-align: right;\">\n",
              "      <th></th>\n",
              "      <th>REG_YYMM</th>\n",
              "      <th>CARD_SIDO_NM</th>\n",
              "      <th>CARD_CCG_NM</th>\n",
              "      <th>STD_CLSS_NM</th>\n",
              "      <th>HOM_SIDO_NM</th>\n",
              "      <th>HOM_CCG_NM</th>\n",
              "      <th>AGE</th>\n",
              "      <th>SEX_CTGO_CD</th>\n",
              "      <th>FLC</th>\n",
              "      <th>AMT</th>\n",
              "      <th>STD_total</th>\n",
              "      <th>SIDO_STD_total</th>\n",
              "      <th>SIDO_CCG_STD_total</th>\n",
              "      <th>ASF_total</th>\n",
              "      <th>SIDO_ASF_total</th>\n",
              "      <th>SIDO_CCG_ASF_total</th>\n",
              "      <th>SIDO_ASF_2_total</th>\n",
              "      <th>SIDO_CCG_ASF_2_total</th>\n",
              "      <th>STD_2019</th>\n",
              "      <th>SIDO_STD_2019</th>\n",
              "      <th>SIDO_CCG_STD_2019</th>\n",
              "      <th>ASF_2019</th>\n",
              "      <th>SIDO_ASF_2019</th>\n",
              "      <th>SIDO_CCG_ASF_2019</th>\n",
              "      <th>SIDO_ASF_2_2019</th>\n",
              "      <th>SIDO_CCG_ASF_2_2019</th>\n",
              "      <th>STD_2020</th>\n",
              "      <th>SIDO_STD_2020</th>\n",
              "      <th>SIDO_CCG_STD_2020</th>\n",
              "      <th>ASF_2020</th>\n",
              "      <th>SIDO_ASF_2020</th>\n",
              "      <th>SIDO_CCG_ASF_2020</th>\n",
              "      <th>SIDO_ASF_2_2020</th>\n",
              "      <th>SIDO_CCG_ASF_2_2020</th>\n",
              "    </tr>\n",
              "  </thead>\n",
              "  <tbody>\n",
              "    <tr>\n",
              "      <th>0</th>\n",
              "      <td>201901</td>\n",
              "      <td>강원</td>\n",
              "      <td>강릉시</td>\n",
              "      <td>건강보조식품 소매업</td>\n",
              "      <td>강원</td>\n",
              "      <td>강릉시</td>\n",
              "      <td>20s</td>\n",
              "      <td>1</td>\n",
              "      <td>1</td>\n",
              "      <td>311200</td>\n",
              "      <td>16</td>\n",
              "      <td>258</td>\n",
              "      <td>2121</td>\n",
              "      <td>11</td>\n",
              "      <td>14</td>\n",
              "      <td>357</td>\n",
              "      <td>201</td>\n",
              "      <td>1734</td>\n",
              "      <td>10</td>\n",
              "      <td>33</td>\n",
              "      <td>2140</td>\n",
              "      <td>11</td>\n",
              "      <td>196</td>\n",
              "      <td>338.0</td>\n",
              "      <td>225.0</td>\n",
              "      <td>2027.0</td>\n",
              "      <td>13</td>\n",
              "      <td>244.0</td>\n",
              "      <td>3128.0</td>\n",
              "      <td>6</td>\n",
              "      <td>49.0</td>\n",
              "      <td>36.0</td>\n",
              "      <td>117.0</td>\n",
              "      <td>1528.0</td>\n",
              "    </tr>\n",
              "    <tr>\n",
              "      <th>1</th>\n",
              "      <td>201901</td>\n",
              "      <td>강원</td>\n",
              "      <td>강릉시</td>\n",
              "      <td>건강보조식품 소매업</td>\n",
              "      <td>강원</td>\n",
              "      <td>강릉시</td>\n",
              "      <td>30s</td>\n",
              "      <td>1</td>\n",
              "      <td>2</td>\n",
              "      <td>1374500</td>\n",
              "      <td>16</td>\n",
              "      <td>258</td>\n",
              "      <td>2121</td>\n",
              "      <td>0</td>\n",
              "      <td>24</td>\n",
              "      <td>0</td>\n",
              "      <td>50</td>\n",
              "      <td>173</td>\n",
              "      <td>10</td>\n",
              "      <td>33</td>\n",
              "      <td>2140</td>\n",
              "      <td>2</td>\n",
              "      <td>53</td>\n",
              "      <td>15.0</td>\n",
              "      <td>4.0</td>\n",
              "      <td>812.0</td>\n",
              "      <td>13</td>\n",
              "      <td>244.0</td>\n",
              "      <td>3128.0</td>\n",
              "      <td>3</td>\n",
              "      <td>42.0</td>\n",
              "      <td>19.0</td>\n",
              "      <td>79.0</td>\n",
              "      <td>780.0</td>\n",
              "    </tr>\n",
              "    <tr>\n",
              "      <th>2</th>\n",
              "      <td>201901</td>\n",
              "      <td>강원</td>\n",
              "      <td>강릉시</td>\n",
              "      <td>건강보조식품 소매업</td>\n",
              "      <td>강원</td>\n",
              "      <td>강릉시</td>\n",
              "      <td>30s</td>\n",
              "      <td>2</td>\n",
              "      <td>2</td>\n",
              "      <td>818700</td>\n",
              "      <td>16</td>\n",
              "      <td>258</td>\n",
              "      <td>2121</td>\n",
              "      <td>2</td>\n",
              "      <td>32</td>\n",
              "      <td>10</td>\n",
              "      <td>179</td>\n",
              "      <td>173</td>\n",
              "      <td>10</td>\n",
              "      <td>33</td>\n",
              "      <td>2140</td>\n",
              "      <td>0</td>\n",
              "      <td>5</td>\n",
              "      <td>15.0</td>\n",
              "      <td>4.0</td>\n",
              "      <td>812.0</td>\n",
              "      <td>13</td>\n",
              "      <td>244.0</td>\n",
              "      <td>3128.0</td>\n",
              "      <td>0</td>\n",
              "      <td>219.0</td>\n",
              "      <td>43.0</td>\n",
              "      <td>127.0</td>\n",
              "      <td>104.0</td>\n",
              "    </tr>\n",
              "    <tr>\n",
              "      <th>3</th>\n",
              "      <td>201901</td>\n",
              "      <td>강원</td>\n",
              "      <td>강릉시</td>\n",
              "      <td>건강보조식품 소매업</td>\n",
              "      <td>강원</td>\n",
              "      <td>강릉시</td>\n",
              "      <td>40s</td>\n",
              "      <td>1</td>\n",
              "      <td>3</td>\n",
              "      <td>1717000</td>\n",
              "      <td>16</td>\n",
              "      <td>258</td>\n",
              "      <td>2121</td>\n",
              "      <td>0</td>\n",
              "      <td>24</td>\n",
              "      <td>0</td>\n",
              "      <td>41</td>\n",
              "      <td>282</td>\n",
              "      <td>10</td>\n",
              "      <td>33</td>\n",
              "      <td>2140</td>\n",
              "      <td>2</td>\n",
              "      <td>1</td>\n",
              "      <td>15.0</td>\n",
              "      <td>99.0</td>\n",
              "      <td>58.0</td>\n",
              "      <td>13</td>\n",
              "      <td>244.0</td>\n",
              "      <td>3128.0</td>\n",
              "      <td>3</td>\n",
              "      <td>42.0</td>\n",
              "      <td>742.0</td>\n",
              "      <td>114.0</td>\n",
              "      <td>3174.0</td>\n",
              "    </tr>\n",
              "    <tr>\n",
              "      <th>4</th>\n",
              "      <td>201901</td>\n",
              "      <td>강원</td>\n",
              "      <td>강릉시</td>\n",
              "      <td>건강보조식품 소매업</td>\n",
              "      <td>강원</td>\n",
              "      <td>강릉시</td>\n",
              "      <td>40s</td>\n",
              "      <td>1</td>\n",
              "      <td>4</td>\n",
              "      <td>1047300</td>\n",
              "      <td>16</td>\n",
              "      <td>258</td>\n",
              "      <td>2121</td>\n",
              "      <td>0</td>\n",
              "      <td>51</td>\n",
              "      <td>0</td>\n",
              "      <td>226</td>\n",
              "      <td>14</td>\n",
              "      <td>10</td>\n",
              "      <td>33</td>\n",
              "      <td>2140</td>\n",
              "      <td>2</td>\n",
              "      <td>10</td>\n",
              "      <td>314.0</td>\n",
              "      <td>15.0</td>\n",
              "      <td>5.0</td>\n",
              "      <td>13</td>\n",
              "      <td>244.0</td>\n",
              "      <td>3128.0</td>\n",
              "      <td>3</td>\n",
              "      <td>51.0</td>\n",
              "      <td>19.0</td>\n",
              "      <td>1.0</td>\n",
              "      <td>209.0</td>\n",
              "    </tr>\n",
              "  </tbody>\n",
              "</table>\n",
              "</div>"
            ],
            "text/plain": [
              "   REG_YYMM CARD_SIDO_NM  ... SIDO_ASF_2_2020 SIDO_CCG_ASF_2_2020\n",
              "0    201901           강원  ...           117.0              1528.0\n",
              "1    201901           강원  ...            79.0               780.0\n",
              "2    201901           강원  ...           127.0               104.0\n",
              "3    201901           강원  ...           114.0              3174.0\n",
              "4    201901           강원  ...             1.0               209.0\n",
              "\n",
              "[5 rows x 34 columns]"
            ]
          },
          "metadata": {
            "tags": []
          },
          "execution_count": 4
        }
      ]
    },
    {
      "cell_type": "code",
      "metadata": {
        "id": "sutCGlJH8x6M",
        "colab_type": "code",
        "colab": {}
      },
      "source": [
        "# test_df 정렬\n",
        "#test_df = test_df[list(train_df.drop('AMT',axis=1).columns)]\n",
        "#test_df.head()"
      ],
      "execution_count": 5,
      "outputs": []
    },
    {
      "cell_type": "code",
      "metadata": {
        "id": "Ry6zHQL_SMEi",
        "colab_type": "code",
        "colab": {}
      },
      "source": [
        "def make_encoders(df):\n",
        "  encoders={}\n",
        "  for col in df.drop(['AMT'],axis=1).columns:\n",
        "    con_list =[]\n",
        "    encoder={}\n",
        "    for idx, content in enumerate(df[col].unique()):\n",
        "      encoder[content]=idx\n",
        "\n",
        "    if col == 'REG_YYMM':\n",
        "        encoder[202005] = idx+1\n",
        "        encoder[202006] = idx+2\n",
        "        encoder[202007] = idx+3\n",
        "     \n",
        "    encoders[col] = encoder\n",
        "  \n",
        "  return encoders"
      ],
      "execution_count": 6,
      "outputs": []
    },
    {
      "cell_type": "code",
      "metadata": {
        "id": "pWA5DiG5GHBX",
        "colab_type": "code",
        "colab": {}
      },
      "source": [
        "# 메모리 방지를 위한 컷\n",
        "train_df = train_df[train_df['REG_YYMM']>201907]"
      ],
      "execution_count": 7,
      "outputs": []
    },
    {
      "cell_type": "code",
      "metadata": {
        "id": "RoVssxKzjzLR",
        "colab_type": "code",
        "colab": {}
      },
      "source": [
        "# public은 4월 밖에 계산을 못함\n",
        "df_not04=train_df[train_df['REG_YYMM'] != 202004]\n",
        "df_202004=train_df[train_df['REG_YYMM'] == 202004]"
      ],
      "execution_count": 8,
      "outputs": []
    },
    {
      "cell_type": "code",
      "metadata": {
        "id": "HQ4HsbDhV5lx",
        "colab_type": "code",
        "colab": {}
      },
      "source": [
        "# 인코딩\n",
        "encoders = make_encoders(train_df)"
      ],
      "execution_count": 9,
      "outputs": []
    },
    {
      "cell_type": "code",
      "metadata": {
        "id": "OvNnlup0CqAQ",
        "colab_type": "code",
        "colab": {
          "base_uri": "https://localhost:8080/",
          "height": 248
        },
        "outputId": "093a13e8-7934-4f96-ec20-81fe8df37109"
      },
      "source": [
        "for col in encoders.keys():\n",
        "  df_not04[col] = df_not04[col].map(encoders[col])\n",
        "  df_202004[col] = df_202004[col].map(encoders[col])\n",
        "  #train_df[col] = train_df[col].map(encoders[col])\n",
        "  #df_202005[col] = df_202005[col].map(encoders[col])\n",
        "  #df_202006[col] = df_202006[col].map(encoders[col])\n",
        "  #df_202007[col] = df_202007[col].map(encoders[col])"
      ],
      "execution_count": 10,
      "outputs": [
        {
          "output_type": "stream",
          "text": [
            "/usr/local/lib/python3.6/dist-packages/ipykernel_launcher.py:2: SettingWithCopyWarning: \n",
            "A value is trying to be set on a copy of a slice from a DataFrame.\n",
            "Try using .loc[row_indexer,col_indexer] = value instead\n",
            "\n",
            "See the caveats in the documentation: https://pandas.pydata.org/pandas-docs/stable/user_guide/indexing.html#returning-a-view-versus-a-copy\n",
            "  \n",
            "/usr/local/lib/python3.6/dist-packages/ipykernel_launcher.py:3: SettingWithCopyWarning: \n",
            "A value is trying to be set on a copy of a slice from a DataFrame.\n",
            "Try using .loc[row_indexer,col_indexer] = value instead\n",
            "\n",
            "See the caveats in the documentation: https://pandas.pydata.org/pandas-docs/stable/user_guide/indexing.html#returning-a-view-versus-a-copy\n",
            "  This is separate from the ipykernel package so we can avoid doing imports until\n"
          ],
          "name": "stderr"
        }
      ]
    },
    {
      "cell_type": "code",
      "metadata": {
        "id": "SUkJLuygU0YS",
        "colab_type": "code",
        "colab": {
          "base_uri": "https://localhost:8080/",
          "height": 248
        },
        "outputId": "6a80c7bf-37e7-4cc5-e2fe-0c5dc8308715"
      },
      "source": [
        "for col in train_df.columns:\n",
        "  if col !='AMT':\n",
        "    df_not04[col] = df_not04[col].astype('object')\n",
        "    df_202004[col] = df_202004[col].astype('object')\n",
        "    #train_df[col] = train_df[col].astype('object')\n",
        "    #df_202005[col] = df_202005[col].astype('object')\n",
        "    #df_202006[col] = df_202006[col].astype('object')\n",
        "    #df_202007[col] = df_202007[col].astype('object')"
      ],
      "execution_count": 11,
      "outputs": [
        {
          "output_type": "stream",
          "text": [
            "/usr/local/lib/python3.6/dist-packages/ipykernel_launcher.py:3: SettingWithCopyWarning: \n",
            "A value is trying to be set on a copy of a slice from a DataFrame.\n",
            "Try using .loc[row_indexer,col_indexer] = value instead\n",
            "\n",
            "See the caveats in the documentation: https://pandas.pydata.org/pandas-docs/stable/user_guide/indexing.html#returning-a-view-versus-a-copy\n",
            "  This is separate from the ipykernel package so we can avoid doing imports until\n",
            "/usr/local/lib/python3.6/dist-packages/ipykernel_launcher.py:4: SettingWithCopyWarning: \n",
            "A value is trying to be set on a copy of a slice from a DataFrame.\n",
            "Try using .loc[row_indexer,col_indexer] = value instead\n",
            "\n",
            "See the caveats in the documentation: https://pandas.pydata.org/pandas-docs/stable/user_guide/indexing.html#returning-a-view-versus-a-copy\n",
            "  after removing the cwd from sys.path.\n"
          ],
          "name": "stderr"
        }
      ]
    },
    {
      "cell_type": "code",
      "metadata": {
        "id": "HX1rTtwhkXXR",
        "colab_type": "code",
        "colab": {}
      },
      "source": [
        "# X_train, X_val, y_train, y_val = train_test_split(df_not04.drop('AMT',axis=1),\n",
        "#                                                   np.log1p(df_not04['AMT']), test_size=0.3, random_state=42)"
      ],
      "execution_count": 12,
      "outputs": []
    },
    {
      "cell_type": "code",
      "metadata": {
        "id": "b_GlEZlmRC0J",
        "colab_type": "code",
        "colab": {
          "base_uri": "https://localhost:8080/",
          "height": 34
        },
        "outputId": "b1634d97-7756-4fb0-88fb-96efabe9356b"
      },
      "source": [
        "del train_df\n",
        "gc.collect()"
      ],
      "execution_count": 13,
      "outputs": [
        {
          "output_type": "execute_result",
          "data": {
            "text/plain": [
              "167"
            ]
          },
          "metadata": {
            "tags": []
          },
          "execution_count": 13
        }
      ]
    },
    {
      "cell_type": "markdown",
      "metadata": {
        "id": "7SSlKrPRhqq8",
        "colab_type": "text"
      },
      "source": [
        "catboost 파라미터: bagging_temperature ,\n",
        "              depth , \n",
        "                  learning_rate ,\n",
        "                  min_data_in_leaf , \n",
        "                  max_leaves , \n",
        "                  l2_leaf_reg , \n",
        "                  border_count"
      ]
    },
    {
      "cell_type": "code",
      "metadata": {
        "id": "cN7qM3xbf-I2",
        "colab_type": "code",
        "colab": {
          "base_uri": "https://localhost:8080/",
          "height": 371
        },
        "outputId": "0a2838f9-4a22-4079-992c-d3a7e818879c"
      },
      "source": [
        "cat_features = list(df_not04.drop('AMT',axis=1).columns)\n",
        "\n",
        "model = CatBoostRegressor(loss_function=\"RMSE\",\n",
        "                           eval_metric=\"RMSE\",\n",
        "                           task_type=\"GPU\",\n",
        "                           learning_rate=0.01,\n",
        "                           iterations=150,\n",
        "                           boosting_type='Plain', # 메모리 과부하 방지\n",
        "                           #max_ctr_complexity=2,\n",
        "                           gpu_cat_features_storage = 'CpuPinnedMemory',\n",
        "                           early_stopping_rounds=10)\n",
        "\n",
        "\n",
        "\n",
        "model.fit(df_not04.drop('AMT',axis=1), np.log1p(df_not04['AMT']),\n",
        "          cat_features=cat_features,\n",
        "          eval_set=(df_202004.drop('AMT',axis=1),np.log1p(df_202004['AMT'])),\n",
        "          use_best_model=True,\n",
        "          verbose = 10)"
      ],
      "execution_count": 14,
      "outputs": [
        {
          "output_type": "stream",
          "text": [
            "0:\tlearn: 1.7119729\ttest: 1.7184083\tbest: 1.7184083 (0)\ttotal: 120ms\tremaining: 17.9s\n",
            "10:\tlearn: 1.6937132\ttest: 1.7016691\tbest: 1.7016691 (10)\ttotal: 1.09s\tremaining: 13.8s\n",
            "20:\tlearn: 1.6780857\ttest: 1.6873354\tbest: 1.6873354 (20)\ttotal: 2.07s\tremaining: 12.7s\n",
            "30:\tlearn: 1.6615658\ttest: 1.6731294\tbest: 1.6731294 (30)\ttotal: 3.01s\tremaining: 11.6s\n",
            "40:\tlearn: 1.6453949\ttest: 1.6584440\tbest: 1.6584440 (40)\ttotal: 3.95s\tremaining: 10.5s\n",
            "50:\tlearn: 1.6315535\ttest: 1.6459561\tbest: 1.6459561 (50)\ttotal: 4.9s\tremaining: 9.52s\n",
            "60:\tlearn: 1.6197798\ttest: 1.6353864\tbest: 1.6353864 (60)\ttotal: 5.84s\tremaining: 8.52s\n",
            "70:\tlearn: 1.6095644\ttest: 1.6263427\tbest: 1.6263427 (70)\ttotal: 6.8s\tremaining: 7.56s\n",
            "80:\tlearn: 1.5991161\ttest: 1.6169170\tbest: 1.6169170 (80)\ttotal: 7.77s\tremaining: 6.62s\n",
            "90:\tlearn: 1.5887245\ttest: 1.6074283\tbest: 1.6074283 (90)\ttotal: 8.76s\tremaining: 5.68s\n",
            "100:\tlearn: 1.5808515\ttest: 1.6004101\tbest: 1.6004101 (100)\ttotal: 9.72s\tremaining: 4.72s\n",
            "110:\tlearn: 1.5733570\ttest: 1.5936921\tbest: 1.5936921 (110)\ttotal: 10.7s\tremaining: 3.75s\n",
            "120:\tlearn: 1.5662023\ttest: 1.5872648\tbest: 1.5872648 (120)\ttotal: 11.7s\tremaining: 2.8s\n",
            "130:\tlearn: 1.5611386\ttest: 1.5828833\tbest: 1.5828833 (130)\ttotal: 12.6s\tremaining: 1.83s\n",
            "140:\tlearn: 1.5560232\ttest: 1.5783648\tbest: 1.5783648 (140)\ttotal: 13.6s\tremaining: 867ms\n",
            "149:\tlearn: 1.5521692\ttest: 1.5750169\tbest: 1.5750169 (149)\ttotal: 14.4s\tremaining: 0us\n",
            "bestTest = 1.575016865\n",
            "bestIteration = 149\n"
          ],
          "name": "stdout"
        },
        {
          "output_type": "execute_result",
          "data": {
            "text/plain": [
              "<catboost.core.CatBoostRegressor at 0x7fe49eae7940>"
            ]
          },
          "metadata": {
            "tags": []
          },
          "execution_count": 14
        }
      ]
    },
    {
      "cell_type": "code",
      "metadata": {
        "id": "LIx3si9ZZjsM",
        "colab_type": "code",
        "colab": {
          "base_uri": "https://localhost:8080/",
          "height": 1000
        },
        "outputId": "12c57116-296f-49a0-faa5-03748fe45a9b"
      },
      "source": [
        "model.get_feature_importance(prettified=True)"
      ],
      "execution_count": 15,
      "outputs": [
        {
          "output_type": "execute_result",
          "data": {
            "text/html": [
              "<div>\n",
              "<style scoped>\n",
              "    .dataframe tbody tr th:only-of-type {\n",
              "        vertical-align: middle;\n",
              "    }\n",
              "\n",
              "    .dataframe tbody tr th {\n",
              "        vertical-align: top;\n",
              "    }\n",
              "\n",
              "    .dataframe thead th {\n",
              "        text-align: right;\n",
              "    }\n",
              "</style>\n",
              "<table border=\"1\" class=\"dataframe\">\n",
              "  <thead>\n",
              "    <tr style=\"text-align: right;\">\n",
              "      <th></th>\n",
              "      <th>Feature Id</th>\n",
              "      <th>Importances</th>\n",
              "    </tr>\n",
              "  </thead>\n",
              "  <tbody>\n",
              "    <tr>\n",
              "      <th>0</th>\n",
              "      <td>STD_CLSS_NM</td>\n",
              "      <td>24.731392</td>\n",
              "    </tr>\n",
              "    <tr>\n",
              "      <th>1</th>\n",
              "      <td>SIDO_CCG_STD_2020</td>\n",
              "      <td>21.859502</td>\n",
              "    </tr>\n",
              "    <tr>\n",
              "      <th>2</th>\n",
              "      <td>HOM_SIDO_NM</td>\n",
              "      <td>7.607103</td>\n",
              "    </tr>\n",
              "    <tr>\n",
              "      <th>3</th>\n",
              "      <td>CARD_SIDO_NM</td>\n",
              "      <td>7.488098</td>\n",
              "    </tr>\n",
              "    <tr>\n",
              "      <th>4</th>\n",
              "      <td>HOM_CCG_NM</td>\n",
              "      <td>6.586115</td>\n",
              "    </tr>\n",
              "    <tr>\n",
              "      <th>5</th>\n",
              "      <td>CARD_CCG_NM</td>\n",
              "      <td>4.968020</td>\n",
              "    </tr>\n",
              "    <tr>\n",
              "      <th>6</th>\n",
              "      <td>SIDO_CCG_ASF_2_2020</td>\n",
              "      <td>4.264329</td>\n",
              "    </tr>\n",
              "    <tr>\n",
              "      <th>7</th>\n",
              "      <td>SIDO_CCG_ASF_2_total</td>\n",
              "      <td>3.556321</td>\n",
              "    </tr>\n",
              "    <tr>\n",
              "      <th>8</th>\n",
              "      <td>SIDO_CCG_STD_total</td>\n",
              "      <td>3.262123</td>\n",
              "    </tr>\n",
              "    <tr>\n",
              "      <th>9</th>\n",
              "      <td>SIDO_CCG_STD_2019</td>\n",
              "      <td>2.957866</td>\n",
              "    </tr>\n",
              "    <tr>\n",
              "      <th>10</th>\n",
              "      <td>SIDO_CCG_ASF_2_2019</td>\n",
              "      <td>2.747617</td>\n",
              "    </tr>\n",
              "    <tr>\n",
              "      <th>11</th>\n",
              "      <td>SIDO_ASF_2_2019</td>\n",
              "      <td>1.748516</td>\n",
              "    </tr>\n",
              "    <tr>\n",
              "      <th>12</th>\n",
              "      <td>SIDO_STD_2020</td>\n",
              "      <td>1.581889</td>\n",
              "    </tr>\n",
              "    <tr>\n",
              "      <th>13</th>\n",
              "      <td>SIDO_CCG_ASF_2019</td>\n",
              "      <td>1.502676</td>\n",
              "    </tr>\n",
              "    <tr>\n",
              "      <th>14</th>\n",
              "      <td>SIDO_ASF_2019</td>\n",
              "      <td>0.848775</td>\n",
              "    </tr>\n",
              "    <tr>\n",
              "      <th>15</th>\n",
              "      <td>SIDO_CCG_ASF_total</td>\n",
              "      <td>0.685186</td>\n",
              "    </tr>\n",
              "    <tr>\n",
              "      <th>16</th>\n",
              "      <td>SIDO_STD_2019</td>\n",
              "      <td>0.470312</td>\n",
              "    </tr>\n",
              "    <tr>\n",
              "      <th>17</th>\n",
              "      <td>SIDO_STD_total</td>\n",
              "      <td>0.446123</td>\n",
              "    </tr>\n",
              "    <tr>\n",
              "      <th>18</th>\n",
              "      <td>STD_2020</td>\n",
              "      <td>0.440175</td>\n",
              "    </tr>\n",
              "    <tr>\n",
              "      <th>19</th>\n",
              "      <td>SIDO_ASF_total</td>\n",
              "      <td>0.403387</td>\n",
              "    </tr>\n",
              "    <tr>\n",
              "      <th>20</th>\n",
              "      <td>SIDO_ASF_2_2020</td>\n",
              "      <td>0.334940</td>\n",
              "    </tr>\n",
              "    <tr>\n",
              "      <th>21</th>\n",
              "      <td>STD_2019</td>\n",
              "      <td>0.274334</td>\n",
              "    </tr>\n",
              "    <tr>\n",
              "      <th>22</th>\n",
              "      <td>SIDO_ASF_2_total</td>\n",
              "      <td>0.245079</td>\n",
              "    </tr>\n",
              "    <tr>\n",
              "      <th>23</th>\n",
              "      <td>SIDO_ASF_2020</td>\n",
              "      <td>0.210138</td>\n",
              "    </tr>\n",
              "    <tr>\n",
              "      <th>24</th>\n",
              "      <td>STD_total</td>\n",
              "      <td>0.186012</td>\n",
              "    </tr>\n",
              "    <tr>\n",
              "      <th>25</th>\n",
              "      <td>AGE</td>\n",
              "      <td>0.174879</td>\n",
              "    </tr>\n",
              "    <tr>\n",
              "      <th>26</th>\n",
              "      <td>ASF_2019</td>\n",
              "      <td>0.135584</td>\n",
              "    </tr>\n",
              "    <tr>\n",
              "      <th>27</th>\n",
              "      <td>SIDO_CCG_ASF_2020</td>\n",
              "      <td>0.110288</td>\n",
              "    </tr>\n",
              "    <tr>\n",
              "      <th>28</th>\n",
              "      <td>ASF_total</td>\n",
              "      <td>0.073227</td>\n",
              "    </tr>\n",
              "    <tr>\n",
              "      <th>29</th>\n",
              "      <td>FLC</td>\n",
              "      <td>0.069206</td>\n",
              "    </tr>\n",
              "    <tr>\n",
              "      <th>30</th>\n",
              "      <td>ASF_2020</td>\n",
              "      <td>0.021100</td>\n",
              "    </tr>\n",
              "    <tr>\n",
              "      <th>31</th>\n",
              "      <td>REG_YYMM</td>\n",
              "      <td>0.009692</td>\n",
              "    </tr>\n",
              "    <tr>\n",
              "      <th>32</th>\n",
              "      <td>SEX_CTGO_CD</td>\n",
              "      <td>0.000000</td>\n",
              "    </tr>\n",
              "  </tbody>\n",
              "</table>\n",
              "</div>"
            ],
            "text/plain": [
              "              Feature Id  Importances\n",
              "0            STD_CLSS_NM    24.731392\n",
              "1      SIDO_CCG_STD_2020    21.859502\n",
              "2            HOM_SIDO_NM     7.607103\n",
              "3           CARD_SIDO_NM     7.488098\n",
              "4             HOM_CCG_NM     6.586115\n",
              "5            CARD_CCG_NM     4.968020\n",
              "6    SIDO_CCG_ASF_2_2020     4.264329\n",
              "7   SIDO_CCG_ASF_2_total     3.556321\n",
              "8     SIDO_CCG_STD_total     3.262123\n",
              "9      SIDO_CCG_STD_2019     2.957866\n",
              "10   SIDO_CCG_ASF_2_2019     2.747617\n",
              "11       SIDO_ASF_2_2019     1.748516\n",
              "12         SIDO_STD_2020     1.581889\n",
              "13     SIDO_CCG_ASF_2019     1.502676\n",
              "14         SIDO_ASF_2019     0.848775\n",
              "15    SIDO_CCG_ASF_total     0.685186\n",
              "16         SIDO_STD_2019     0.470312\n",
              "17        SIDO_STD_total     0.446123\n",
              "18              STD_2020     0.440175\n",
              "19        SIDO_ASF_total     0.403387\n",
              "20       SIDO_ASF_2_2020     0.334940\n",
              "21              STD_2019     0.274334\n",
              "22      SIDO_ASF_2_total     0.245079\n",
              "23         SIDO_ASF_2020     0.210138\n",
              "24             STD_total     0.186012\n",
              "25                   AGE     0.174879\n",
              "26              ASF_2019     0.135584\n",
              "27     SIDO_CCG_ASF_2020     0.110288\n",
              "28             ASF_total     0.073227\n",
              "29                   FLC     0.069206\n",
              "30              ASF_2020     0.021100\n",
              "31              REG_YYMM     0.009692\n",
              "32           SEX_CTGO_CD     0.000000"
            ]
          },
          "metadata": {
            "tags": []
          },
          "execution_count": 15
        }
      ]
    }
  ]
}