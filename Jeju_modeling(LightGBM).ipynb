{
  "nbformat": 4,
  "nbformat_minor": 0,
  "metadata": {
    "colab": {
      "name": "Jeju_modeling(LightGBM).ipynb",
      "provenance": [],
      "collapsed_sections": [],
      "machine_shape": "hm"
    },
    "kernelspec": {
      "name": "python3",
      "display_name": "Python 3"
    }
  },
  "cells": [
    {
      "cell_type": "code",
      "metadata": {
        "id": "JetCxxC3bMsS",
        "colab_type": "code",
        "colab": {
          "base_uri": "https://localhost:8080/",
          "height": 285
        },
        "outputId": "28c4a515-c55f-4084-e951-f2d241e58537"
      },
      "source": [
        "import numpy as np\n",
        "import pandas as pd\n",
        "import matplotlib as mpl\n",
        "import matplotlib.pyplot as plt\n",
        "import seaborn as sns\n",
        "from sklearn.preprocessing import LabelEncoder\n",
        "\n",
        "!pip install bayesian-optimization\n",
        "\n",
        "from sklearn.model_selection import KFold,StratifiedKFold   # K-fold CV \n",
        "from bayes_opt import BayesianOptimization  # 베이지안 최적화 라이브러리\n",
        "from functools import partial               # 함수 변수 고정\n",
        "import lightgbm as lgb                      # LightGBM 라이브러리\n",
        "from sklearn.metrics import mean_squared_error\n",
        "from sklearn.metrics import mean_squared_log_error\n",
        "\n",
        "import warnings\n",
        "warnings.filterwarnings(action = 'ignore')"
      ],
      "execution_count": 1,
      "outputs": [
        {
          "output_type": "stream",
          "text": [
            "/usr/local/lib/python3.6/dist-packages/statsmodels/tools/_testing.py:19: FutureWarning: pandas.util.testing is deprecated. Use the functions in the public API at pandas.testing instead.\n",
            "  import pandas.util.testing as tm\n"
          ],
          "name": "stderr"
        },
        {
          "output_type": "stream",
          "text": [
            "Collecting bayesian-optimization\n",
            "  Downloading https://files.pythonhosted.org/packages/bb/7a/fd8059a3881d3ab37ac8f72f56b73937a14e8bb14a9733e68cc8b17dbe3c/bayesian-optimization-1.2.0.tar.gz\n",
            "Requirement already satisfied: numpy>=1.9.0 in /usr/local/lib/python3.6/dist-packages (from bayesian-optimization) (1.18.5)\n",
            "Requirement already satisfied: scipy>=0.14.0 in /usr/local/lib/python3.6/dist-packages (from bayesian-optimization) (1.4.1)\n",
            "Requirement already satisfied: scikit-learn>=0.18.0 in /usr/local/lib/python3.6/dist-packages (from bayesian-optimization) (0.22.2.post1)\n",
            "Requirement already satisfied: joblib>=0.11 in /usr/local/lib/python3.6/dist-packages (from scikit-learn>=0.18.0->bayesian-optimization) (0.15.1)\n",
            "Building wheels for collected packages: bayesian-optimization\n",
            "  Building wheel for bayesian-optimization (setup.py) ... \u001b[?25l\u001b[?25hdone\n",
            "  Created wheel for bayesian-optimization: filename=bayesian_optimization-1.2.0-cp36-none-any.whl size=11685 sha256=f9b45a5710470d61d477dd518a807aca1b6e907e720b4e1c7bca7588280efd98\n",
            "  Stored in directory: /root/.cache/pip/wheels/5a/56/ae/e0e3c1fc1954dc3ec712e2df547235ed072b448094d8f94aec\n",
            "Successfully built bayesian-optimization\n",
            "Installing collected packages: bayesian-optimization\n",
            "Successfully installed bayesian-optimization-1.2.0\n"
          ],
          "name": "stdout"
        }
      ]
    },
    {
      "cell_type": "code",
      "metadata": {
        "id": "nuIYmSSDbFx_",
        "colab_type": "code",
        "colab": {}
      },
      "source": [
        "data=pd.read_csv('/content/drive/My Drive/Colab Notebooks/data/데이콘/제주/201901-202003.csv')\n",
        "sub = pd.read_csv('/content/drive/My Drive/Colab Notebooks/data/데이콘/제주/submission.csv')"
      ],
      "execution_count": 2,
      "outputs": []
    },
    {
      "cell_type": "markdown",
      "metadata": {
        "id": "SsqmsdsvbAzN",
        "colab_type": "text"
      },
      "source": [
        "# Base Line 1\n",
        "- Dacon Base Line + LightGBM 활용"
      ]
    },
    {
      "cell_type": "code",
      "metadata": {
        "id": "7dVwUHmxRkr5",
        "colab_type": "code",
        "colab": {}
      },
      "source": [
        "def grap_year(data):\n",
        "    data = str(data)\n",
        "    return int(data[:4])\n",
        "\n",
        "def grap_month(data):\n",
        "    data = str(data)\n",
        "    return int(data[4:])"
      ],
      "execution_count": null,
      "outputs": []
    },
    {
      "cell_type": "code",
      "metadata": {
        "id": "y3evMjQqbKfQ",
        "colab_type": "code",
        "colab": {}
      },
      "source": [
        "# 날짜 처리\n",
        "data = data.fillna('')\n",
        "data['year'] = data['REG_YYMM'].apply(lambda x: grap_year(x))\n",
        "data['month'] = data['REG_YYMM'].apply(lambda x: grap_month(x))\n",
        "data = data.drop(['REG_YYMM'], axis=1)"
      ],
      "execution_count": null,
      "outputs": []
    },
    {
      "cell_type": "code",
      "metadata": {
        "id": "TgwnohYsPdZ7",
        "colab_type": "code",
        "colab": {}
      },
      "source": [
        "# 데이터 정제\n",
        "df = data.copy()\n",
        "df = df.drop(['CARD_CCG_NM', 'HOM_CCG_NM'], axis=1)\n",
        "\n",
        "columns = ['CARD_SIDO_NM', 'STD_CLSS_NM', 'HOM_SIDO_NM', 'AGE', 'SEX_CTGO_CD', 'FLC', 'year', 'month']\n",
        "df = df.groupby(columns).sum().reset_index(drop=False)"
      ],
      "execution_count": null,
      "outputs": []
    },
    {
      "cell_type": "code",
      "metadata": {
        "id": "Yf84QGCEPI6I",
        "colab_type": "code",
        "colab": {}
      },
      "source": [
        "df"
      ],
      "execution_count": null,
      "outputs": []
    },
    {
      "cell_type": "code",
      "metadata": {
        "id": "Q8-zLP4ITFls",
        "colab_type": "code",
        "colab": {}
      },
      "source": [
        "# 인코딩\n",
        "dtypes = df.dtypes\n",
        "encoders = {}\n",
        "for column in df.columns:\n",
        "    if str(dtypes[column]) == 'object':\n",
        "        encoder = LabelEncoder()\n",
        "        encoder.fit(df[column])\n",
        "        encoders[column] = encoder\n",
        "        \n",
        "df_num = df.copy()        \n",
        "for column in encoders.keys():\n",
        "    encoder = encoders[column]\n",
        "    df_num[column] = encoder.transform(df[column])"
      ],
      "execution_count": null,
      "outputs": []
    },
    {
      "cell_type": "code",
      "metadata": {
        "id": "Zkji42v9TGJm",
        "colab_type": "code",
        "colab": {
          "base_uri": "https://localhost:8080/",
          "height": 419
        },
        "outputId": "337098ac-169c-4a76-8439-f441ec75783e"
      },
      "source": [
        "df_num"
      ],
      "execution_count": null,
      "outputs": [
        {
          "output_type": "execute_result",
          "data": {
            "text/html": [
              "<div>\n",
              "<style scoped>\n",
              "    .dataframe tbody tr th:only-of-type {\n",
              "        vertical-align: middle;\n",
              "    }\n",
              "\n",
              "    .dataframe tbody tr th {\n",
              "        vertical-align: top;\n",
              "    }\n",
              "\n",
              "    .dataframe thead th {\n",
              "        text-align: right;\n",
              "    }\n",
              "</style>\n",
              "<table border=\"1\" class=\"dataframe\">\n",
              "  <thead>\n",
              "    <tr style=\"text-align: right;\">\n",
              "      <th></th>\n",
              "      <th>CARD_SIDO_NM</th>\n",
              "      <th>STD_CLSS_NM</th>\n",
              "      <th>HOM_SIDO_NM</th>\n",
              "      <th>AGE</th>\n",
              "      <th>SEX_CTGO_CD</th>\n",
              "      <th>FLC</th>\n",
              "      <th>year</th>\n",
              "      <th>month</th>\n",
              "      <th>CSTMR_CNT</th>\n",
              "      <th>AMT</th>\n",
              "      <th>CNT</th>\n",
              "    </tr>\n",
              "  </thead>\n",
              "  <tbody>\n",
              "    <tr>\n",
              "      <th>0</th>\n",
              "      <td>0</td>\n",
              "      <td>0</td>\n",
              "      <td>0</td>\n",
              "      <td>1</td>\n",
              "      <td>1</td>\n",
              "      <td>1</td>\n",
              "      <td>2019</td>\n",
              "      <td>1</td>\n",
              "      <td>4</td>\n",
              "      <td>311200</td>\n",
              "      <td>4</td>\n",
              "    </tr>\n",
              "    <tr>\n",
              "      <th>1</th>\n",
              "      <td>0</td>\n",
              "      <td>0</td>\n",
              "      <td>0</td>\n",
              "      <td>1</td>\n",
              "      <td>1</td>\n",
              "      <td>1</td>\n",
              "      <td>2019</td>\n",
              "      <td>2</td>\n",
              "      <td>3</td>\n",
              "      <td>605000</td>\n",
              "      <td>3</td>\n",
              "    </tr>\n",
              "    <tr>\n",
              "      <th>2</th>\n",
              "      <td>0</td>\n",
              "      <td>0</td>\n",
              "      <td>0</td>\n",
              "      <td>1</td>\n",
              "      <td>1</td>\n",
              "      <td>1</td>\n",
              "      <td>2019</td>\n",
              "      <td>6</td>\n",
              "      <td>3</td>\n",
              "      <td>139000</td>\n",
              "      <td>3</td>\n",
              "    </tr>\n",
              "    <tr>\n",
              "      <th>3</th>\n",
              "      <td>0</td>\n",
              "      <td>0</td>\n",
              "      <td>0</td>\n",
              "      <td>1</td>\n",
              "      <td>1</td>\n",
              "      <td>1</td>\n",
              "      <td>2019</td>\n",
              "      <td>8</td>\n",
              "      <td>3</td>\n",
              "      <td>27500</td>\n",
              "      <td>3</td>\n",
              "    </tr>\n",
              "    <tr>\n",
              "      <th>4</th>\n",
              "      <td>0</td>\n",
              "      <td>0</td>\n",
              "      <td>0</td>\n",
              "      <td>1</td>\n",
              "      <td>1</td>\n",
              "      <td>1</td>\n",
              "      <td>2019</td>\n",
              "      <td>9</td>\n",
              "      <td>3</td>\n",
              "      <td>395500</td>\n",
              "      <td>3</td>\n",
              "    </tr>\n",
              "    <tr>\n",
              "      <th>...</th>\n",
              "      <td>...</td>\n",
              "      <td>...</td>\n",
              "      <td>...</td>\n",
              "      <td>...</td>\n",
              "      <td>...</td>\n",
              "      <td>...</td>\n",
              "      <td>...</td>\n",
              "      <td>...</td>\n",
              "      <td>...</td>\n",
              "      <td>...</td>\n",
              "      <td>...</td>\n",
              "    </tr>\n",
              "    <tr>\n",
              "      <th>1057389</th>\n",
              "      <td>16</td>\n",
              "      <td>40</td>\n",
              "      <td>16</td>\n",
              "      <td>6</td>\n",
              "      <td>2</td>\n",
              "      <td>5</td>\n",
              "      <td>2019</td>\n",
              "      <td>3</td>\n",
              "      <td>3</td>\n",
              "      <td>148000</td>\n",
              "      <td>4</td>\n",
              "    </tr>\n",
              "    <tr>\n",
              "      <th>1057390</th>\n",
              "      <td>16</td>\n",
              "      <td>40</td>\n",
              "      <td>16</td>\n",
              "      <td>6</td>\n",
              "      <td>2</td>\n",
              "      <td>5</td>\n",
              "      <td>2019</td>\n",
              "      <td>5</td>\n",
              "      <td>5</td>\n",
              "      <td>329800</td>\n",
              "      <td>7</td>\n",
              "    </tr>\n",
              "    <tr>\n",
              "      <th>1057391</th>\n",
              "      <td>16</td>\n",
              "      <td>40</td>\n",
              "      <td>16</td>\n",
              "      <td>6</td>\n",
              "      <td>2</td>\n",
              "      <td>5</td>\n",
              "      <td>2019</td>\n",
              "      <td>10</td>\n",
              "      <td>7</td>\n",
              "      <td>557800</td>\n",
              "      <td>7</td>\n",
              "    </tr>\n",
              "    <tr>\n",
              "      <th>1057392</th>\n",
              "      <td>16</td>\n",
              "      <td>40</td>\n",
              "      <td>16</td>\n",
              "      <td>6</td>\n",
              "      <td>2</td>\n",
              "      <td>5</td>\n",
              "      <td>2019</td>\n",
              "      <td>12</td>\n",
              "      <td>3</td>\n",
              "      <td>247800</td>\n",
              "      <td>3</td>\n",
              "    </tr>\n",
              "    <tr>\n",
              "      <th>1057393</th>\n",
              "      <td>16</td>\n",
              "      <td>40</td>\n",
              "      <td>16</td>\n",
              "      <td>6</td>\n",
              "      <td>2</td>\n",
              "      <td>5</td>\n",
              "      <td>2020</td>\n",
              "      <td>1</td>\n",
              "      <td>3</td>\n",
              "      <td>230400</td>\n",
              "      <td>3</td>\n",
              "    </tr>\n",
              "  </tbody>\n",
              "</table>\n",
              "<p>1057394 rows × 11 columns</p>\n",
              "</div>"
            ],
            "text/plain": [
              "         CARD_SIDO_NM  STD_CLSS_NM  HOM_SIDO_NM  ...  CSTMR_CNT     AMT  CNT\n",
              "0                   0            0            0  ...          4  311200    4\n",
              "1                   0            0            0  ...          3  605000    3\n",
              "2                   0            0            0  ...          3  139000    3\n",
              "3                   0            0            0  ...          3   27500    3\n",
              "4                   0            0            0  ...          3  395500    3\n",
              "...               ...          ...          ...  ...        ...     ...  ...\n",
              "1057389            16           40           16  ...          3  148000    4\n",
              "1057390            16           40           16  ...          5  329800    7\n",
              "1057391            16           40           16  ...          7  557800    7\n",
              "1057392            16           40           16  ...          3  247800    3\n",
              "1057393            16           40           16  ...          3  230400    3\n",
              "\n",
              "[1057394 rows x 11 columns]"
            ]
          },
          "metadata": {
            "tags": []
          },
          "execution_count": 8
        }
      ]
    },
    {
      "cell_type": "code",
      "metadata": {
        "id": "Sa35KrlJUvu8",
        "colab_type": "code",
        "colab": {}
      },
      "source": [
        "# feature, target 설정\n",
        "train_num = df_num.sample(frac=1, random_state=0)\n",
        "train_features = train_num.drop(['CSTMR_CNT', 'AMT', 'CNT'], axis=1)\n",
        "train_target = np.log1p(train_num['AMT'])"
      ],
      "execution_count": null,
      "outputs": []
    },
    {
      "cell_type": "code",
      "metadata": {
        "id": "zbG-rUlfVpFG",
        "colab_type": "code",
        "colab": {}
      },
      "source": [
        "def lgb_cv(num_leaves, learning_rate, n_estimators, subsample, colsample_bytree, reg_alpha,reg_lambda, x_data=None, y_data=None, n_splits=5, output='model'):\n",
        "    score = 0\n",
        "    skf = StratifiedKFold(n_splits=n_splits, shuffle=True, random_state=201)\n",
        "    models = []\n",
        "    for train_index, valid_index in skf.split(x_data,x_data['month']):\n",
        "       #print(train_index)\n",
        "       x_train, y_train = x_data.iloc[train_index], y_data.iloc[train_index]\n",
        "       x_valid, y_valid = x_data.iloc[valid_index], y_data.iloc[valid_index]\n",
        "        \n",
        "       model = lgb.LGBMRegressor(\n",
        "               \n",
        "           num_leaves = int(num_leaves), \n",
        "           learning_rate = learning_rate, \n",
        "           n_estimators = int(n_estimators), \n",
        "           subsample = np.clip(subsample, 0, 1), \n",
        "           colsample_bytree = np.clip(colsample_bytree, 0, 1), \n",
        "           reg_alpha = reg_alpha, \n",
        "           reg_lambda = reg_lambda,\n",
        "           )\n",
        "       \n",
        "       model.fit(x_train, y_train)\n",
        "       models.append(model)\n",
        "        \n",
        "       pred = model.predict(x_valid)\n",
        "       true = y_valid\n",
        "       RMSE = (mean_squared_error(true, pred)**0.5)*(-1)\n",
        "       score += RMSE/n_splits\n",
        "    \n",
        "    if output == 'score':\n",
        "        return score\n",
        "    if output == 'model':\n",
        "        return models"
      ],
      "execution_count": null,
      "outputs": []
    },
    {
      "cell_type": "code",
      "metadata": {
        "id": "D7ikoJDMWtBu",
        "colab_type": "code",
        "colab": {
          "base_uri": "https://localhost:8080/",
          "height": 431
        },
        "outputId": "4000cfe3-31f9-481f-da83-0d822fc9b78d"
      },
      "source": [
        "func_fixed = partial(lgb_cv, x_data=train_features, y_data=train_target, n_splits=5, output='score') \n",
        "\n",
        "lgbBO = BayesianOptimization(\n",
        "    func_fixed, \n",
        "    {\n",
        "        'num_leaves': (4, 16),\n",
        "        'learning_rate': (0.0001, 0.1),\n",
        "        'n_estimators': (4, 16),\n",
        "        'subsample': (0.01, 1),\n",
        "        'colsample_bytree': (0.01, 1),\n",
        "        'reg_alpha': (0.01, 10), \n",
        "        'reg_lambda': (0.01, 50),\n",
        "    }, \n",
        "    random_state=4321\n",
        ")\n",
        "lgbBO.maximize(init_points=15, n_iter=5) #30"
      ],
      "execution_count": null,
      "outputs": [
        {
          "output_type": "stream",
          "text": [
            "|   iter    |  target   | colsam... | learni... | n_esti... | num_le... | reg_alpha | reg_la... | subsample |\n",
            "-------------------------------------------------------------------------------------------------------------\n",
            "| \u001b[0m 1       \u001b[0m | \u001b[0m-2.484   \u001b[0m | \u001b[0m 0.08009 \u001b[0m | \u001b[0m 0.08152 \u001b[0m | \u001b[0m 13.21   \u001b[0m | \u001b[0m 7.436   \u001b[0m | \u001b[0m 1.939   \u001b[0m | \u001b[0m 48.95   \u001b[0m | \u001b[0m 0.4122  \u001b[0m |\n",
            "| \u001b[0m 2       \u001b[0m | \u001b[0m-2.498   \u001b[0m | \u001b[0m 0.7602  \u001b[0m | \u001b[0m 0.009006\u001b[0m | \u001b[0m 7.719   \u001b[0m | \u001b[0m 11.43   \u001b[0m | \u001b[0m 4.605   \u001b[0m | \u001b[0m 10.92   \u001b[0m | \u001b[0m 0.6669  \u001b[0m |\n",
            "| \u001b[95m 3       \u001b[0m | \u001b[95m-2.421   \u001b[0m | \u001b[95m 0.6819  \u001b[0m | \u001b[95m 0.09504 \u001b[0m | \u001b[95m 7.375   \u001b[0m | \u001b[95m 11.44   \u001b[0m | \u001b[95m 3.839   \u001b[0m | \u001b[95m 20.02   \u001b[0m | \u001b[95m 0.9432  \u001b[0m |\n",
            "| \u001b[95m 4       \u001b[0m | \u001b[95m-2.416   \u001b[0m | \u001b[95m 0.9306  \u001b[0m | \u001b[95m 0.09484 \u001b[0m | \u001b[95m 8.506   \u001b[0m | \u001b[95m 8.108   \u001b[0m | \u001b[95m 6.651   \u001b[0m | \u001b[95m 2.126   \u001b[0m | \u001b[95m 0.2399  \u001b[0m |\n",
            "| \u001b[0m 5       \u001b[0m | \u001b[0m-2.499   \u001b[0m | \u001b[0m 0.4358  \u001b[0m | \u001b[0m 0.007886\u001b[0m | \u001b[0m 13.2    \u001b[0m | \u001b[0m 14.25   \u001b[0m | \u001b[0m 1.513   \u001b[0m | \u001b[0m 5.066   \u001b[0m | \u001b[0m 0.2782  \u001b[0m |\n",
            "| \u001b[0m 6       \u001b[0m | \u001b[0m-2.482   \u001b[0m | \u001b[0m 0.03986 \u001b[0m | \u001b[0m 0.0838  \u001b[0m | \u001b[0m 11.17   \u001b[0m | \u001b[0m 15.17   \u001b[0m | \u001b[0m 4.96    \u001b[0m | \u001b[0m 18.83   \u001b[0m | \u001b[0m 0.2513  \u001b[0m |\n",
            "| \u001b[0m 7       \u001b[0m | \u001b[0m-2.476   \u001b[0m | \u001b[0m 0.6058  \u001b[0m | \u001b[0m 0.03304 \u001b[0m | \u001b[0m 9.54    \u001b[0m | \u001b[0m 12.7    \u001b[0m | \u001b[0m 8.12    \u001b[0m | \u001b[0m 49.3    \u001b[0m | \u001b[0m 0.2347  \u001b[0m |\n",
            "| \u001b[0m 8       \u001b[0m | \u001b[0m-2.502   \u001b[0m | \u001b[0m 0.572   \u001b[0m | \u001b[0m 0.004085\u001b[0m | \u001b[0m 15.24   \u001b[0m | \u001b[0m 7.255   \u001b[0m | \u001b[0m 5.755   \u001b[0m | \u001b[0m 18.31   \u001b[0m | \u001b[0m 0.2704  \u001b[0m |\n",
            "| \u001b[0m 9       \u001b[0m | \u001b[0m-2.493   \u001b[0m | \u001b[0m 0.2029  \u001b[0m | \u001b[0m 0.0565  \u001b[0m | \u001b[0m 14.65   \u001b[0m | \u001b[0m 4.562   \u001b[0m | \u001b[0m 0.8645  \u001b[0m | \u001b[0m 4.158   \u001b[0m | \u001b[0m 0.2905  \u001b[0m |\n",
            "| \u001b[0m 10      \u001b[0m | \u001b[0m-2.501   \u001b[0m | \u001b[0m 0.3037  \u001b[0m | \u001b[0m 0.01919 \u001b[0m | \u001b[0m 8.97    \u001b[0m | \u001b[0m 10.19   \u001b[0m | \u001b[0m 6.887   \u001b[0m | \u001b[0m 1.17    \u001b[0m | \u001b[0m 0.9682  \u001b[0m |\n",
            "| \u001b[0m 11      \u001b[0m | \u001b[0m-2.427   \u001b[0m | \u001b[0m 0.6811  \u001b[0m | \u001b[0m 0.09395 \u001b[0m | \u001b[0m 12.3    \u001b[0m | \u001b[0m 6.084   \u001b[0m | \u001b[0m 2.287   \u001b[0m | \u001b[0m 47.85   \u001b[0m | \u001b[0m 0.5331  \u001b[0m |\n",
            "| \u001b[0m 12      \u001b[0m | \u001b[0m-2.464   \u001b[0m | \u001b[0m 0.5605  \u001b[0m | \u001b[0m 0.0934  \u001b[0m | \u001b[0m 6.84    \u001b[0m | \u001b[0m 7.438   \u001b[0m | \u001b[0m 7.742   \u001b[0m | \u001b[0m 4.996   \u001b[0m | \u001b[0m 0.1828  \u001b[0m |\n",
            "| \u001b[0m 13      \u001b[0m | \u001b[0m-2.501   \u001b[0m | \u001b[0m 0.4945  \u001b[0m | \u001b[0m 0.01589 \u001b[0m | \u001b[0m 7.838   \u001b[0m | \u001b[0m 11.93   \u001b[0m | \u001b[0m 3.486   \u001b[0m | \u001b[0m 21.75   \u001b[0m | \u001b[0m 0.57    \u001b[0m |\n",
            "| \u001b[0m 14      \u001b[0m | \u001b[0m-2.502   \u001b[0m | \u001b[0m 0.7773  \u001b[0m | \u001b[0m 0.006819\u001b[0m | \u001b[0m 5.944   \u001b[0m | \u001b[0m 12.87   \u001b[0m | \u001b[0m 3.126   \u001b[0m | \u001b[0m 2.518   \u001b[0m | \u001b[0m 0.6933  \u001b[0m |\n",
            "| \u001b[0m 15      \u001b[0m | \u001b[0m-2.457   \u001b[0m | \u001b[0m 0.7911  \u001b[0m | \u001b[0m 0.05806 \u001b[0m | \u001b[0m 7.093   \u001b[0m | \u001b[0m 7.686   \u001b[0m | \u001b[0m 4.392   \u001b[0m | \u001b[0m 25.98   \u001b[0m | \u001b[0m 0.6847  \u001b[0m |\n",
            "| \u001b[0m 16      \u001b[0m | \u001b[0m-2.507   \u001b[0m | \u001b[0m 0.01    \u001b[0m | \u001b[0m 0.1     \u001b[0m | \u001b[0m 4.0     \u001b[0m | \u001b[0m 4.0     \u001b[0m | \u001b[0m 10.0    \u001b[0m | \u001b[0m 50.0    \u001b[0m | \u001b[0m 1.0     \u001b[0m |\n",
            "| \u001b[0m 17      \u001b[0m | \u001b[0m-2.428   \u001b[0m | \u001b[0m 1.0     \u001b[0m | \u001b[0m 0.1     \u001b[0m | \u001b[0m 16.0    \u001b[0m | \u001b[0m 4.0     \u001b[0m | \u001b[0m 10.0    \u001b[0m | \u001b[0m 41.29   \u001b[0m | \u001b[0m 1.0     \u001b[0m |\n",
            "| \u001b[0m 18      \u001b[0m | \u001b[0m-2.475   \u001b[0m | \u001b[0m 1.0     \u001b[0m | \u001b[0m 0.1     \u001b[0m | \u001b[0m 4.0     \u001b[0m | \u001b[0m 4.0     \u001b[0m | \u001b[0m 0.01    \u001b[0m | \u001b[0m 0.01    \u001b[0m | \u001b[0m 1.0     \u001b[0m |\n",
            "| \u001b[0m 19      \u001b[0m | \u001b[0m-2.426   \u001b[0m | \u001b[0m 1.0     \u001b[0m | \u001b[0m 0.1     \u001b[0m | \u001b[0m 4.0     \u001b[0m | \u001b[0m 16.0    \u001b[0m | \u001b[0m 10.0    \u001b[0m | \u001b[0m 24.1    \u001b[0m | \u001b[0m 1.0     \u001b[0m |\n",
            "| \u001b[0m 20      \u001b[0m | \u001b[0m-2.429   \u001b[0m | \u001b[0m 1.0     \u001b[0m | \u001b[0m 0.1     \u001b[0m | \u001b[0m 16.0    \u001b[0m | \u001b[0m 4.0     \u001b[0m | \u001b[0m 10.0    \u001b[0m | \u001b[0m 0.01    \u001b[0m | \u001b[0m 0.01    \u001b[0m |\n",
            "=============================================================================================================\n"
          ],
          "name": "stdout"
        }
      ]
    },
    {
      "cell_type": "code",
      "metadata": {
        "id": "lRRUFqD2bQeC",
        "colab_type": "code",
        "colab": {}
      },
      "source": [
        "params = lgbBO.max['params']\n",
        "models = lgb_cv(\n",
        "    params['num_leaves'],   \n",
        "    params['learning_rate'], \n",
        "    params['n_estimators'], \n",
        "    params['subsample'], \n",
        "    params['colsample_bytree'], \n",
        "    params['reg_alpha'], \n",
        "    params['reg_lambda'], \n",
        "    x_data=train_features, y_data=train_target, n_splits=5, output='model')"
      ],
      "execution_count": null,
      "outputs": []
    },
    {
      "cell_type": "code",
      "metadata": {
        "id": "wHrfklmlUobO",
        "colab_type": "code",
        "colab": {}
      },
      "source": [
        "# 예측 템플릿 만들기\n",
        "CARD_SIDO_NMs = df_num['CARD_SIDO_NM'].unique()\n",
        "STD_CLSS_NMs  = df_num['STD_CLSS_NM'].unique()\n",
        "HOM_SIDO_NMs  = df_num['HOM_SIDO_NM'].unique()\n",
        "AGEs          = df_num['AGE'].unique()\n",
        "SEX_CTGO_CDs  = df_num['SEX_CTGO_CD'].unique()\n",
        "FLCs          = df_num['FLC'].unique()\n",
        "years         = [2020]\n",
        "months        = [4, 7]\n",
        "\n",
        "temp = []\n",
        "for CARD_SIDO_NM in CARD_SIDO_NMs:\n",
        "    for STD_CLSS_NM in STD_CLSS_NMs:\n",
        "        for HOM_SIDO_NM in HOM_SIDO_NMs:\n",
        "            for AGE in AGEs:\n",
        "                for SEX_CTGO_CD in SEX_CTGO_CDs:\n",
        "                    for FLC in FLCs:\n",
        "                        for year in years:\n",
        "                            for month in months:\n",
        "                                temp.append([CARD_SIDO_NM, STD_CLSS_NM, HOM_SIDO_NM, AGE, SEX_CTGO_CD, FLC, year, month])\n",
        "temp = np.array(temp)\n",
        "temp = pd.DataFrame(data=temp, columns=train_features.columns)"
      ],
      "execution_count": null,
      "outputs": []
    },
    {
      "cell_type": "code",
      "metadata": {
        "id": "M3OgYJmYbvnY",
        "colab_type": "code",
        "colab": {}
      },
      "source": [
        "preds = []\n",
        "for model in models:\n",
        "    pred = model.predict(temp)\n",
        "    preds.append(pred)\n",
        "\n",
        "pred = np.mean(preds, axis=0)"
      ],
      "execution_count": null,
      "outputs": []
    },
    {
      "cell_type": "code",
      "metadata": {
        "id": "oGePY8KScw28",
        "colab_type": "code",
        "colab": {}
      },
      "source": [
        "temp['AMT'] = pred"
      ],
      "execution_count": null,
      "outputs": []
    },
    {
      "cell_type": "code",
      "metadata": {
        "id": "EvDx4OKYFukZ",
        "colab_type": "code",
        "colab": {}
      },
      "source": [
        "temp['AMT'] = np.round(pred, 0)\n",
        "temp['REG_YYMM'] = temp['year']*100 + temp['month']\n",
        "temp = temp[['REG_YYMM', 'CARD_SIDO_NM', 'STD_CLSS_NM', 'AMT']]\n",
        "temp = temp.groupby(['REG_YYMM', 'CARD_SIDO_NM', 'STD_CLSS_NM']).sum().reset_index(drop=False)"
      ],
      "execution_count": null,
      "outputs": []
    },
    {
      "cell_type": "code",
      "metadata": {
        "id": "GYfnjkH1F0k8",
        "colab_type": "code",
        "colab": {}
      },
      "source": [
        "# 디코딩 \n",
        "temp['CARD_SIDO_NM'] = encoders['CARD_SIDO_NM'].inverse_transform(temp['CARD_SIDO_NM'])\n",
        "temp['STD_CLSS_NM'] = encoders['STD_CLSS_NM'].inverse_transform(temp['STD_CLSS_NM'])"
      ],
      "execution_count": null,
      "outputs": []
    },
    {
      "cell_type": "code",
      "metadata": {
        "id": "wYlYTEKSF2XO",
        "colab_type": "code",
        "colab": {
          "base_uri": "https://localhost:8080/",
          "height": 235
        },
        "outputId": "424df2a8-686a-4875-ad80-c09119f4b77d"
      },
      "source": [
        "sub = sub.drop(['AMT'], axis=1)\n",
        "sub = sub.merge(temp, left_on=['REG_YYMM', 'CARD_SIDO_NM', 'STD_CLSS_NM'], right_on=['REG_YYMM', 'CARD_SIDO_NM', 'STD_CLSS_NM'], how='left')\n",
        "sub.index.name = 'id'\n",
        "sub.to_csv('/content/drive/My Drive/Colab Notebooks/data/데이콘/제주/submission_baseline_1(6).csv', encoding='utf-8-sig')\n",
        "sub.head()"
      ],
      "execution_count": null,
      "outputs": [
        {
          "output_type": "execute_result",
          "data": {
            "text/html": [
              "<div>\n",
              "<style scoped>\n",
              "    .dataframe tbody tr th:only-of-type {\n",
              "        vertical-align: middle;\n",
              "    }\n",
              "\n",
              "    .dataframe tbody tr th {\n",
              "        vertical-align: top;\n",
              "    }\n",
              "\n",
              "    .dataframe thead th {\n",
              "        text-align: right;\n",
              "    }\n",
              "</style>\n",
              "<table border=\"1\" class=\"dataframe\">\n",
              "  <thead>\n",
              "    <tr style=\"text-align: right;\">\n",
              "      <th></th>\n",
              "      <th>id</th>\n",
              "      <th>REG_YYMM</th>\n",
              "      <th>CARD_SIDO_NM</th>\n",
              "      <th>STD_CLSS_NM</th>\n",
              "      <th>AMT</th>\n",
              "    </tr>\n",
              "    <tr>\n",
              "      <th>id</th>\n",
              "      <th></th>\n",
              "      <th></th>\n",
              "      <th></th>\n",
              "      <th></th>\n",
              "      <th></th>\n",
              "    </tr>\n",
              "  </thead>\n",
              "  <tbody>\n",
              "    <tr>\n",
              "      <th>0</th>\n",
              "      <td>0</td>\n",
              "      <td>202004</td>\n",
              "      <td>강원</td>\n",
              "      <td>건강보조식품 소매업</td>\n",
              "      <td>16660.0</td>\n",
              "    </tr>\n",
              "    <tr>\n",
              "      <th>1</th>\n",
              "      <td>1</td>\n",
              "      <td>202004</td>\n",
              "      <td>강원</td>\n",
              "      <td>골프장 운영업</td>\n",
              "      <td>16660.0</td>\n",
              "    </tr>\n",
              "    <tr>\n",
              "      <th>2</th>\n",
              "      <td>2</td>\n",
              "      <td>202004</td>\n",
              "      <td>강원</td>\n",
              "      <td>과실 및 채소 소매업</td>\n",
              "      <td>16660.0</td>\n",
              "    </tr>\n",
              "    <tr>\n",
              "      <th>3</th>\n",
              "      <td>3</td>\n",
              "      <td>202004</td>\n",
              "      <td>강원</td>\n",
              "      <td>관광 민예품 및 선물용품 소매업</td>\n",
              "      <td>16660.0</td>\n",
              "    </tr>\n",
              "    <tr>\n",
              "      <th>4</th>\n",
              "      <td>4</td>\n",
              "      <td>202004</td>\n",
              "      <td>강원</td>\n",
              "      <td>그외 기타 분류안된 오락관련 서비스업</td>\n",
              "      <td>16660.0</td>\n",
              "    </tr>\n",
              "  </tbody>\n",
              "</table>\n",
              "</div>"
            ],
            "text/plain": [
              "    id  REG_YYMM CARD_SIDO_NM           STD_CLSS_NM      AMT\n",
              "id                                                          \n",
              "0    0    202004           강원            건강보조식품 소매업  16660.0\n",
              "1    1    202004           강원               골프장 운영업  16660.0\n",
              "2    2    202004           강원           과실 및 채소 소매업  16660.0\n",
              "3    3    202004           강원     관광 민예품 및 선물용품 소매업  16660.0\n",
              "4    4    202004           강원  그외 기타 분류안된 오락관련 서비스업  16660.0"
            ]
          },
          "metadata": {
            "tags": []
          },
          "execution_count": 37
        }
      ]
    },
    {
      "cell_type": "markdown",
      "metadata": {
        "id": "px8QBocnJRCI",
        "colab_type": "text"
      },
      "source": [
        "오버피팅이 심하게 되는 것으로 보임. 독립변수들을 원핫인코딩으로 바꿔주는 것이 좋을 것 같음."
      ]
    },
    {
      "cell_type": "markdown",
      "metadata": {
        "id": "QqQFhW8VLvv9",
        "colab_type": "text"
      },
      "source": [
        "# Base Line 2"
      ]
    },
    {
      "cell_type": "code",
      "metadata": {
        "id": "j5POXWIEMbDs",
        "colab_type": "code",
        "colab": {
          "base_uri": "https://localhost:8080/"
        },
        "outputId": "f2072d56-b6b4-4cc7-c728-22d5457199f5"
      },
      "source": [
        "data.head()"
      ],
      "execution_count": null,
      "outputs": [
        {
          "output_type": "execute_result",
          "data": {
            "text/html": [
              "<div>\n",
              "<style scoped>\n",
              "    .dataframe tbody tr th:only-of-type {\n",
              "        vertical-align: middle;\n",
              "    }\n",
              "\n",
              "    .dataframe tbody tr th {\n",
              "        vertical-align: top;\n",
              "    }\n",
              "\n",
              "    .dataframe thead th {\n",
              "        text-align: right;\n",
              "    }\n",
              "</style>\n",
              "<table border=\"1\" class=\"dataframe\">\n",
              "  <thead>\n",
              "    <tr style=\"text-align: right;\">\n",
              "      <th></th>\n",
              "      <th>REG_YYMM</th>\n",
              "      <th>CARD_SIDO_NM</th>\n",
              "      <th>CARD_CCG_NM</th>\n",
              "      <th>STD_CLSS_NM</th>\n",
              "      <th>HOM_SIDO_NM</th>\n",
              "      <th>HOM_CCG_NM</th>\n",
              "      <th>AGE</th>\n",
              "      <th>SEX_CTGO_CD</th>\n",
              "      <th>FLC</th>\n",
              "      <th>CSTMR_CNT</th>\n",
              "      <th>AMT</th>\n",
              "      <th>CNT</th>\n",
              "    </tr>\n",
              "  </thead>\n",
              "  <tbody>\n",
              "    <tr>\n",
              "      <th>0</th>\n",
              "      <td>201901</td>\n",
              "      <td>강원</td>\n",
              "      <td>강릉시</td>\n",
              "      <td>건강보조식품 소매업</td>\n",
              "      <td>강원</td>\n",
              "      <td>강릉시</td>\n",
              "      <td>20s</td>\n",
              "      <td>1</td>\n",
              "      <td>1</td>\n",
              "      <td>4</td>\n",
              "      <td>311200</td>\n",
              "      <td>4</td>\n",
              "    </tr>\n",
              "    <tr>\n",
              "      <th>1</th>\n",
              "      <td>201901</td>\n",
              "      <td>강원</td>\n",
              "      <td>강릉시</td>\n",
              "      <td>건강보조식품 소매업</td>\n",
              "      <td>강원</td>\n",
              "      <td>강릉시</td>\n",
              "      <td>30s</td>\n",
              "      <td>1</td>\n",
              "      <td>2</td>\n",
              "      <td>7</td>\n",
              "      <td>1374500</td>\n",
              "      <td>8</td>\n",
              "    </tr>\n",
              "    <tr>\n",
              "      <th>2</th>\n",
              "      <td>201901</td>\n",
              "      <td>강원</td>\n",
              "      <td>강릉시</td>\n",
              "      <td>건강보조식품 소매업</td>\n",
              "      <td>강원</td>\n",
              "      <td>강릉시</td>\n",
              "      <td>30s</td>\n",
              "      <td>2</td>\n",
              "      <td>2</td>\n",
              "      <td>6</td>\n",
              "      <td>818700</td>\n",
              "      <td>6</td>\n",
              "    </tr>\n",
              "    <tr>\n",
              "      <th>3</th>\n",
              "      <td>201901</td>\n",
              "      <td>강원</td>\n",
              "      <td>강릉시</td>\n",
              "      <td>건강보조식품 소매업</td>\n",
              "      <td>강원</td>\n",
              "      <td>강릉시</td>\n",
              "      <td>40s</td>\n",
              "      <td>1</td>\n",
              "      <td>3</td>\n",
              "      <td>4</td>\n",
              "      <td>1717000</td>\n",
              "      <td>5</td>\n",
              "    </tr>\n",
              "    <tr>\n",
              "      <th>4</th>\n",
              "      <td>201901</td>\n",
              "      <td>강원</td>\n",
              "      <td>강릉시</td>\n",
              "      <td>건강보조식품 소매업</td>\n",
              "      <td>강원</td>\n",
              "      <td>강릉시</td>\n",
              "      <td>40s</td>\n",
              "      <td>1</td>\n",
              "      <td>4</td>\n",
              "      <td>3</td>\n",
              "      <td>1047300</td>\n",
              "      <td>3</td>\n",
              "    </tr>\n",
              "  </tbody>\n",
              "</table>\n",
              "</div>"
            ],
            "text/plain": [
              "   REG_YYMM CARD_SIDO_NM CARD_CCG_NM STD_CLSS_NM  ... FLC CSTMR_CNT      AMT  CNT\n",
              "0    201901           강원         강릉시  건강보조식품 소매업  ...   1         4   311200    4\n",
              "1    201901           강원         강릉시  건강보조식품 소매업  ...   2         7  1374500    8\n",
              "2    201901           강원         강릉시  건강보조식품 소매업  ...   2         6   818700    6\n",
              "3    201901           강원         강릉시  건강보조식품 소매업  ...   3         4  1717000    5\n",
              "4    201901           강원         강릉시  건강보조식품 소매업  ...   4         3  1047300    3\n",
              "\n",
              "[5 rows x 12 columns]"
            ]
          },
          "metadata": {
            "tags": []
          },
          "execution_count": 6
        }
      ]
    },
    {
      "cell_type": "code",
      "metadata": {
        "id": "niARI4P8Mxw8",
        "colab_type": "code",
        "colab": {}
      },
      "source": [
        "data.drop(['CARD_CCG_NM','HOM_CCG_NM','CSTMR_CNT','CNT'],axis=1,inplace=True)"
      ],
      "execution_count": null,
      "outputs": []
    },
    {
      "cell_type": "code",
      "metadata": {
        "id": "He5GB8LENIUI",
        "colab_type": "code",
        "colab": {}
      },
      "source": [
        "data=data.groupby(['REG_YYMM','CARD_SIDO_NM','STD_CLSS_NM','HOM_SIDO_NM','AGE','SEX_CTGO_CD','FLC'])['AMT'].sum().reset_index()"
      ],
      "execution_count": null,
      "outputs": []
    },
    {
      "cell_type": "code",
      "metadata": {
        "id": "vsZhYIl7NM24",
        "colab_type": "code",
        "colab": {
          "base_uri": "https://localhost:8080/"
        },
        "outputId": "e4e86bee-056a-4a95-d64d-9bb4552708ba"
      },
      "source": [
        "data['year']=data['REG_YYMM'].apply(lambda x: int(str(x)[:4]))\n",
        "data['month'] = data['REG_YYMM'].apply(lambda x: int(str(x)[4:]))\n",
        "data.drop('REG_YYMM',axis=1,inplace=True)\n",
        "data.head()"
      ],
      "execution_count": null,
      "outputs": [
        {
          "output_type": "execute_result",
          "data": {
            "text/html": [
              "<div>\n",
              "<style scoped>\n",
              "    .dataframe tbody tr th:only-of-type {\n",
              "        vertical-align: middle;\n",
              "    }\n",
              "\n",
              "    .dataframe tbody tr th {\n",
              "        vertical-align: top;\n",
              "    }\n",
              "\n",
              "    .dataframe thead th {\n",
              "        text-align: right;\n",
              "    }\n",
              "</style>\n",
              "<table border=\"1\" class=\"dataframe\">\n",
              "  <thead>\n",
              "    <tr style=\"text-align: right;\">\n",
              "      <th></th>\n",
              "      <th>CARD_SIDO_NM</th>\n",
              "      <th>STD_CLSS_NM</th>\n",
              "      <th>HOM_SIDO_NM</th>\n",
              "      <th>AGE</th>\n",
              "      <th>SEX_CTGO_CD</th>\n",
              "      <th>FLC</th>\n",
              "      <th>AMT</th>\n",
              "      <th>year</th>\n",
              "      <th>month</th>\n",
              "    </tr>\n",
              "  </thead>\n",
              "  <tbody>\n",
              "    <tr>\n",
              "      <th>0</th>\n",
              "      <td>강원</td>\n",
              "      <td>건강보조식품 소매업</td>\n",
              "      <td>강원</td>\n",
              "      <td>20s</td>\n",
              "      <td>1</td>\n",
              "      <td>1</td>\n",
              "      <td>311200</td>\n",
              "      <td>2019</td>\n",
              "      <td>1</td>\n",
              "    </tr>\n",
              "    <tr>\n",
              "      <th>1</th>\n",
              "      <td>강원</td>\n",
              "      <td>건강보조식품 소매업</td>\n",
              "      <td>강원</td>\n",
              "      <td>30s</td>\n",
              "      <td>1</td>\n",
              "      <td>2</td>\n",
              "      <td>5169295</td>\n",
              "      <td>2019</td>\n",
              "      <td>1</td>\n",
              "    </tr>\n",
              "    <tr>\n",
              "      <th>2</th>\n",
              "      <td>강원</td>\n",
              "      <td>건강보조식품 소매업</td>\n",
              "      <td>강원</td>\n",
              "      <td>30s</td>\n",
              "      <td>2</td>\n",
              "      <td>2</td>\n",
              "      <td>8618550</td>\n",
              "      <td>2019</td>\n",
              "      <td>1</td>\n",
              "    </tr>\n",
              "    <tr>\n",
              "      <th>3</th>\n",
              "      <td>강원</td>\n",
              "      <td>건강보조식품 소매업</td>\n",
              "      <td>강원</td>\n",
              "      <td>40s</td>\n",
              "      <td>1</td>\n",
              "      <td>2</td>\n",
              "      <td>454420</td>\n",
              "      <td>2019</td>\n",
              "      <td>1</td>\n",
              "    </tr>\n",
              "    <tr>\n",
              "      <th>4</th>\n",
              "      <td>강원</td>\n",
              "      <td>건강보조식품 소매업</td>\n",
              "      <td>강원</td>\n",
              "      <td>40s</td>\n",
              "      <td>1</td>\n",
              "      <td>3</td>\n",
              "      <td>6441165</td>\n",
              "      <td>2019</td>\n",
              "      <td>1</td>\n",
              "    </tr>\n",
              "  </tbody>\n",
              "</table>\n",
              "</div>"
            ],
            "text/plain": [
              "  CARD_SIDO_NM STD_CLSS_NM HOM_SIDO_NM  AGE  ...  FLC      AMT  year  month\n",
              "0           강원  건강보조식품 소매업          강원  20s  ...    1   311200  2019      1\n",
              "1           강원  건강보조식품 소매업          강원  30s  ...    2  5169295  2019      1\n",
              "2           강원  건강보조식품 소매업          강원  30s  ...    2  8618550  2019      1\n",
              "3           강원  건강보조식품 소매업          강원  40s  ...    2   454420  2019      1\n",
              "4           강원  건강보조식품 소매업          강원  40s  ...    3  6441165  2019      1\n",
              "\n",
              "[5 rows x 9 columns]"
            ]
          },
          "metadata": {
            "tags": []
          },
          "execution_count": 9
        }
      ]
    },
    {
      "cell_type": "code",
      "metadata": {
        "id": "vVJTvhonOPzG",
        "colab_type": "code",
        "colab": {}
      },
      "source": [
        "data.loc[(data['month']>=3) & (data['month']<=5),'season'] = 'spring'\n",
        "data.loc[(data['month']>=6) & (data['month']<8),'season'] = 'summer'\n",
        "data.loc[(data['month']>=9) & (data['month']<=11),'season'] = 'fall'\n",
        "data.loc[(data['month']==12) | (data['month']<=2),'season'] = 'winter'"
      ],
      "execution_count": null,
      "outputs": []
    },
    {
      "cell_type": "code",
      "metadata": {
        "id": "jrVcV93OORLT",
        "colab_type": "code",
        "colab": {
          "base_uri": "https://localhost:8080/"
        },
        "outputId": "c2353f03-ee77-4731-c09f-989e0c71d8b6"
      },
      "source": [
        "for col in data.columns:\n",
        "  if col !='AMT':\n",
        "    data[col] = data[col].astype('category')\n",
        "data.dtypes"
      ],
      "execution_count": null,
      "outputs": [
        {
          "output_type": "execute_result",
          "data": {
            "text/plain": [
              "CARD_SIDO_NM    category\n",
              "STD_CLSS_NM     category\n",
              "HOM_SIDO_NM     category\n",
              "AGE             category\n",
              "SEX_CTGO_CD     category\n",
              "FLC             category\n",
              "AMT                int64\n",
              "year            category\n",
              "month           category\n",
              "season          category\n",
              "dtype: object"
            ]
          },
          "metadata": {
            "tags": []
          },
          "execution_count": 11
        }
      ]
    },
    {
      "cell_type": "code",
      "metadata": {
        "id": "6tLNgnzhO57w",
        "colab_type": "code",
        "colab": {}
      },
      "source": [
        "x_data = data.drop('AMT',axis=1)\n",
        "y_data = np.log1p(data['AMT'])"
      ],
      "execution_count": null,
      "outputs": []
    },
    {
      "cell_type": "code",
      "metadata": {
        "id": "BdnS2lCqO-xH",
        "colab_type": "code",
        "colab": {}
      },
      "source": [
        "def lgb_cv(max_depth,num_leaves, learning_rate, n_estimators, subsample, colsample_bytree, reg_alpha,reg_lambda, x_data=None, y_data=None, n_splits=5, output='model'):\n",
        "    score = 0\n",
        "    skf = StratifiedKFold(n_splits=n_splits, shuffle=True, random_state=201)\n",
        "    models = []\n",
        "    for train_index, valid_index in skf.split(x_data,x_data['STD_CLSS_NM']):\n",
        "       #print(train_index)\n",
        "       x_train, y_train = x_data.iloc[train_index], y_data.iloc[train_index]\n",
        "       x_valid, y_valid = x_data.iloc[valid_index], y_data.iloc[valid_index]\n",
        "        \n",
        "       model = lgb.LGBMRegressor(\n",
        "               \n",
        "           num_leaves = int(num_leaves), \n",
        "           learning_rate = learning_rate, \n",
        "           n_estimators = int(n_estimators), \n",
        "           subsample = np.clip(subsample, 0, 1), \n",
        "           colsample_bytree = np.clip(colsample_bytree, 0, 1), \n",
        "           reg_alpha = reg_alpha, \n",
        "           reg_lambda = reg_lambda,\n",
        "           )\n",
        "       \n",
        "       model.fit(x_train, y_train)\n",
        "       models.append(model)\n",
        "        \n",
        "       pred = model.predict(x_valid)\n",
        "       true = y_valid\n",
        "       RMSLE = (mean_squared_log_error(true, pred))*(-1)\n",
        "       score += RMSLE/n_splits\n",
        "    \n",
        "    if output == 'score':\n",
        "        return score\n",
        "    if output == 'model':\n",
        "        return models"
      ],
      "execution_count": null,
      "outputs": []
    },
    {
      "cell_type": "code",
      "metadata": {
        "id": "Fh0RC5GbPCK5",
        "colab_type": "code",
        "colab": {
          "base_uri": "https://localhost:8080/"
        },
        "outputId": "c76b8693-9fa0-4657-b459-38a815f13487"
      },
      "source": [
        "func_fixed = partial(lgb_cv, x_data=x_data, y_data=y_data, n_splits=5, output='score') \n",
        "\n",
        "lgbBO = BayesianOptimization(\n",
        "    func_fixed, \n",
        "    {\n",
        "        'max_depth' : (4,8),\n",
        "        'num_leaves': (4, 8),\n",
        "        'learning_rate': (0.0001, 0.1),\n",
        "        'n_estimators': (4, 8),\n",
        "        'subsample': (0.01, 1),\n",
        "        'colsample_bytree': (0.01, 1),\n",
        "        'reg_alpha': (0.01, 10), \n",
        "        'reg_lambda': (0.01, 50),\n",
        "    }, \n",
        "    random_state=4321\n",
        ")\n",
        "lgbBO.maximize(init_points=15, n_iter=5) #30  "
      ],
      "execution_count": null,
      "outputs": [
        {
          "output_type": "stream",
          "text": [
            "|   iter    |  target   | colsam... | learni... | max_depth | n_esti... | num_le... | reg_alpha | reg_la... | subsample |\n",
            "-------------------------------------------------------------------------------------------------------------------------\n",
            "| \u001b[0m 1       \u001b[0m | \u001b[0m-0.02636 \u001b[0m | \u001b[0m 0.08009 \u001b[0m | \u001b[0m 0.08152 \u001b[0m | \u001b[0m 7.072   \u001b[0m | \u001b[0m 5.145   \u001b[0m | \u001b[0m 4.772   \u001b[0m | \u001b[0m 9.789   \u001b[0m | \u001b[0m 20.32   \u001b[0m | \u001b[0m 0.7602  \u001b[0m |\n",
            "| \u001b[0m 2       \u001b[0m | \u001b[0m-0.02636 \u001b[0m | \u001b[0m 0.09826 \u001b[0m | \u001b[0m 0.03106 \u001b[0m | \u001b[0m 6.476   \u001b[0m | \u001b[0m 5.84    \u001b[0m | \u001b[0m 4.873   \u001b[0m | \u001b[0m 6.639   \u001b[0m | \u001b[0m 33.94   \u001b[0m | \u001b[0m 0.9508  \u001b[0m |\n",
            "| \u001b[95m 3       \u001b[0m | \u001b[95m-0.02623 \u001b[0m | \u001b[95m 0.2884  \u001b[0m | \u001b[95m 0.06202 \u001b[0m | \u001b[95m 5.533   \u001b[0m | \u001b[95m 5.601   \u001b[0m | \u001b[95m 7.771   \u001b[0m | \u001b[95m 9.3     \u001b[0m | \u001b[95m 47.42   \u001b[0m | \u001b[95m 0.3817  \u001b[0m |\n",
            "| \u001b[95m 4       \u001b[0m | \u001b[95m-0.02621 \u001b[0m | \u001b[95m 0.3489  \u001b[0m | \u001b[95m 0.06651 \u001b[0m | \u001b[95m 4.169   \u001b[0m | \u001b[95m 4.929   \u001b[0m | \u001b[95m 5.72    \u001b[0m | \u001b[95m 0.7886  \u001b[0m | \u001b[95m 38.33   \u001b[0m | \u001b[95m 0.8554  \u001b[0m |\n",
            "| \u001b[0m 5       \u001b[0m | \u001b[0m-0.02636 \u001b[0m | \u001b[0m 0.1589  \u001b[0m | \u001b[0m 0.0102  \u001b[0m | \u001b[0m 5.084   \u001b[0m | \u001b[0m 4.121   \u001b[0m | \u001b[0m 7.351   \u001b[0m | \u001b[0m 5.98    \u001b[0m | \u001b[0m 46.56   \u001b[0m | \u001b[0m 0.5006  \u001b[0m |\n",
            "| \u001b[0m 6       \u001b[0m | \u001b[0m-0.02622 \u001b[0m | \u001b[0m 0.3827  \u001b[0m | \u001b[0m 0.02445 \u001b[0m | \u001b[0m 6.407   \u001b[0m | \u001b[0m 5.319   \u001b[0m | \u001b[0m 5.847   \u001b[0m | \u001b[0m 7.252   \u001b[0m | \u001b[0m 40.59   \u001b[0m | \u001b[0m 0.9862  \u001b[0m |\n",
            "| \u001b[0m 7       \u001b[0m | \u001b[0m-0.02623 \u001b[0m | \u001b[0m 0.2347  \u001b[0m | \u001b[0m 0.05681 \u001b[0m | \u001b[0m 4.16    \u001b[0m | \u001b[0m 7.748   \u001b[0m | \u001b[0m 5.085   \u001b[0m | \u001b[0m 5.755   \u001b[0m | \u001b[0m 18.31   \u001b[0m | \u001b[0m 0.2704  \u001b[0m |\n",
            "| \u001b[0m 8       \u001b[0m | \u001b[0m-0.02636 \u001b[0m | \u001b[0m 0.2029  \u001b[0m | \u001b[0m 0.0565  \u001b[0m | \u001b[0m 7.549   \u001b[0m | \u001b[0m 4.187   \u001b[0m | \u001b[0m 4.342   \u001b[0m | \u001b[0m 0.8389  \u001b[0m | \u001b[0m 14.17   \u001b[0m | \u001b[0m 0.3037  \u001b[0m |\n",
            "| \u001b[0m 9       \u001b[0m | \u001b[0m-0.02634 \u001b[0m | \u001b[0m 0.1992  \u001b[0m | \u001b[0m 0.04147 \u001b[0m | \u001b[0m 6.062   \u001b[0m | \u001b[0m 6.753   \u001b[0m | \u001b[0m 4.093   \u001b[0m | \u001b[0m 9.679   \u001b[0m | \u001b[0m 33.9    \u001b[0m | \u001b[0m 0.9401  \u001b[0m |\n",
            "| \u001b[95m 10      \u001b[0m | \u001b[95m-0.02588 \u001b[0m | \u001b[95m 0.6951  \u001b[0m | \u001b[95m 0.01745 \u001b[0m | \u001b[95m 4.912   \u001b[0m | \u001b[95m 7.828   \u001b[0m | \u001b[95m 6.114   \u001b[0m | \u001b[95m 5.565   \u001b[0m | \u001b[95m 46.7    \u001b[0m | \u001b[95m 0.2443  \u001b[0m |\n",
            "| \u001b[0m 11      \u001b[0m | \u001b[0m-0.02632 \u001b[0m | \u001b[0m 0.2936  \u001b[0m | \u001b[0m 0.07742 \u001b[0m | \u001b[0m 4.399   \u001b[0m | \u001b[0m 4.698   \u001b[0m | \u001b[0m 5.957   \u001b[0m | \u001b[0m 1.589   \u001b[0m | \u001b[0m 16.0    \u001b[0m | \u001b[0m 0.6646  \u001b[0m |\n",
            "| \u001b[0m 12      \u001b[0m | \u001b[0m-0.02591 \u001b[0m | \u001b[0m 0.3545  \u001b[0m | \u001b[0m 0.04355 \u001b[0m | \u001b[0m 6.263   \u001b[0m | \u001b[0m 7.1     \u001b[0m | \u001b[0m 4.269   \u001b[0m | \u001b[0m 1.629   \u001b[0m | \u001b[0m 36.96   \u001b[0m | \u001b[0m 0.3188  \u001b[0m |\n",
            "| \u001b[0m 13      \u001b[0m | \u001b[0m-0.02632 \u001b[0m | \u001b[0m 0.05967 \u001b[0m | \u001b[0m 0.06905 \u001b[0m | \u001b[0m 7.156   \u001b[0m | \u001b[0m 6.321   \u001b[0m | \u001b[0m 5.031   \u001b[0m | \u001b[0m 3.079   \u001b[0m | \u001b[0m 21.94   \u001b[0m | \u001b[0m 0.5243  \u001b[0m |\n",
            "| \u001b[95m 14      \u001b[0m | \u001b[95m-0.02487 \u001b[0m | \u001b[95m 0.6847  \u001b[0m | \u001b[95m 0.07831 \u001b[0m | \u001b[95m 7.583   \u001b[0m | \u001b[95m 6.913   \u001b[0m | \u001b[95m 5.898   \u001b[0m | \u001b[95m 7.454   \u001b[0m | \u001b[95m 1.395   \u001b[0m | \u001b[95m 0.6958  \u001b[0m |\n",
            "| \u001b[0m 15      \u001b[0m | \u001b[0m-0.02636 \u001b[0m | \u001b[0m 0.1182  \u001b[0m | \u001b[0m 0.07642 \u001b[0m | \u001b[0m 4.4     \u001b[0m | \u001b[0m 4.767   \u001b[0m | \u001b[0m 6.912   \u001b[0m | \u001b[0m 6.826   \u001b[0m | \u001b[0m 20.26   \u001b[0m | \u001b[0m 0.3488  \u001b[0m |\n",
            "| \u001b[95m 16      \u001b[0m | \u001b[95m-0.02414 \u001b[0m | \u001b[95m 0.978   \u001b[0m | \u001b[95m 0.07546 \u001b[0m | \u001b[95m 7.6     \u001b[0m | \u001b[95m 7.879   \u001b[0m | \u001b[95m 7.285   \u001b[0m | \u001b[95m 8.833   \u001b[0m | \u001b[95m 0.01779 \u001b[0m | \u001b[95m 0.6275  \u001b[0m |\n",
            "| \u001b[0m 17      \u001b[0m | \u001b[0m-0.02628 \u001b[0m | \u001b[0m 0.3074  \u001b[0m | \u001b[0m 0.03216 \u001b[0m | \u001b[0m 7.187   \u001b[0m | \u001b[0m 7.293   \u001b[0m | \u001b[0m 6.478   \u001b[0m | \u001b[0m 9.956   \u001b[0m | \u001b[0m 0.2988  \u001b[0m | \u001b[0m 0.8725  \u001b[0m |\n",
            "| \u001b[0m 18      \u001b[0m | \u001b[0m-0.02561 \u001b[0m | \u001b[0m 0.9661  \u001b[0m | \u001b[0m 0.03103 \u001b[0m | \u001b[0m 5.244   \u001b[0m | \u001b[0m 5.869   \u001b[0m | \u001b[0m 7.259   \u001b[0m | \u001b[0m 1.067   \u001b[0m | \u001b[0m 0.04948 \u001b[0m | \u001b[0m 0.911   \u001b[0m |\n",
            "| \u001b[0m 19      \u001b[0m | \u001b[0m-0.02508 \u001b[0m | \u001b[0m 0.4767  \u001b[0m | \u001b[0m 0.0801  \u001b[0m | \u001b[0m 5.744   \u001b[0m | \u001b[0m 7.221   \u001b[0m | \u001b[0m 4.777   \u001b[0m | \u001b[0m 0.1044  \u001b[0m | \u001b[0m 0.02159 \u001b[0m | \u001b[0m 0.3088  \u001b[0m |\n",
            "| \u001b[0m 20      \u001b[0m | \u001b[0m-0.02565 \u001b[0m | \u001b[0m 0.4183  \u001b[0m | \u001b[0m 0.05515 \u001b[0m | \u001b[0m 5.224   \u001b[0m | \u001b[0m 7.497   \u001b[0m | \u001b[0m 6.707   \u001b[0m | \u001b[0m 0.475   \u001b[0m | \u001b[0m 0.03064 \u001b[0m | \u001b[0m 0.09142 \u001b[0m |\n",
            "=========================================================================================================================\n"
          ],
          "name": "stdout"
        }
      ]
    },
    {
      "cell_type": "code",
      "metadata": {
        "id": "Ed9UXM2dRFP4",
        "colab_type": "code",
        "colab": {}
      },
      "source": [
        "params = lgbBO.max['params']\n",
        "models = lgb_cv(\n",
        "    params['max_depth'],\n",
        "    params['num_leaves'],   \n",
        "    params['learning_rate'], \n",
        "    params['n_estimators'], \n",
        "    params['subsample'], \n",
        "    params['colsample_bytree'], \n",
        "    params['reg_alpha'], \n",
        "    params['reg_lambda'], \n",
        "    x_data=x_data, y_data=y_data, n_splits=5, output='model')"
      ],
      "execution_count": null,
      "outputs": []
    },
    {
      "cell_type": "code",
      "metadata": {
        "id": "9GLrqKH5QCeW",
        "colab_type": "code",
        "colab": {}
      },
      "source": [
        "# data 템플릿 만드기\n",
        "CARD_SIDO_NMs = data['CARD_SIDO_NM'].unique()\n",
        "STD_CLSS_NMs  = data['STD_CLSS_NM'].unique()\n",
        "HOM_SIDO_NMs  = data['HOM_SIDO_NM'].unique()\n",
        "AGEs          = data['AGE'].unique()\n",
        "SEX_CTGO_CDs  = data['SEX_CTGO_CD'].unique()\n",
        "FLCs          = data['FLC'].unique()\n",
        "years           = [2020]\n",
        "months           = [4,7]\n",
        "#seasons         = ['spring','summer']\n",
        "\n",
        "temp = []\n",
        "for CARD_SIDO_NM in CARD_SIDO_NMs:\n",
        "    for STD_CLSS_NM in STD_CLSS_NMs:\n",
        "        for HOM_SIDO_NM in HOM_SIDO_NMs:\n",
        "            for AGE in AGEs:\n",
        "                for SEX_CTGO_CD in SEX_CTGO_CDs:\n",
        "                    for FLC in FLCs:\n",
        "                      for year in years:\n",
        "                        for month in months:\n",
        "                          if month ==4:\n",
        "                            season ='spring'\n",
        "                          else:\n",
        "                            season ='summer'                         \n",
        "                          \n",
        "                          temp.append([CARD_SIDO_NM, STD_CLSS_NM, HOM_SIDO_NM, AGE, SEX_CTGO_CD, FLC,year,month,season])\n",
        "\n",
        "temp = np.array(temp)\n",
        "temp = pd.DataFrame(data=temp, columns=['CARD_SIDO_NM', 'STD_CLSS_NM', 'HOM_SIDO_NM', 'AGE', 'SEX_CTGO_CD', 'FLC','year','month','season'])"
      ],
      "execution_count": null,
      "outputs": []
    },
    {
      "cell_type": "code",
      "metadata": {
        "id": "j_z81IHKg_Ff",
        "colab_type": "code",
        "colab": {}
      },
      "source": [
        "for col in temp.columns:\n",
        "  temp[col] = temp[col].astype('category')"
      ],
      "execution_count": null,
      "outputs": []
    },
    {
      "cell_type": "code",
      "metadata": {
        "id": "1fLW-jCYRgSB",
        "colab_type": "code",
        "colab": {}
      },
      "source": [
        "preds = []\n",
        "for model in models:\n",
        "    pred = model.predict(temp)\n",
        "    preds.append(pred)\n",
        "\n",
        "pred = np.mean(preds, axis=0)\n",
        "\n",
        "temp['AMT'] = pred"
      ],
      "execution_count": null,
      "outputs": []
    },
    {
      "cell_type": "code",
      "metadata": {
        "id": "BN4JJtVskkNz",
        "colab_type": "code",
        "colab": {}
      },
      "source": [
        "temp['REG_YYMM']= temp['year'].astype('object') +temp['month'].astype('object')\n",
        "temp['REG_YYMM'] = temp['REG_YYMM'].astype('int64')"
      ],
      "execution_count": null,
      "outputs": []
    },
    {
      "cell_type": "code",
      "metadata": {
        "id": "fCn4lOQgSJdk",
        "colab_type": "code",
        "colab": {}
      },
      "source": [
        "temp = temp[['REG_YYMM', 'CARD_SIDO_NM', 'STD_CLSS_NM', 'AMT']]\n",
        "temp = temp.groupby(['REG_YYMM', 'CARD_SIDO_NM', 'STD_CLSS_NM']).sum().reset_index(drop=False)"
      ],
      "execution_count": null,
      "outputs": []
    },
    {
      "cell_type": "code",
      "metadata": {
        "id": "55iOYYNexvqG",
        "colab_type": "code",
        "colab": {}
      },
      "source": [
        "temp = temp.reset_index()\n",
        "temp['AMT'] = np.round(temp['AMT'], 0)\n",
        "temp['CARD_SIDO_NM'] = temp['CARD_SIDO_NM'].astype('object')\n",
        "temp['STD_CLSS_NM'] = temp['STD_CLSS_NM'].astype('object')\n",
        "temp['AMT'] = temp['AMT'].astype('int64')\n",
        "# temp.to_csv('/content/drive/My Drive/Colab Notebooks/data/데이콘/제주/submission_baseline_3(7).csv', encoding='utf-8-sig',index=False)\n",
        "# temp.head()"
      ],
      "execution_count": null,
      "outputs": []
    },
    {
      "cell_type": "code",
      "metadata": {
        "id": "YMmqcMpt2PNf",
        "colab_type": "code",
        "colab": {
          "base_uri": "https://localhost:8080/"
        },
        "outputId": "850e9ea4-7858-4d7e-860d-20bf5be529bf"
      },
      "source": [
        "sub = pd.read_csv('/content/drive/My Drive/Colab Notebooks/data/데이콘/제주/submission.csv')\n",
        "sub = sub.drop(['AMT'], axis=1)\n",
        "sub.merge(temp,on=['REG_YYMM','CARD_SIDO_NM','STD_CLSS_NM'])"
      ],
      "execution_count": null,
      "outputs": [
        {
          "output_type": "execute_result",
          "data": {
            "text/html": [
              "<div>\n",
              "<style scoped>\n",
              "    .dataframe tbody tr th:only-of-type {\n",
              "        vertical-align: middle;\n",
              "    }\n",
              "\n",
              "    .dataframe tbody tr th {\n",
              "        vertical-align: top;\n",
              "    }\n",
              "\n",
              "    .dataframe thead th {\n",
              "        text-align: right;\n",
              "    }\n",
              "</style>\n",
              "<table border=\"1\" class=\"dataframe\">\n",
              "  <thead>\n",
              "    <tr style=\"text-align: right;\">\n",
              "      <th></th>\n",
              "      <th>id</th>\n",
              "      <th>REG_YYMM</th>\n",
              "      <th>CARD_SIDO_NM</th>\n",
              "      <th>STD_CLSS_NM</th>\n",
              "      <th>index</th>\n",
              "      <th>AMT</th>\n",
              "    </tr>\n",
              "  </thead>\n",
              "  <tbody>\n",
              "  </tbody>\n",
              "</table>\n",
              "</div>"
            ],
            "text/plain": [
              "Empty DataFrame\n",
              "Columns: [id, REG_YYMM, CARD_SIDO_NM, STD_CLSS_NM, index, AMT]\n",
              "Index: []"
            ]
          },
          "metadata": {
            "tags": []
          },
          "execution_count": 144
        }
      ]
    },
    {
      "cell_type": "code",
      "metadata": {
        "id": "KjmAUmD23OWa",
        "colab_type": "code",
        "colab": {
          "base_uri": "https://localhost:8080/"
        },
        "outputId": "2c959863-c883-4e9a-a803-f1e63bf20b65"
      },
      "source": [
        "sub['AMT'] = temp['AMT']\n",
        "sub.head()"
      ],
      "execution_count": null,
      "outputs": [
        {
          "output_type": "execute_result",
          "data": {
            "text/html": [
              "<div>\n",
              "<style scoped>\n",
              "    .dataframe tbody tr th:only-of-type {\n",
              "        vertical-align: middle;\n",
              "    }\n",
              "\n",
              "    .dataframe tbody tr th {\n",
              "        vertical-align: top;\n",
              "    }\n",
              "\n",
              "    .dataframe thead th {\n",
              "        text-align: right;\n",
              "    }\n",
              "</style>\n",
              "<table border=\"1\" class=\"dataframe\">\n",
              "  <thead>\n",
              "    <tr style=\"text-align: right;\">\n",
              "      <th></th>\n",
              "      <th>id</th>\n",
              "      <th>REG_YYMM</th>\n",
              "      <th>CARD_SIDO_NM</th>\n",
              "      <th>STD_CLSS_NM</th>\n",
              "      <th>AMT</th>\n",
              "    </tr>\n",
              "  </thead>\n",
              "  <tbody>\n",
              "    <tr>\n",
              "      <th>0</th>\n",
              "      <td>0</td>\n",
              "      <td>202004</td>\n",
              "      <td>강원</td>\n",
              "      <td>건강보조식품 소매업</td>\n",
              "      <td>16817</td>\n",
              "    </tr>\n",
              "    <tr>\n",
              "      <th>1</th>\n",
              "      <td>1</td>\n",
              "      <td>202004</td>\n",
              "      <td>강원</td>\n",
              "      <td>골프장 운영업</td>\n",
              "      <td>17144</td>\n",
              "    </tr>\n",
              "    <tr>\n",
              "      <th>2</th>\n",
              "      <td>2</td>\n",
              "      <td>202004</td>\n",
              "      <td>강원</td>\n",
              "      <td>과실 및 채소 소매업</td>\n",
              "      <td>16711</td>\n",
              "    </tr>\n",
              "    <tr>\n",
              "      <th>3</th>\n",
              "      <td>3</td>\n",
              "      <td>202004</td>\n",
              "      <td>강원</td>\n",
              "      <td>관광 민예품 및 선물용품 소매업</td>\n",
              "      <td>16544</td>\n",
              "    </tr>\n",
              "    <tr>\n",
              "      <th>4</th>\n",
              "      <td>4</td>\n",
              "      <td>202004</td>\n",
              "      <td>강원</td>\n",
              "      <td>그외 기타 분류안된 오락관련 서비스업</td>\n",
              "      <td>16544</td>\n",
              "    </tr>\n",
              "  </tbody>\n",
              "</table>\n",
              "</div>"
            ],
            "text/plain": [
              "   id  REG_YYMM CARD_SIDO_NM           STD_CLSS_NM    AMT\n",
              "0   0    202004           강원            건강보조식품 소매업  16817\n",
              "1   1    202004           강원               골프장 운영업  17144\n",
              "2   2    202004           강원           과실 및 채소 소매업  16711\n",
              "3   3    202004           강원     관광 민예품 및 선물용품 소매업  16544\n",
              "4   4    202004           강원  그외 기타 분류안된 오락관련 서비스업  16544"
            ]
          },
          "metadata": {
            "tags": []
          },
          "execution_count": 145
        }
      ]
    },
    {
      "cell_type": "code",
      "metadata": {
        "id": "vytDOcyB3wdu",
        "colab_type": "code",
        "colab": {}
      },
      "source": [
        "sub.to_csv('/content/drive/My Drive/Colab Notebooks/data/데이콘/제주/submission_baseline_3(10).csv', encoding='utf-8-sig',index=False)"
      ],
      "execution_count": null,
      "outputs": []
    }
  ]
}