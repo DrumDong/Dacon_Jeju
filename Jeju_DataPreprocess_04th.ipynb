{
  "nbformat": 4,
  "nbformat_minor": 0,
  "metadata": {
    "colab": {
      "name": "Jeju_DataPreprocess_04th.ipynb",
      "provenance": [],
      "machine_shape": "hm"
    },
    "kernelspec": {
      "name": "python3",
      "display_name": "Python 3"
    }
  },
  "cells": [
    {
      "cell_type": "markdown",
      "metadata": {
        "id": "wNmSykRMi6tB",
        "colab_type": "text"
      },
      "source": [
        "Jeju_DataPreproces_03th에서 만든 함수 사용, groupby 별 군집(범주형 파생변수) 제작"
      ]
    },
    {
      "cell_type": "code",
      "metadata": {
        "id": "pV7lsBHQimjK",
        "colab_type": "code",
        "colab": {
          "base_uri": "https://localhost:8080/",
          "height": 72
        },
        "outputId": "d883a0da-0b30-487c-f226-44274ceebc75"
      },
      "source": [
        "import numpy as np\n",
        "import pandas as pd\n",
        "import matplotlib as mpl\n",
        "import matplotlib.pyplot as plt\n",
        "import seaborn as sns\n",
        "import itertools as it\n",
        "import gc\n",
        "import warnings\n",
        "from scipy.spatial import distance\n",
        "from math import log2\n",
        "from math import sqrt\n",
        "from sklearn.cluster import AgglomerativeClustering\n",
        "import time\n",
        "warnings.filterwarnings(action = 'ignore')"
      ],
      "execution_count": null,
      "outputs": [
        {
          "output_type": "stream",
          "text": [
            "/usr/local/lib/python3.6/dist-packages/statsmodels/tools/_testing.py:19: FutureWarning: pandas.util.testing is deprecated. Use the functions in the public API at pandas.testing instead.\n",
            "  import pandas.util.testing as tm\n"
          ],
          "name": "stderr"
        }
      ]
    },
    {
      "cell_type": "code",
      "metadata": {
        "id": "KLfKF5mVir4g",
        "colab_type": "code",
        "colab": {}
      },
      "source": [
        "data = pd.read_csv('/content/drive/My Drive/Colab Notebooks/data/데이콘/제주/st_all.csv')"
      ],
      "execution_count": null,
      "outputs": []
    },
    {
      "cell_type": "code",
      "metadata": {
        "id": "zuJi84W5jJyU",
        "colab_type": "code",
        "colab": {}
      },
      "source": [
        "train_df = data[(data['REG_YYMM'] != 202007)&(data['REG_YYMM'] != 202004)]\n",
        "test_df = data[(data['REG_YYMM'] == 202007)|(data['REG_YYMM'] == 202004)]"
      ],
      "execution_count": null,
      "outputs": []
    },
    {
      "cell_type": "code",
      "metadata": {
        "id": "M4IcZY08jgww",
        "colab_type": "code",
        "colab": {}
      },
      "source": [
        "def Jensenshannon_similarity(df,input_list):\n",
        "  '''\n",
        "  [함수 사용법]\n",
        "    REG_YYMM을 input_list 인덱싱 0번 자리(맨앞)에 둘 것\n",
        "    그 뒤로 기준을 잡고 싶은 변수들을 차례로 넣어 주면 됩니다.\n",
        "    from scipy.spatial import distance 꼭 할것!\n",
        "  '''\n",
        "\n",
        "\n",
        "  make_amt= df.groupby(input_list)['AMT'].sum().reset_index()\n",
        "  \n",
        "  '''pivot 만들기'''\n",
        "  amt_sum = make_amt.groupby(input_list[1:])['AMT'].sum().reset_index(name='AMT_sum')\n",
        "  make_amt = make_amt.merge(amt_sum,on=input_list[1:],how='left')\n",
        "  make_amt['AMT_prob'] = make_amt['AMT']/make_amt['AMT_sum']\n",
        "\n",
        "  # pivot_table을 활용하여 long to wide 작업 실시\n",
        "  amt_pivot= pd.pivot_table(make_amt,\n",
        "                            index=input_list[1:],\n",
        "                            columns='REG_YYMM',\n",
        "                            values='AMT_prob').reset_index()\n",
        "  amt_pivot.fillna(0,inplace=True)\n",
        "\n",
        "  #피벗된 연도별 amt를 사용해 고객간의 유사도를 구해보자.\n",
        "  amt_array=np.array(amt_pivot.drop(input_list[1:],axis=1))\n",
        "\n",
        "  js_similarity =[]\n",
        "  for row_r in range(amt_array.shape[0]):       \n",
        "    dt_list=[]\n",
        "    for row_c in range(amt_array.shape[0]):\n",
        "        #dt= js_divergence(amt_pivot.iloc[row_r,3:].values,amt_pivot.iloc[row_c,3:].values)\n",
        "        '''\n",
        "        js_divergence(만든 함수)로 하면 0값을 계산을 못함. \n",
        "        sqrt(js_divergence)인 distance.jensenshannon 함수 사용\n",
        "        '''\n",
        "        dt = distance.jensenshannon(amt_array[row_r,:],amt_array[row_c,:],2.0)\n",
        "        dt_list.append(dt)\n",
        "    js_similarity.append(dt_list)\n",
        "\n",
        "  js_frame =pd.DataFrame(np.array(js_similarity))\n",
        "  js_similarity = pd.concat([amt_pivot,js_frame],axis=1)\n",
        "\n",
        "  return js_similarity"
      ],
      "execution_count": null,
      "outputs": []
    },
    {
      "cell_type": "code",
      "metadata": {
        "id": "mX7xpVYdkKZw",
        "colab_type": "code",
        "colab": {}
      },
      "source": [
        "def make_clustering(gp_df,input_list,col_name):\n",
        "    df = Jensenshannon_similarity(gp_df,input_list)\n",
        "    df_s = df.iloc[:,-df.shape[0]:] # 클러스터링용 dataframe 생성\n",
        "    clustering = AgglomerativeClustering(n_clusters=int(df_s.shape[0]/2),\n",
        "                                     affinity='precomputed',\n",
        "                                     linkage='average')\n",
        "    clustering.fit(df_s)\n",
        "    \n",
        "    dfd = df.iloc[:,:-df.shape[0]]\n",
        "    dfd['cluster'] = clustering.labels_\n",
        "    dfd.rename(columns={'cluster':col_name},inplace=True)\n",
        "\n",
        "    return dfd.drop(dfd.iloc[:,-16:-1].columns,axis=1)"
      ],
      "execution_count": null,
      "outputs": []
    },
    {
      "cell_type": "code",
      "metadata": {
        "id": "yeG5Bdy2oM5W",
        "colab_type": "code",
        "colab": {}
      },
      "source": [
        "# 업종 clustering\n",
        "\n",
        "STD = make_clustering(train_df,['REG_YYMM','STD_CLSS_NM'],'STD')\n",
        "SIDO_STD = make_clustering(train_df,['REG_YYMM', 'CARD_SIDO_NM','STD_CLSS_NM'],'SIDO_STD')\n",
        "SIDO_CCG_STD = make_clustering(train_df,['REG_YYMM', 'CARD_SIDO_NM', 'CARD_CCG_NM', 'STD_CLSS_NM'],'SIDO_CCG_STD')\n",
        "\n",
        "# 소비자 clustering\n",
        "\n",
        "ASF = make_clustering(train_df,['REG_YYMM','AGE','SEX_CTGO_CD','FLC'],'ASF')\n",
        "SIDO_ASF = make_clustering(train_df,['REG_YYMM', 'HOM_SIDO_NM','AGE','SEX_CTGO_CD','FLC'],'SIDO_ASF')\n",
        "SIDO_CCG_ASF = make_clustering(train_df,['REG_YYMM', 'HOM_SIDO_NM', 'HOM_CCG_NM','AGE','SEX_CTGO_CD','FLC'],'SIDO_CCG_ASF')"
      ],
      "execution_count": null,
      "outputs": []
    },
    {
      "cell_type": "code",
      "metadata": {
        "id": "AGqpBv9mwCtz",
        "colab_type": "code",
        "colab": {}
      },
      "source": [
        "for data in[STD,SIDO_STD,SIDO_CCG_STD,ASF,SIDO_ASF,SIDO_CCG_ASF]:\n",
        "  data.to_csv('/content/drive/My Drive/Colab Notebooks/data/데이콘/제주/%s.csv'%(data.columns[-1]),encoding='utf-8-sig',index=False)"
      ],
      "execution_count": null,
      "outputs": []
    }
  ]
}