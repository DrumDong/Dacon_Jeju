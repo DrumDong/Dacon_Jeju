{
  "nbformat": 4,
  "nbformat_minor": 0,
  "metadata": {
    "colab": {
      "name": "Jeju_DataPreprocess_03th.ipynb",
      "provenance": [],
      "machine_shape": "hm"
    },
    "kernelspec": {
      "name": "python3",
      "display_name": "Python 3"
    }
  },
  "cells": [
    {
      "cell_type": "markdown",
      "metadata": {
        "id": "5oRdbGw2Ny5F",
        "colab_type": "text"
      },
      "source": [
        "KL-Diversence 적용\n",
        "- 코로나19 발생 이후, 업종들의 통상적인 시계열 특성이 많이 바꼈다. 그렇기때문에,지역별,업종별, 소비자 정보별 19년 소비 분포와 20년 소비 분포의 차이를 분석해 유사도를 뽑아보는 생각에 착안"
      ]
    },
    {
      "cell_type": "code",
      "metadata": {
        "id": "x6RKoUb-0sZD",
        "colab_type": "code",
        "colab": {
          "base_uri": "https://localhost:8080/",
          "height": 52
        },
        "outputId": "e6876c4f-27af-4cb2-87dc-cdb9ea8d6951"
      },
      "source": [
        "import numpy as np\n",
        "import pandas as pd\n",
        "import matplotlib as mpl\n",
        "import matplotlib.pyplot as plt\n",
        "import seaborn as sns\n",
        "import itertools as it\n",
        "import gc\n",
        "\n",
        "import warnings\n",
        "warnings.filterwarnings(action = 'ignore')\n",
        "\n",
        "from scipy.spatial import distance\n",
        "from math import log2\n",
        "from math import sqrt"
      ],
      "execution_count": 1,
      "outputs": [
        {
          "output_type": "stream",
          "text": [
            "/usr/local/lib/python3.6/dist-packages/statsmodels/tools/_testing.py:19: FutureWarning: pandas.util.testing is deprecated. Use the functions in the public API at pandas.testing instead.\n",
            "  import pandas.util.testing as tm\n"
          ],
          "name": "stderr"
        }
      ]
    },
    {
      "cell_type": "code",
      "metadata": {
        "id": "7KsACp7J8MIy",
        "colab_type": "code",
        "colab": {
          "base_uri": "https://localhost:8080/",
          "height": 263
        },
        "outputId": "b6b5db4b-af59-4df8-8bed-c9f2ee11de0b"
      },
      "source": [
        "%config InlineBackend.figure_format = 'retina'\n",
        " \n",
        "!apt -qq -y install fonts-nanum\n",
        " \n",
        "import matplotlib.font_manager as fm\n",
        "fontpath = '/usr/share/fonts/truetype/nanum/NanumBarunGothic.ttf'\n",
        "font = fm.FontProperties(fname=fontpath, size=9)\n",
        "plt.rc('font', family='NanumBarunGothic') \n",
        "mpl.font_manager._rebuild()"
      ],
      "execution_count": 2,
      "outputs": [
        {
          "output_type": "stream",
          "text": [
            "The following package was automatically installed and is no longer required:\n",
            "  libnvidia-common-440\n",
            "Use 'apt autoremove' to remove it.\n",
            "The following NEW packages will be installed:\n",
            "  fonts-nanum\n",
            "0 upgraded, 1 newly installed, 0 to remove and 35 not upgraded.\n",
            "Need to get 9,604 kB of archives.\n",
            "After this operation, 29.5 MB of additional disk space will be used.\n",
            "Selecting previously unselected package fonts-nanum.\n",
            "(Reading database ... 144465 files and directories currently installed.)\n",
            "Preparing to unpack .../fonts-nanum_20170925-1_all.deb ...\n",
            "Unpacking fonts-nanum (20170925-1) ...\n",
            "Setting up fonts-nanum (20170925-1) ...\n",
            "Processing triggers for fontconfig (2.12.6-0ubuntu2) ...\n"
          ],
          "name": "stdout"
        }
      ]
    },
    {
      "cell_type": "code",
      "metadata": {
        "id": "q2eX7beL1BKv",
        "colab_type": "code",
        "colab": {}
      },
      "source": [
        "data = pd.read_csv('/content/drive/My Drive/Colab Notebooks/data/데이콘/제주/train_df_noNAN.csv')\n",
        "sub = pd.read_csv('/content/drive/My Drive/Colab Notebooks/data/데이콘/제주/submission.csv')"
      ],
      "execution_count": 4,
      "outputs": []
    },
    {
      "cell_type": "code",
      "metadata": {
        "id": "QTjgUSod1zMs",
        "colab_type": "code",
        "colab": {
          "base_uri": "https://localhost:8080/",
          "height": 195
        },
        "outputId": "890c3a66-ea4b-44ee-efe2-c093f2c4d424"
      },
      "source": [
        "data.head()"
      ],
      "execution_count": 5,
      "outputs": [
        {
          "output_type": "execute_result",
          "data": {
            "text/html": [
              "<div>\n",
              "<style scoped>\n",
              "    .dataframe tbody tr th:only-of-type {\n",
              "        vertical-align: middle;\n",
              "    }\n",
              "\n",
              "    .dataframe tbody tr th {\n",
              "        vertical-align: top;\n",
              "    }\n",
              "\n",
              "    .dataframe thead th {\n",
              "        text-align: right;\n",
              "    }\n",
              "</style>\n",
              "<table border=\"1\" class=\"dataframe\">\n",
              "  <thead>\n",
              "    <tr style=\"text-align: right;\">\n",
              "      <th></th>\n",
              "      <th>REG_YYMM</th>\n",
              "      <th>CARD_SIDO_NM</th>\n",
              "      <th>CARD_CCG_NM</th>\n",
              "      <th>STD_CLSS_NM</th>\n",
              "      <th>HOM_SIDO_NM</th>\n",
              "      <th>HOM_CCG_NM</th>\n",
              "      <th>AGE</th>\n",
              "      <th>SEX_CTGO_CD</th>\n",
              "      <th>FLC</th>\n",
              "      <th>CSTMR_CNT</th>\n",
              "      <th>AMT</th>\n",
              "      <th>CNT</th>\n",
              "    </tr>\n",
              "  </thead>\n",
              "  <tbody>\n",
              "    <tr>\n",
              "      <th>0</th>\n",
              "      <td>201901</td>\n",
              "      <td>강원</td>\n",
              "      <td>강릉시</td>\n",
              "      <td>건강보조식품 소매업</td>\n",
              "      <td>강원</td>\n",
              "      <td>강릉시</td>\n",
              "      <td>20s</td>\n",
              "      <td>1</td>\n",
              "      <td>1</td>\n",
              "      <td>4</td>\n",
              "      <td>311200</td>\n",
              "      <td>4</td>\n",
              "    </tr>\n",
              "    <tr>\n",
              "      <th>1</th>\n",
              "      <td>201901</td>\n",
              "      <td>강원</td>\n",
              "      <td>강릉시</td>\n",
              "      <td>건강보조식품 소매업</td>\n",
              "      <td>강원</td>\n",
              "      <td>강릉시</td>\n",
              "      <td>30s</td>\n",
              "      <td>1</td>\n",
              "      <td>2</td>\n",
              "      <td>7</td>\n",
              "      <td>1374500</td>\n",
              "      <td>8</td>\n",
              "    </tr>\n",
              "    <tr>\n",
              "      <th>2</th>\n",
              "      <td>201901</td>\n",
              "      <td>강원</td>\n",
              "      <td>강릉시</td>\n",
              "      <td>건강보조식품 소매업</td>\n",
              "      <td>강원</td>\n",
              "      <td>강릉시</td>\n",
              "      <td>30s</td>\n",
              "      <td>2</td>\n",
              "      <td>2</td>\n",
              "      <td>6</td>\n",
              "      <td>818700</td>\n",
              "      <td>6</td>\n",
              "    </tr>\n",
              "    <tr>\n",
              "      <th>3</th>\n",
              "      <td>201901</td>\n",
              "      <td>강원</td>\n",
              "      <td>강릉시</td>\n",
              "      <td>건강보조식품 소매업</td>\n",
              "      <td>강원</td>\n",
              "      <td>강릉시</td>\n",
              "      <td>40s</td>\n",
              "      <td>1</td>\n",
              "      <td>3</td>\n",
              "      <td>4</td>\n",
              "      <td>1717000</td>\n",
              "      <td>5</td>\n",
              "    </tr>\n",
              "    <tr>\n",
              "      <th>4</th>\n",
              "      <td>201901</td>\n",
              "      <td>강원</td>\n",
              "      <td>강릉시</td>\n",
              "      <td>건강보조식품 소매업</td>\n",
              "      <td>강원</td>\n",
              "      <td>강릉시</td>\n",
              "      <td>40s</td>\n",
              "      <td>1</td>\n",
              "      <td>4</td>\n",
              "      <td>3</td>\n",
              "      <td>1047300</td>\n",
              "      <td>3</td>\n",
              "    </tr>\n",
              "  </tbody>\n",
              "</table>\n",
              "</div>"
            ],
            "text/plain": [
              "   REG_YYMM CARD_SIDO_NM CARD_CCG_NM STD_CLSS_NM  ... FLC CSTMR_CNT      AMT  CNT\n",
              "0    201901           강원         강릉시  건강보조식품 소매업  ...   1         4   311200    4\n",
              "1    201901           강원         강릉시  건강보조식품 소매업  ...   2         7  1374500    8\n",
              "2    201901           강원         강릉시  건강보조식품 소매업  ...   2         6   818700    6\n",
              "3    201901           강원         강릉시  건강보조식품 소매업  ...   3         4  1717000    5\n",
              "4    201901           강원         강릉시  건강보조식품 소매업  ...   4         3  1047300    3\n",
              "\n",
              "[5 rows x 12 columns]"
            ]
          },
          "metadata": {
            "tags": []
          },
          "execution_count": 5
        }
      ]
    },
    {
      "cell_type": "markdown",
      "metadata": {
        "id": "vUJk5MgfIRFt",
        "colab_type": "text"
      },
      "source": [
        "우선 AMT 0 row를 만들기 위해 groupby() 문법을 활용하여 데이터 프레임을 새롭게 만들어 보자."
      ]
    },
    {
      "cell_type": "code",
      "metadata": {
        "id": "tYobZG7RMObC",
        "colab_type": "code",
        "colab": {}
      },
      "source": [
        "st_form = data.groupby(['CARD_SIDO_NM','CARD_CCG_NM','STD_CLSS_NM','HOM_SIDO_NM','HOM_CCG_NM','AGE','SEX_CTGO_CD','FLC',])['AMT'].sum().reset_index().drop('AMT',axis=1).copy()"
      ],
      "execution_count": 6,
      "outputs": []
    },
    {
      "cell_type": "code",
      "metadata": {
        "id": "w4aF3YvJP4Rt",
        "colab_type": "code",
        "colab": {}
      },
      "source": [
        "st_form['REG_YYMM'] = 201901\n",
        "st_201901=st_form.copy()\n",
        "st_201901 = st_201901.merge(data[data['REG_YYMM']==201901],\n",
        "                            on=['REG_YYMM','CARD_SIDO_NM','CARD_CCG_NM','STD_CLSS_NM','HOM_SIDO_NM','HOM_CCG_NM','AGE','SEX_CTGO_CD','FLC'],\n",
        "                            how='left')\n",
        "\n",
        "\n",
        "for day in [201902,201903,201904,201905,201906,201907,201908,201909,201910,201911,201912,202001,202002,202003,202004,202007]:\n",
        "  st_form['REG_YYMM'] = day\n",
        "  st_day = st_form.copy()\n",
        "  st_day = st_day.merge(data[data['REG_YYMM']==day],\n",
        "                            on=['REG_YYMM','CARD_SIDO_NM','CARD_CCG_NM','STD_CLSS_NM','HOM_SIDO_NM','HOM_CCG_NM','AGE','SEX_CTGO_CD','FLC'],\n",
        "                            how='left')\n",
        "  st_201901 = pd.concat([st_201901,st_day])\n",
        "  gc.collect()\n",
        "\n",
        "st_all = st_201901.copy()"
      ],
      "execution_count": 7,
      "outputs": []
    },
    {
      "cell_type": "code",
      "metadata": {
        "id": "QhgHZxYVcUhj",
        "colab_type": "code",
        "colab": {
          "base_uri": "https://localhost:8080/",
          "height": 195
        },
        "outputId": "c0ffd07a-0178-43d2-ccfc-df5475152346"
      },
      "source": [
        "st_all.head()"
      ],
      "execution_count": 8,
      "outputs": [
        {
          "output_type": "execute_result",
          "data": {
            "text/html": [
              "<div>\n",
              "<style scoped>\n",
              "    .dataframe tbody tr th:only-of-type {\n",
              "        vertical-align: middle;\n",
              "    }\n",
              "\n",
              "    .dataframe tbody tr th {\n",
              "        vertical-align: top;\n",
              "    }\n",
              "\n",
              "    .dataframe thead th {\n",
              "        text-align: right;\n",
              "    }\n",
              "</style>\n",
              "<table border=\"1\" class=\"dataframe\">\n",
              "  <thead>\n",
              "    <tr style=\"text-align: right;\">\n",
              "      <th></th>\n",
              "      <th>CARD_SIDO_NM</th>\n",
              "      <th>CARD_CCG_NM</th>\n",
              "      <th>STD_CLSS_NM</th>\n",
              "      <th>HOM_SIDO_NM</th>\n",
              "      <th>HOM_CCG_NM</th>\n",
              "      <th>AGE</th>\n",
              "      <th>SEX_CTGO_CD</th>\n",
              "      <th>FLC</th>\n",
              "      <th>REG_YYMM</th>\n",
              "      <th>CSTMR_CNT</th>\n",
              "      <th>AMT</th>\n",
              "      <th>CNT</th>\n",
              "    </tr>\n",
              "  </thead>\n",
              "  <tbody>\n",
              "    <tr>\n",
              "      <th>0</th>\n",
              "      <td>강원</td>\n",
              "      <td>강릉시</td>\n",
              "      <td>건강보조식품 소매업</td>\n",
              "      <td>강원</td>\n",
              "      <td>강릉시</td>\n",
              "      <td>20s</td>\n",
              "      <td>1</td>\n",
              "      <td>1</td>\n",
              "      <td>201901</td>\n",
              "      <td>4.0</td>\n",
              "      <td>311200.0</td>\n",
              "      <td>4.0</td>\n",
              "    </tr>\n",
              "    <tr>\n",
              "      <th>1</th>\n",
              "      <td>강원</td>\n",
              "      <td>강릉시</td>\n",
              "      <td>건강보조식품 소매업</td>\n",
              "      <td>강원</td>\n",
              "      <td>강릉시</td>\n",
              "      <td>20s</td>\n",
              "      <td>2</td>\n",
              "      <td>1</td>\n",
              "      <td>201901</td>\n",
              "      <td>NaN</td>\n",
              "      <td>NaN</td>\n",
              "      <td>NaN</td>\n",
              "    </tr>\n",
              "    <tr>\n",
              "      <th>2</th>\n",
              "      <td>강원</td>\n",
              "      <td>강릉시</td>\n",
              "      <td>건강보조식품 소매업</td>\n",
              "      <td>강원</td>\n",
              "      <td>강릉시</td>\n",
              "      <td>30s</td>\n",
              "      <td>1</td>\n",
              "      <td>2</td>\n",
              "      <td>201901</td>\n",
              "      <td>7.0</td>\n",
              "      <td>1374500.0</td>\n",
              "      <td>8.0</td>\n",
              "    </tr>\n",
              "    <tr>\n",
              "      <th>3</th>\n",
              "      <td>강원</td>\n",
              "      <td>강릉시</td>\n",
              "      <td>건강보조식품 소매업</td>\n",
              "      <td>강원</td>\n",
              "      <td>강릉시</td>\n",
              "      <td>30s</td>\n",
              "      <td>2</td>\n",
              "      <td>2</td>\n",
              "      <td>201901</td>\n",
              "      <td>6.0</td>\n",
              "      <td>818700.0</td>\n",
              "      <td>6.0</td>\n",
              "    </tr>\n",
              "    <tr>\n",
              "      <th>4</th>\n",
              "      <td>강원</td>\n",
              "      <td>강릉시</td>\n",
              "      <td>건강보조식품 소매업</td>\n",
              "      <td>강원</td>\n",
              "      <td>강릉시</td>\n",
              "      <td>40s</td>\n",
              "      <td>1</td>\n",
              "      <td>3</td>\n",
              "      <td>201901</td>\n",
              "      <td>4.0</td>\n",
              "      <td>1717000.0</td>\n",
              "      <td>5.0</td>\n",
              "    </tr>\n",
              "  </tbody>\n",
              "</table>\n",
              "</div>"
            ],
            "text/plain": [
              "  CARD_SIDO_NM CARD_CCG_NM STD_CLSS_NM  ... CSTMR_CNT        AMT  CNT\n",
              "0           강원         강릉시  건강보조식품 소매업  ...       4.0   311200.0  4.0\n",
              "1           강원         강릉시  건강보조식품 소매업  ...       NaN        NaN  NaN\n",
              "2           강원         강릉시  건강보조식품 소매업  ...       7.0  1374500.0  8.0\n",
              "3           강원         강릉시  건강보조식품 소매업  ...       6.0   818700.0  6.0\n",
              "4           강원         강릉시  건강보조식품 소매업  ...       4.0  1717000.0  5.0\n",
              "\n",
              "[5 rows x 12 columns]"
            ]
          },
          "metadata": {
            "tags": []
          },
          "execution_count": 8
        }
      ]
    },
    {
      "cell_type": "code",
      "metadata": {
        "id": "fmjiSWkdKzOJ",
        "colab_type": "code",
        "colab": {
          "base_uri": "https://localhost:8080/",
          "height": 34
        },
        "outputId": "6088fda1-3b1a-4610-f5e0-c038f7dcc436"
      },
      "source": [
        "st_all.shape"
      ],
      "execution_count": 9,
      "outputs": [
        {
          "output_type": "execute_result",
          "data": {
            "text/plain": [
              "(59165355, 12)"
            ]
          },
          "metadata": {
            "tags": []
          },
          "execution_count": 9
        }
      ]
    },
    {
      "cell_type": "code",
      "metadata": {
        "id": "qsnRVTvv_8Ca",
        "colab_type": "code",
        "colab": {
          "base_uri": "https://localhost:8080/",
          "height": 246
        },
        "outputId": "54b4ec30-64e8-4788-d271-bc5a27d758b8"
      },
      "source": [
        "# null 값 확인\n",
        "st_all.isnull().sum()"
      ],
      "execution_count": 10,
      "outputs": [
        {
          "output_type": "execute_result",
          "data": {
            "text/plain": [
              "CARD_SIDO_NM           0\n",
              "CARD_CCG_NM            0\n",
              "STD_CLSS_NM            0\n",
              "HOM_SIDO_NM            0\n",
              "HOM_CCG_NM             0\n",
              "AGE                    0\n",
              "SEX_CTGO_CD            0\n",
              "FLC                    0\n",
              "REG_YYMM               0\n",
              "CSTMR_CNT       34467563\n",
              "AMT             34467563\n",
              "CNT             34467563\n",
              "dtype: int64"
            ]
          },
          "metadata": {
            "tags": []
          },
          "execution_count": 10
        }
      ]
    },
    {
      "cell_type": "code",
      "metadata": {
        "id": "WDGvzorJA_r1",
        "colab_type": "code",
        "colab": {}
      },
      "source": [
        "# null 값 0 삽입\n",
        "st_all.fillna(0,inplace=True)"
      ],
      "execution_count": 11,
      "outputs": []
    },
    {
      "cell_type": "code",
      "metadata": {
        "id": "3j3O_dTsmdir",
        "colab_type": "code",
        "colab": {}
      },
      "source": [
        "# st_all.to_csv('/content/drive/My Drive/Colab Notebooks/data/데이콘/제주/st_all.csv',encoding='utf-8-sig',index=False)"
      ],
      "execution_count": null,
      "outputs": []
    },
    {
      "cell_type": "code",
      "metadata": {
        "id": "VHm7FUv_DU9R",
        "colab_type": "code",
        "colab": {
          "base_uri": "https://localhost:8080/",
          "height": 34
        },
        "outputId": "f5bee046-6d20-4522-b613-465133222448"
      },
      "source": [
        "# train, test 쪼개기\n",
        "\n",
        "train_df = st_all[(st_all['REG_YYMM'] != 202007)&(st_all['REG_YYMM'] != 202004)]\n",
        "test_df = st_all[(st_all['REG_YYMM'] == 202007&(st_all['REG_YYMM'] == 202004))]\n",
        "\n",
        "del st_all\n",
        "gc.collect()"
      ],
      "execution_count": 12,
      "outputs": [
        {
          "output_type": "execute_result",
          "data": {
            "text/plain": [
              "11"
            ]
          },
          "metadata": {
            "tags": []
          },
          "execution_count": 12
        }
      ]
    },
    {
      "cell_type": "markdown",
      "metadata": {
        "id": "73CsKejO12fC",
        "colab_type": "text"
      },
      "source": [
        "---"
      ]
    },
    {
      "cell_type": "markdown",
      "metadata": {
        "id": "oia2D_0MBerp",
        "colab_type": "text"
      },
      "source": [
        "# Jensen-Shannon Divergence "
      ]
    },
    {
      "cell_type": "markdown",
      "metadata": {
        "id": "UfaR0j9OBxhn",
        "colab_type": "text"
      },
      "source": [
        "## 업종별 AMT 유사도"
      ]
    },
    {
      "cell_type": "code",
      "metadata": {
        "id": "t-sNIcwgByrL",
        "colab_type": "code",
        "colab": {}
      },
      "source": [
        "job_amt= train_df.groupby(['REG_YYMM','CARD_SIDO_NM','CARD_CCG_NM','STD_CLSS_NM'])['AMT'].sum().reset_index()"
      ],
      "execution_count": null,
      "outputs": []
    },
    {
      "cell_type": "code",
      "metadata": {
        "id": "70RHd1jOHTYT",
        "colab_type": "code",
        "colab": {}
      },
      "source": [
        "amt_sum = job_amt.groupby(['CARD_SIDO_NM','CARD_CCG_NM','STD_CLSS_NM'])['AMT'].sum().reset_index(name='AMT_sum')\n",
        "job_amt = job_amt.merge(amt_sum,on=['CARD_SIDO_NM','CARD_CCG_NM','STD_CLSS_NM'],how='left')\n",
        "job_amt['AMT_prob'] = job_amt['AMT']/job_amt['AMT_sum']\n",
        "\n",
        "# pivot_table을 활용하여 long to wide 작업 실시\n",
        "amt_pivot= pd.pivot_table(job_amt,\n",
        "                          index=['CARD_SIDO_NM','CARD_CCG_NM','STD_CLSS_NM'],\n",
        "                          columns='REG_YYMM',\n",
        "                          values='AMT_prob').reset_index()\n",
        "amt_pivot.fillna(0,inplace=True)"
      ],
      "execution_count": null,
      "outputs": []
    },
    {
      "cell_type": "code",
      "metadata": {
        "id": "-U6YkXrCgC_o",
        "colab_type": "code",
        "colab": {}
      },
      "source": [
        "amt_array=np.array(amt_pivot.drop(['CARD_SIDO_NM','CARD_CCG_NM','STD_CLSS_NM'],axis=1))\n",
        "\n",
        "job_similarity =[]\n",
        "for row_r in range(amt_array.shape[0]):\n",
        "    if row_r%100 ==0 and row_r !=0:\n",
        "        print(row_r)\n",
        "        \n",
        "    dt_list=[]\n",
        "    for row_c in range(amt_array.shape[0]):\n",
        "        #dt= js_divergence(amt_pivot.iloc[row_r,3:].values,amt_pivot.iloc[row_c,3:].values)\n",
        "        '''\n",
        "        js_divergence(만든 함수)로 하면 0값을 계산을 못함. \n",
        "        sqrt(js_divergence)인 distance.jensenshannon 함수 사용\n",
        "        '''\n",
        "        dt = distance.jensenshannon(amt_array[row_r,:],amt_array[row_c,:],2.0)\n",
        "        dt_list.append(dt)\n",
        "    job_similarity.append(dt_list)\n",
        "\n",
        "similarity_frame =pd.DataFrame(np.array(job_similarity))\n",
        "job_similarity = pd.concat([amt_pivot[['CARD_SIDO_NM','CARD_CCG_NM','STD_CLSS_NM']],similarity_frame],axis=1)j\n",
        "\n",
        "job_similarity.to_csv('/content/drive/My Drive/Colab Notebooks/data/데이콘/제주/job_similarity.csv',encoding='utf-8-sig',index=False)"
      ],
      "execution_count": null,
      "outputs": []
    },
    {
      "cell_type": "markdown",
      "metadata": {
        "id": "8WS0yL_s5U_8",
        "colab_type": "text"
      },
      "source": [
        "## 소비자별 AMT 유사도\n",
        "- 메모리 과부하때문에 업종별 AMT 유사도는 같이 실행 X (전에 실행완료)\n"
      ]
    },
    {
      "cell_type": "code",
      "metadata": {
        "id": "mtBK32qLigMh",
        "colab_type": "code",
        "colab": {}
      },
      "source": [
        "customer_amt= train_df.groupby(['REG_YYMM','HOM_SIDO_NM','HOM_CCG_NM','AGE', 'SEX_CTGO_CD','FLC'])['AMT'].sum().reset_index()"
      ],
      "execution_count": null,
      "outputs": []
    },
    {
      "cell_type": "code",
      "metadata": {
        "id": "UTxX0F1fgrDO",
        "colab_type": "code",
        "colab": {}
      },
      "source": [
        "amt_sum = customer_amt.groupby(['HOM_SIDO_NM','HOM_CCG_NM','AGE', 'SEX_CTGO_CD','FLC'])['AMT'].sum().reset_index(name='AMT_sum')\n",
        "customer_amt = customer_amt.merge(amt_sum,on=['HOM_SIDO_NM','HOM_CCG_NM','AGE','SEX_CTGO_CD','FLC'],how='left')\n",
        "customer_amt['AMT_prob'] = customer_amt['AMT']/customer_amt['AMT_sum']\n",
        "# pivot_table을 활용하여 long to wide 작업 실시\n",
        "amt_pivot= pd.pivot_table(customer_amt,\n",
        "                          index=['HOM_SIDO_NM','HOM_CCG_NM','AGE','SEX_CTGO_CD','FLC'],\n",
        "                          columns='REG_YYMM',\n",
        "                          values='AMT_prob').reset_index()\n",
        "amt_pivot.fillna(0,inplace=True)"
      ],
      "execution_count": 14,
      "outputs": []
    },
    {
      "cell_type": "code",
      "metadata": {
        "id": "D6P6RkpfhDAc",
        "colab_type": "code",
        "colab": {}
      },
      "source": [
        "#피벗된 연도별 amt를 사용해 고객간의 유사도를 구해보자.\n",
        "amt_array=np.array(amt_pivot.drop(['HOM_SIDO_NM','HOM_CCG_NM','AGE', 'SEX_CTGO_CD','FLC'],axis=1))\n",
        "\n",
        "customer_similarity =[]\n",
        "for row_r in range(amt_array.shape[0]):\n",
        "    if row_r%100 ==0 and row_r !=0:\n",
        "        print(row_r)\n",
        "        \n",
        "    dt_list=[]\n",
        "    for row_c in range(amt_array.shape[0]):\n",
        "        #dt= js_divergence(amt_pivot.iloc[row_r,3:].values,amt_pivot.iloc[row_c,3:].values)\n",
        "        '''\n",
        "        js_divergence(만든 함수)로 하면 0값을 계산을 못함. \n",
        "        sqrt(js_divergence)인 distance.jensenshannon 함수 사용\n",
        "        '''\n",
        "        dt = distance.jensenshannon(amt_array[row_r,:],amt_array[row_c,:],2.0)\n",
        "        dt_list.append(dt)\n",
        "    customer_similarity.append(dt_list)\n",
        "\n",
        "customer_frame =pd.DataFrame(np.array(customer_similarity))\n",
        "customer_similarity = pd.concat([amt_pivot,customer_frame],axis=1)\n",
        "\n",
        "customer_similarity.to_csv('/content/drive/My Drive/Colab Notebooks/data/데이콘/제주/customer_similarity.csv',encoding='utf-8-sig',index=False)"
      ],
      "execution_count": null,
      "outputs": []
    }
  ]
}